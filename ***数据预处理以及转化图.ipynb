{
  "nbformat": 4,
  "nbformat_minor": 0,
  "metadata": {
    "colab": {
      "provenance": [],
      "authorship_tag": "ABX9TyMIokiNTOEEsI4eppixA643",
      "include_colab_link": true
    },
    "kernelspec": {
      "name": "python3",
      "display_name": "Python 3"
    },
    "language_info": {
      "name": "python"
    }
  },
  "cells": [
    {
      "cell_type": "markdown",
      "metadata": {
        "id": "view-in-github",
        "colab_type": "text"
      },
      "source": [
        "<a href=\"https://colab.research.google.com/github/sggyuan/GNN/blob/main/***%E6%95%B0%E6%8D%AE%E9%A2%84%E5%A4%84%E7%90%86%E4%BB%A5%E5%8F%8A%E8%BD%AC%E5%8C%96%E5%9B%BE.ipynb\" target=\"_parent\"><img src=\"https://colab.research.google.com/assets/colab-badge.svg\" alt=\"Open In Colab\"/></a>"
      ]
    },
    {
      "cell_type": "code",
      "source": [
        "!pip install torch-geometric"
      ],
      "metadata": {
        "colab": {
          "base_uri": "https://localhost:8080/"
        },
        "id": "SxNLyusPdjxx",
        "outputId": "4c87824d-2b65-4aa7-ebe7-99ee5f1e61a5"
      },
      "execution_count": 1,
      "outputs": [
        {
          "output_type": "stream",
          "name": "stdout",
          "text": [
            "Collecting torch-geometric\n",
            "  Downloading torch_geometric-2.5.3-py3-none-any.whl.metadata (64 kB)\n",
            "\u001b[?25l     \u001b[90m━━━━━━━━━━━━━━━━━━━━━━━━━━━━━━━━━━━━━━━━\u001b[0m \u001b[32m0.0/64.2 kB\u001b[0m \u001b[31m?\u001b[0m eta \u001b[36m-:--:--\u001b[0m\r\u001b[2K     \u001b[90m━━━━━━━━━━━━━━━━━━━━━━━━━━━━━━━━━━━━━━━━\u001b[0m \u001b[32m64.2/64.2 kB\u001b[0m \u001b[31m1.6 MB/s\u001b[0m eta \u001b[36m0:00:00\u001b[0m\n",
            "\u001b[?25hRequirement already satisfied: tqdm in /usr/local/lib/python3.10/dist-packages (from torch-geometric) (4.66.5)\n",
            "Requirement already satisfied: numpy in /usr/local/lib/python3.10/dist-packages (from torch-geometric) (1.26.4)\n",
            "Requirement already satisfied: scipy in /usr/local/lib/python3.10/dist-packages (from torch-geometric) (1.13.1)\n",
            "Requirement already satisfied: fsspec in /usr/local/lib/python3.10/dist-packages (from torch-geometric) (2024.6.1)\n",
            "Requirement already satisfied: jinja2 in /usr/local/lib/python3.10/dist-packages (from torch-geometric) (3.1.4)\n",
            "Requirement already satisfied: aiohttp in /usr/local/lib/python3.10/dist-packages (from torch-geometric) (3.10.5)\n",
            "Requirement already satisfied: requests in /usr/local/lib/python3.10/dist-packages (from torch-geometric) (2.32.3)\n",
            "Requirement already satisfied: pyparsing in /usr/local/lib/python3.10/dist-packages (from torch-geometric) (3.1.4)\n",
            "Requirement already satisfied: scikit-learn in /usr/local/lib/python3.10/dist-packages (from torch-geometric) (1.3.2)\n",
            "Requirement already satisfied: psutil>=5.8.0 in /usr/local/lib/python3.10/dist-packages (from torch-geometric) (5.9.5)\n",
            "Requirement already satisfied: aiohappyeyeballs>=2.3.0 in /usr/local/lib/python3.10/dist-packages (from aiohttp->torch-geometric) (2.4.0)\n",
            "Requirement already satisfied: aiosignal>=1.1.2 in /usr/local/lib/python3.10/dist-packages (from aiohttp->torch-geometric) (1.3.1)\n",
            "Requirement already satisfied: attrs>=17.3.0 in /usr/local/lib/python3.10/dist-packages (from aiohttp->torch-geometric) (24.2.0)\n",
            "Requirement already satisfied: frozenlist>=1.1.1 in /usr/local/lib/python3.10/dist-packages (from aiohttp->torch-geometric) (1.4.1)\n",
            "Requirement already satisfied: multidict<7.0,>=4.5 in /usr/local/lib/python3.10/dist-packages (from aiohttp->torch-geometric) (6.0.5)\n",
            "Requirement already satisfied: yarl<2.0,>=1.0 in /usr/local/lib/python3.10/dist-packages (from aiohttp->torch-geometric) (1.9.4)\n",
            "Requirement already satisfied: async-timeout<5.0,>=4.0 in /usr/local/lib/python3.10/dist-packages (from aiohttp->torch-geometric) (4.0.3)\n",
            "Requirement already satisfied: MarkupSafe>=2.0 in /usr/local/lib/python3.10/dist-packages (from jinja2->torch-geometric) (2.1.5)\n",
            "Requirement already satisfied: charset-normalizer<4,>=2 in /usr/local/lib/python3.10/dist-packages (from requests->torch-geometric) (3.3.2)\n",
            "Requirement already satisfied: idna<4,>=2.5 in /usr/local/lib/python3.10/dist-packages (from requests->torch-geometric) (3.8)\n",
            "Requirement already satisfied: urllib3<3,>=1.21.1 in /usr/local/lib/python3.10/dist-packages (from requests->torch-geometric) (2.0.7)\n",
            "Requirement already satisfied: certifi>=2017.4.17 in /usr/local/lib/python3.10/dist-packages (from requests->torch-geometric) (2024.8.30)\n",
            "Requirement already satisfied: joblib>=1.1.1 in /usr/local/lib/python3.10/dist-packages (from scikit-learn->torch-geometric) (1.4.2)\n",
            "Requirement already satisfied: threadpoolctl>=2.0.0 in /usr/local/lib/python3.10/dist-packages (from scikit-learn->torch-geometric) (3.5.0)\n",
            "Downloading torch_geometric-2.5.3-py3-none-any.whl (1.1 MB)\n",
            "\u001b[2K   \u001b[90m━━━━━━━━━━━━━━━━━━━━━━━━━━━━━━━━━━━━━━━━\u001b[0m \u001b[32m1.1/1.1 MB\u001b[0m \u001b[31m16.9 MB/s\u001b[0m eta \u001b[36m0:00:00\u001b[0m\n",
            "\u001b[?25hInstalling collected packages: torch-geometric\n",
            "Successfully installed torch-geometric-2.5.3\n"
          ]
        }
      ]
    },
    {
      "cell_type": "code",
      "execution_count": 2,
      "metadata": {
        "id": "aHfDZoNnc1j2"
      },
      "outputs": [],
      "source": [
        "import pandas as pd\n",
        "import numpy as np\n",
        "import matplotlib.pyplot as plt\n",
        "from collections import Counter\n",
        "from sklearn.model_selection import train_test_split\n",
        "from sklearn.preprocessing import LabelEncoder\n",
        "import networkx as nx\n",
        "import torch\n",
        "import torch.nn as nn\n",
        "import torch.nn.functional as F"
      ]
    },
    {
      "cell_type": "code",
      "source": [
        "from google.colab import drive\n",
        "drive.mount('/content/drive')"
      ],
      "metadata": {
        "colab": {
          "base_uri": "https://localhost:8080/"
        },
        "id": "I-nyI5egc3nt",
        "outputId": "0d290feb-92b5-402e-8633-080f54cc499a"
      },
      "execution_count": 3,
      "outputs": [
        {
          "output_type": "stream",
          "name": "stdout",
          "text": [
            "Mounted at /content/drive\n"
          ]
        }
      ]
    },
    {
      "cell_type": "code",
      "source": [
        "df = pd.read_csv('/content/drive/My Drive/subset10w.csv')"
      ],
      "metadata": {
        "id": "Pp0B7sQ6c32A"
      },
      "execution_count": 4,
      "outputs": []
    },
    {
      "cell_type": "code",
      "source": [
        "df[\"card_id\"] = df[\"User\"].astype(str) + \"_\" + df[\"Card\"].astype(str)\n",
        "df[\"Amount\"]=df[\"Amount\"].str.replace(\"$\",\"\").astype(float)\n",
        "df[\"Hour\"] = df[\"Time\"].str [0:2]\n",
        "df[\"Minute\"] = df[\"Time\"].str [3:5]\n",
        "df = df.drop([\"Time\",\"User\",\"Card\"],axis=1)\n",
        "df[\"Errors?\"]= df[\"Errors?\"].fillna(\"No error\")\n",
        "df = df.drop(columns=[\"Merchant State\",\"Zip\",\"Apartment\"],axis=1)\n",
        "df[\"Is Fraud?\"] = df[\"Is Fraud?\"].apply(lambda x: 1 if x == 'Yes' else 0)\n",
        "df['Per Capita Income - Zipcode'] = df['Per Capita Income - Zipcode'].str.replace('$', '').astype(float)\n",
        "df['Yearly Income - Person'] = df['Yearly Income - Person'].str.replace('$', '').astype(float)\n",
        "df['Total Debt'] = df['Total Debt'].str.replace('$', '').astype(float)\n",
        "categorical_columns = ['Merchant City', 'Errors?' , 'Person', 'Address', 'City', 'State']\n",
        "\n",
        "le = LabelEncoder()\n",
        "for col in categorical_columns:\n",
        "    df[col] = le.fit_transform(df[col].astype(str))\n",
        "\n",
        "gender_encoded = pd.get_dummies(df['Gender'], prefix='Gender')\n",
        "df = pd.concat([df, gender_encoded], axis=1)\n",
        "df = df.drop(['Gender'], axis=1)\n",
        "\n",
        "bool_columns = df.select_dtypes(include=['bool']).columns\n",
        "for col in bool_columns:\n",
        "    df[col] = df[col].astype(int)\n",
        "\n",
        "df[\"Use Chip\"]=LabelEncoder().fit_transform(df[\"Use Chip\"])"
      ],
      "metadata": {
        "id": "NfAYX1aMc6-I"
      },
      "execution_count": 5,
      "outputs": []
    },
    {
      "cell_type": "code",
      "source": [
        "import pandas as pd\n",
        "\n",
        "# List of all categorical columns to be one-hot encoded\n",
        "categorical_columns = ['Merchant City', 'Errors?', 'Person', 'Address', 'City', 'State', 'Use Chip']\n",
        "\n",
        "# Apply one-hot encoding to all specified categorical columns\n",
        "df_encoded = pd.get_dummies(df, columns=categorical_columns, prefix=categorical_columns)\n",
        "\n",
        "# Convert boolean columns to integers\n",
        "bool_columns = df.select_dtypes(include=['bool']).columns\n",
        "for col in bool_columns:\n",
        "    df_encoded[col] = df_encoded[col].astype(int)\n",
        "\n",
        "print(df_encoded.head())\n",
        "print(df_encoded.shape)"
      ],
      "metadata": {
        "colab": {
          "base_uri": "https://localhost:8080/"
        },
        "id": "HYgN636oC7KF",
        "outputId": "6b647e62-35de-4497-d4f3-e1f0a74c2cc0"
      },
      "execution_count": 8,
      "outputs": [
        {
          "output_type": "stream",
          "name": "stdout",
          "text": [
            "   Year  Month  Day  Amount        Merchant Name   MCC  Is Fraud?  \\\n",
            "0  2018      8    8   86.89 -5162038175624867091  5541          0   \n",
            "1  2010      9   28    1.91  6091778774361517457  5411          0   \n",
            "2  2009      2   23   13.82  2027553650310142703  5541          0   \n",
            "3  2013     12   10   15.34 -4317138273541964845  5211          0   \n",
            "4  2013     11   30   14.82 -5581123930363301609  5311          0   \n",
            "\n",
            "   Current Age  Retirement Age  Birth Year  ...  State_44  State_45  State_46  \\\n",
            "0           57              66        1962  ...     False     False     False   \n",
            "1           66              69        1954  ...     False     False     False   \n",
            "2           49              59        1970  ...     False     False     False   \n",
            "3           33              67        1986  ...     False     False     False   \n",
            "4           40              70        1979  ...     False     False     False   \n",
            "\n",
            "   State_47  State_48  State_49  State_50  Use Chip_0  Use Chip_1 Use Chip_2  \n",
            "0     False     False     False     False        True       False      False  \n",
            "1     False     False     False     False       False       False       True  \n",
            "2     False     False     False     False       False       False       True  \n",
            "3     False     False     False     False       False       False       True  \n",
            "4     False     False     False     False       False       False       True  \n",
            "\n",
            "[5 rows x 9917 columns]\n",
            "(100000, 9917)\n"
          ]
        }
      ]
    },
    {
      "cell_type": "code",
      "source": [
        "# Create an empty graph\n",
        "G = nx.MultiGraph()\n",
        "\n",
        "# Add nodes to the graph for each unique card_id, merchant_name\n",
        "G.add_nodes_from(df[\"card_id\"].unique(), type='card_id')\n",
        "G.add_nodes_from(df[\"Merchant Name\"].unique(), type='merchant_name')\n",
        "\n",
        "# Add nodes to the graph for each unique card_id and merchant_name\n",
        "for _, row in df.iterrows():\n",
        "    # Add card_id node with its properties\n",
        "    G.add_node(row['card_id'],\n",
        "               person=row['Person'],\n",
        "               current_age=row['Current Age'],\n",
        "               retirement_age=row['Retirement Age'],\n",
        "               birth_year=row['Birth Year'],\n",
        "               birth_month=row['Birth Month'],\n",
        "               gender_0=row['Gender_Female'],\n",
        "               gender_1=row['Gender_Male'],\n",
        "               address=row['Address'],\n",
        "               city=row['City'],\n",
        "               state=row['State'],\n",
        "               zipcode=row['Zipcode'],\n",
        "               latitude=row['Latitude'],\n",
        "               longitude=row['Longitude'],\n",
        "               per_capita_income=row['Per Capita Income - Zipcode'],\n",
        "               yearly_income=row['Yearly Income - Person'],\n",
        "               total_debt=row['Total Debt'],\n",
        "               fico_score=row['FICO Score'],\n",
        "               num_credit_cards=row['Num Credit Cards'])\n",
        "\n",
        "\n",
        "     # Add merchant_name node with its properties\n",
        "    G.add_node(row['Merchant Name'],\n",
        "               merchant_city=row['Merchant City'],\n",
        "               mcc=row['MCC'])\n",
        "\n",
        "# Add edges and properties to the edges\n",
        "for _, row in df.iterrows():\n",
        "    G.add_edge(row['card_id'], row['Merchant Name'],\n",
        "               year=row['Year'],\n",
        "               month=row['Month'],\n",
        "               day=row['Day'],\n",
        "               hour=row['Hour'],\n",
        "               minute=row['Minute'],\n",
        "               amount=row['Amount'],\n",
        "               use_chip=row['Use Chip'],\n",
        "               errors=row['Errors?'],\n",
        "               is_fraud=row['Is Fraud?'])"
      ],
      "metadata": {
        "id": "sLClTzsPdlLH"
      },
      "execution_count": 6,
      "outputs": []
    },
    {
      "cell_type": "code",
      "source": [],
      "metadata": {
        "id": "HSKdKT1XGfMA"
      },
      "execution_count": null,
      "outputs": []
    },
    {
      "cell_type": "code",
      "source": [
        "df.info()"
      ],
      "metadata": {
        "colab": {
          "base_uri": "https://localhost:8080/"
        },
        "id": "9saH2jNLCzSA",
        "outputId": "82368d4a-e719-42b2-f307-5a1bf6c277bb"
      },
      "execution_count": 6,
      "outputs": [
        {
          "output_type": "stream",
          "name": "stdout",
          "text": [
            "<class 'pandas.core.frame.DataFrame'>\n",
            "RangeIndex: 100000 entries, 0 to 99999\n",
            "Data columns (total 31 columns):\n",
            " #   Column                       Non-Null Count   Dtype  \n",
            "---  ------                       --------------   -----  \n",
            " 0   Year                         100000 non-null  int64  \n",
            " 1   Month                        100000 non-null  int64  \n",
            " 2   Day                          100000 non-null  int64  \n",
            " 3   Amount                       100000 non-null  float64\n",
            " 4   Use Chip                     100000 non-null  int64  \n",
            " 5   Merchant Name                100000 non-null  int64  \n",
            " 6   Merchant City                100000 non-null  int64  \n",
            " 7   MCC                          100000 non-null  int64  \n",
            " 8   Errors?                      100000 non-null  int64  \n",
            " 9   Is Fraud?                    100000 non-null  int64  \n",
            " 10  Person                       100000 non-null  int64  \n",
            " 11  Current Age                  100000 non-null  int64  \n",
            " 12  Retirement Age               100000 non-null  int64  \n",
            " 13  Birth Year                   100000 non-null  int64  \n",
            " 14  Birth Month                  100000 non-null  int64  \n",
            " 15  Address                      100000 non-null  int64  \n",
            " 16  City                         100000 non-null  int64  \n",
            " 17  State                        100000 non-null  int64  \n",
            " 18  Zipcode                      100000 non-null  int64  \n",
            " 19  Latitude                     100000 non-null  float64\n",
            " 20  Longitude                    100000 non-null  float64\n",
            " 21  Per Capita Income - Zipcode  100000 non-null  float64\n",
            " 22  Yearly Income - Person       100000 non-null  float64\n",
            " 23  Total Debt                   100000 non-null  float64\n",
            " 24  FICO Score                   100000 non-null  int64  \n",
            " 25  Num Credit Cards             100000 non-null  int64  \n",
            " 26  card_id                      100000 non-null  object \n",
            " 27  Hour                         100000 non-null  object \n",
            " 28  Minute                       100000 non-null  object \n",
            " 29  Gender_Female                100000 non-null  int64  \n",
            " 30  Gender_Male                  100000 non-null  int64  \n",
            "dtypes: float64(6), int64(22), object(3)\n",
            "memory usage: 23.7+ MB\n"
          ]
        }
      ]
    },
    {
      "cell_type": "code",
      "source": [
        "import torch\n",
        "from torch_geometric.data import Data\n",
        "import networkx as nx\n",
        "\n",
        "def convert_to_pyg(G):\n",
        "    node_features = []\n",
        "    node_mapping = {}\n",
        "\n",
        "    # 定义卡片节点和商家节点的特征列表\n",
        "    card_features = ['current_age', 'retirement_age', 'birth_year', 'birth_month', 'gender_0', 'gender_1',\n",
        "                     'per_capita_income', 'yearly_income', 'total_debt', 'fico_score', 'num_credit_cards']\n",
        "    merchant_features = ['mcc']\n",
        "\n",
        "    # 获取所有可能的特征\n",
        "    all_features = card_features + merchant_features + ['is_card']  # 'is_card' 是类型标志位\n",
        "\n",
        "    for i, (node, data) in enumerate(G.nodes(data=True)):\n",
        "        node_mapping[node] = i\n",
        "        features = []\n",
        "\n",
        "        if 'person' in data:  # 卡片节点\n",
        "            features = [float(data.get(f, 0)) for f in card_features]\n",
        "            features += [0] * len(merchant_features)  # 填充商家特征\n",
        "            features.append(1)  # 标记为卡片节点\n",
        "        else:  # 商家节点\n",
        "            features = [0] * len(card_features)  # 填充卡片特征\n",
        "            features += [float(data.get(f, 0)) for f in merchant_features]\n",
        "            features.append(0)  # 标记为商家节点\n",
        "\n",
        "        node_features.append(features)\n",
        "\n",
        "    # 创建边索引和边属性\n",
        "    edge_index = []\n",
        "    edge_attr = []\n",
        "    for source, target, data in G.edges(data=True):\n",
        "        edge_index.append([node_mapping[source], node_mapping[target]])\n",
        "        edge_attr.append([\n",
        "            float(data.get('year', 0)), float(data.get('month', 0)), float(data.get('day', 0)),\n",
        "            float(data.get('hour', 0)), float(data.get('minute', 0)),\n",
        "            float(data.get('amount', 0)), float(data.get('use_chip', 0)), float(data.get('errors', 0))\n",
        "        ])\n",
        "\n",
        "    # 创建 PyG 数据对象\n",
        "    x = torch.FloatTensor(node_features)\n",
        "    edge_index = torch.LongTensor(edge_index).t().contiguous()\n",
        "    edge_attr = torch.FloatTensor(edge_attr)\n",
        "    y = torch.LongTensor([int(data.get('is_fraud', 0)) for _, _, data in G.edges(data=True)])\n",
        "\n",
        "    return Data(x=x, edge_index=edge_index, edge_attr=edge_attr, y=y)\n",
        "\n",
        "# 转换 NetworkX 图为 PyG 数据\n",
        "data = convert_to_pyg(G)\n",
        "print(data)\n",
        "\n",
        "# 打印特征维度以验证\n",
        "print(f\"Node feature dimensions: {data.x.shape}\")"
      ],
      "metadata": {
        "colab": {
          "base_uri": "https://localhost:8080/"
        },
        "id": "7nPU9LmUTqqK",
        "outputId": "da52cf6b-c48b-46a4-a67b-84240ffc9d87"
      },
      "execution_count": 7,
      "outputs": [
        {
          "output_type": "stream",
          "name": "stdout",
          "text": [
            "Data(x=[16283, 13], edge_index=[2, 100000], edge_attr=[100000, 8], y=[100000])\n",
            "Node feature dimensions: torch.Size([16283, 13])\n"
          ]
        }
      ]
    },
    {
      "cell_type": "code",
      "source": [
        "print(\"PyG Data object:\", data)\n",
        "\n",
        "torch.save(data, '/content/drive/MyDrive/my_graph_data-bal.pt')"
      ],
      "metadata": {
        "colab": {
          "base_uri": "https://localhost:8080/"
        },
        "id": "0VbLY9KiUGmS",
        "outputId": "97200bba-e641-4923-f981-d137c84e7e07"
      },
      "execution_count": 8,
      "outputs": [
        {
          "output_type": "stream",
          "name": "stdout",
          "text": [
            "PyG Data object: Data(x=[16283, 13], edge_index=[2, 100000], edge_attr=[100000, 8], y=[100000])\n"
          ]
        }
      ]
    },
    {
      "cell_type": "code",
      "source": [],
      "metadata": {
        "id": "KgCwh8LGUXnX"
      },
      "execution_count": null,
      "outputs": []
    }
  ]
}