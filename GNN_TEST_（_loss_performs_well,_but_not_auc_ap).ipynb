{
  "cells": [
    {
      "cell_type": "markdown",
      "metadata": {
        "id": "view-in-github",
        "colab_type": "text"
      },
      "source": [
        "<a href=\"https://colab.research.google.com/github/sggyuan/GNN/blob/main/GNN_TEST_%EF%BC%88_loss_performs_well%2C_but_not_auc_ap).ipynb\" target=\"_parent\"><img src=\"https://colab.research.google.com/assets/colab-badge.svg\" alt=\"Open In Colab\"/></a>"
      ]
    },
    {
      "cell_type": "markdown",
      "id": "e046a4ad",
      "metadata": {
        "id": "e046a4ad"
      },
      "source": [
        "# GNN for Credit Default Ddetection"
      ]
    },
    {
      "cell_type": "code",
      "execution_count": 1,
      "id": "39802f0d",
      "metadata": {
        "id": "39802f0d"
      },
      "outputs": [],
      "source": [
        "import pandas as pd\n",
        "import numpy as np\n",
        "import matplotlib.pyplot as plt\n",
        "from collections import Counter\n",
        "from sklearn.model_selection import train_test_split\n",
        "from sklearn.preprocessing import LabelEncoder\n",
        "import networkx as nx\n",
        "import torch\n",
        "import torch.nn as nn\n",
        "import torch.nn.functional as F"
      ]
    },
    {
      "cell_type": "code",
      "execution_count": 2,
      "id": "vImXphkMiRW0",
      "metadata": {
        "colab": {
          "base_uri": "https://localhost:8080/"
        },
        "id": "vImXphkMiRW0",
        "outputId": "ba34b690-6498-4381-fb6e-9c1125e5390a"
      },
      "outputs": [
        {
          "output_type": "stream",
          "name": "stdout",
          "text": [
            "Mounted at /content/drive\n"
          ]
        }
      ],
      "source": [
        "from google.colab import drive\n",
        "drive.mount('/content/drive')"
      ]
    },
    {
      "cell_type": "markdown",
      "id": "e4cfbb3e",
      "metadata": {
        "id": "e4cfbb3e"
      },
      "source": [
        "## Data Preprocessing"
      ]
    },
    {
      "cell_type": "code",
      "execution_count": 3,
      "id": "2458b552",
      "metadata": {
        "id": "2458b552"
      },
      "outputs": [],
      "source": [
        "df = pd.read_csv('/content/drive/My Drive/credit_card_transactions-ibm_v2.csv').sample(n=100000, random_state=42)"
      ]
    },
    {
      "cell_type": "code",
      "execution_count": 4,
      "id": "6928b2ff",
      "metadata": {
        "colab": {
          "base_uri": "https://localhost:8080/"
        },
        "id": "6928b2ff",
        "outputId": "27dc8145-8c08-4d7c-ba9e-61fcdd97c8b1"
      },
      "outputs": [
        {
          "output_type": "stream",
          "name": "stdout",
          "text": [
            "<class 'pandas.core.frame.DataFrame'>\n",
            "Index: 100000 entries, 18199893 to 4816941\n",
            "Data columns (total 15 columns):\n",
            " #   Column          Non-Null Count   Dtype  \n",
            "---  ------          --------------   -----  \n",
            " 0   User            100000 non-null  int64  \n",
            " 1   Card            100000 non-null  int64  \n",
            " 2   Year            100000 non-null  int64  \n",
            " 3   Month           100000 non-null  int64  \n",
            " 4   Day             100000 non-null  int64  \n",
            " 5   Time            100000 non-null  object \n",
            " 6   Amount          100000 non-null  object \n",
            " 7   Use Chip        100000 non-null  object \n",
            " 8   Merchant Name   100000 non-null  int64  \n",
            " 9   Merchant City   100000 non-null  object \n",
            " 10  Merchant State  88782 non-null   object \n",
            " 11  Zip             88134 non-null   float64\n",
            " 12  MCC             100000 non-null  int64  \n",
            " 13  Errors?         1576 non-null    object \n",
            " 14  Is Fraud?       100000 non-null  object \n",
            "dtypes: float64(1), int64(7), object(7)\n",
            "memory usage: 12.2+ MB\n"
          ]
        }
      ],
      "source": [
        "\n",
        "df.info()"
      ]
    },
    {
      "cell_type": "code",
      "execution_count": 5,
      "id": "e2f1a627",
      "metadata": {
        "colab": {
          "base_uri": "https://localhost:8080/"
        },
        "id": "e2f1a627",
        "outputId": "f476beba-6470-451b-834e-e2fe19a7a7ac"
      },
      "outputs": [
        {
          "output_type": "execute_result",
          "data": {
            "text/plain": [
              "(117, 15)"
            ]
          },
          "metadata": {},
          "execution_count": 5
        }
      ],
      "source": [
        "df [df['Is Fraud?'] == 'Yes'].shape"
      ]
    },
    {
      "cell_type": "code",
      "execution_count": 6,
      "id": "96662fbe",
      "metadata": {
        "colab": {
          "base_uri": "https://localhost:8080/",
          "height": 840
        },
        "id": "96662fbe",
        "outputId": "8b012070-b742-4562-8430-da0b52a557ce"
      },
      "outputs": [
        {
          "output_type": "execute_result",
          "data": {
            "text/plain": [
              "([0, 1, 2, 3, 4, 5, 6, 7, 8, 9, 10, 11, 12, 13, 14],\n",
              " [Text(0, 0, 'Errors?'),\n",
              "  Text(1, 0, 'Zip'),\n",
              "  Text(2, 0, 'Merchant State'),\n",
              "  Text(3, 0, 'User'),\n",
              "  Text(4, 0, 'Card'),\n",
              "  Text(5, 0, 'Year'),\n",
              "  Text(6, 0, 'Month'),\n",
              "  Text(7, 0, 'Day'),\n",
              "  Text(8, 0, 'Time'),\n",
              "  Text(9, 0, 'Amount'),\n",
              "  Text(10, 0, 'Use Chip'),\n",
              "  Text(11, 0, 'Merchant Name'),\n",
              "  Text(12, 0, 'Merchant City'),\n",
              "  Text(13, 0, 'MCC'),\n",
              "  Text(14, 0, 'Is Fraud?')])"
            ]
          },
          "metadata": {},
          "execution_count": 6
        },
        {
          "output_type": "display_data",
          "data": {
            "text/plain": [
              "<Figure size 640x480 with 1 Axes>"
            ],
            "image/png": "[encoded data removed]"
          },
          "metadata": {}
        }
      ],
      "source": [
        "percent_missing=(df.isnull().sum()*100/df.shape[0]).sort_values(ascending=True)\n",
        "plt.title(\"Missing Value Analysis\")\n",
        "plt.xlabel(\"Features\")\n",
        "plt.ylabel(\"% of missing values\")\n",
        "plt.bar(percent_missing.sort_values(ascending=False).index,percent_missing.sort_values(ascending=False),color=(0.1, 0.1, 0.1, 0.1),edgecolor='blue')\n",
        "plt.xticks(rotation=90)"
      ]
    },
    {
      "cell_type": "code",
      "execution_count": 7,
      "id": "9691c619",
      "metadata": {
        "id": "9691c619"
      },
      "outputs": [],
      "source": [
        "df[\"card_id\"] = df[\"User\"].astype(str) + \"_\" + df[\"Card\"].astype(str)"
      ]
    },
    {
      "cell_type": "code",
      "execution_count": 8,
      "id": "cc68f54c",
      "metadata": {
        "colab": {
          "base_uri": "https://localhost:8080/"
        },
        "id": "cc68f54c",
        "outputId": "f04e6d14-3d6c-4600-a980-26378b47719d"
      },
      "outputs": [
        {
          "output_type": "execute_result",
          "data": {
            "text/plain": [
              "18199893      $59.18\n",
              "9731325      $280.91\n",
              "536687      $-144.00\n",
              "13223840       $6.76\n",
              "17070521       $9.17\n",
              "Name: Amount, dtype: object"
            ]
          },
          "metadata": {},
          "execution_count": 8
        }
      ],
      "source": [
        "df.Amount.head(5)"
      ]
    },
    {
      "cell_type": "code",
      "execution_count": 9,
      "id": "d97c8ec4",
      "metadata": {
        "id": "d97c8ec4"
      },
      "outputs": [],
      "source": [
        "df[\"Amount\"]=df[\"Amount\"].str.replace(\"$\",\"\").astype(float)"
      ]
    },
    {
      "cell_type": "code",
      "execution_count": 10,
      "id": "4c16af54",
      "metadata": {
        "id": "4c16af54"
      },
      "outputs": [],
      "source": [
        "df[\"Hour\"] = df[\"Time\"].str [0:2]\n",
        "df[\"Minute\"] = df[\"Time\"].str [3:5]"
      ]
    },
    {
      "cell_type": "code",
      "execution_count": 11,
      "id": "5aa51419",
      "metadata": {
        "colab": {
          "base_uri": "https://localhost:8080/"
        },
        "id": "5aa51419",
        "outputId": "27195ee9-8791-4bcc-954e-6177cd255099"
      },
      "outputs": [
        {
          "output_type": "execute_result",
          "data": {
            "text/plain": [
              "18199893    00\n",
              "9731325     22\n",
              "536687      07\n",
              "13223840    14\n",
              "17070521    11\n",
              "            ..\n",
              "3028639     20\n",
              "11275290    14\n",
              "1327632     11\n",
              "2929345     09\n",
              "4816941     11\n",
              "Name: Hour, Length: 100000, dtype: object"
            ]
          },
          "metadata": {},
          "execution_count": 11
        }
      ],
      "source": [
        "df.Hour"
      ]
    },
    {
      "cell_type": "code",
      "execution_count": 12,
      "id": "330256c8",
      "metadata": {
        "colab": {
          "base_uri": "https://localhost:8080/"
        },
        "id": "330256c8",
        "outputId": "1c9dfd01-4aaf-49af-9ffa-dfa7006f3e0d"
      },
      "outputs": [
        {
          "output_type": "execute_result",
          "data": {
            "text/plain": [
              "18199893    11\n",
              "9731325     12\n",
              "536687      07\n",
              "13223840    58\n",
              "17070521    44\n",
              "            ..\n",
              "3028639     37\n",
              "11275290    12\n",
              "1327632     15\n",
              "2929345     51\n",
              "4816941     08\n",
              "Name: Minute, Length: 100000, dtype: object"
            ]
          },
          "metadata": {},
          "execution_count": 12
        }
      ],
      "source": [
        "df.Minute"
      ]
    },
    {
      "cell_type": "code",
      "execution_count": 13,
      "id": "bc770708",
      "metadata": {
        "colab": {
          "base_uri": "https://localhost:8080/"
        },
        "id": "bc770708",
        "outputId": "53838816-9a14-4be3-e31f-c52c9bf41f10"
      },
      "outputs": [
        {
          "output_type": "stream",
          "name": "stdout",
          "text": [
            "<class 'pandas.core.frame.DataFrame'>\n",
            "Index: 100000 entries, 18199893 to 4816941\n",
            "Data columns (total 15 columns):\n",
            " #   Column          Non-Null Count   Dtype  \n",
            "---  ------          --------------   -----  \n",
            " 0   Year            100000 non-null  int64  \n",
            " 1   Month           100000 non-null  int64  \n",
            " 2   Day             100000 non-null  int64  \n",
            " 3   Amount          100000 non-null  float64\n",
            " 4   Use Chip        100000 non-null  object \n",
            " 5   Merchant Name   100000 non-null  int64  \n",
            " 6   Merchant City   100000 non-null  object \n",
            " 7   Merchant State  88782 non-null   object \n",
            " 8   Zip             88134 non-null   float64\n",
            " 9   MCC             100000 non-null  int64  \n",
            " 10  Errors?         1576 non-null    object \n",
            " 11  Is Fraud?       100000 non-null  object \n",
            " 12  card_id         100000 non-null  object \n",
            " 13  Hour            100000 non-null  object \n",
            " 14  Minute          100000 non-null  object \n",
            "dtypes: float64(2), int64(5), object(8)\n",
            "memory usage: 12.2+ MB\n"
          ]
        }
      ],
      "source": [
        "df = df.drop([\"Time\",\"User\",\"Card\"],axis=1)\n",
        "df.info()"
      ]
    },
    {
      "cell_type": "code",
      "execution_count": 14,
      "id": "3817dc1d",
      "metadata": {
        "colab": {
          "base_uri": "https://localhost:8080/"
        },
        "id": "3817dc1d",
        "outputId": "c3234df3-ca21-4fdf-b865-27710e1a0ad3"
      },
      "outputs": [
        {
          "output_type": "execute_result",
          "data": {
            "text/plain": [
              "array([nan, 'Bad PIN', 'Insufficient Balance', 'Technical Glitch',\n",
              "       'Bad Card Number', 'Bad CVV', 'Bad Expiration', 'Bad Zipcode',\n",
              "       'Insufficient Balance,Technical Glitch', 'Bad Card Number,Bad CVV',\n",
              "       'Bad CVV,Insufficient Balance',\n",
              "       'Bad Card Number,Insufficient Balance'], dtype=object)"
            ]
          },
          "metadata": {},
          "execution_count": 14
        }
      ],
      "source": [
        "df[\"Errors?\"].unique()"
      ]
    },
    {
      "cell_type": "code",
      "execution_count": 15,
      "id": "cbde125a",
      "metadata": {
        "id": "cbde125a"
      },
      "outputs": [],
      "source": [
        "df[\"Errors?\"]= df[\"Errors?\"].fillna(\"No error\")"
      ]
    },
    {
      "cell_type": "code",
      "execution_count": 16,
      "id": "cdb939e5",
      "metadata": {
        "id": "cdb939e5"
      },
      "outputs": [],
      "source": [
        "df = df.drop(columns=[\"Merchant State\",\"Zip\"],axis=1)"
      ]
    },
    {
      "cell_type": "code",
      "execution_count": 17,
      "id": "d931fb09",
      "metadata": {
        "id": "d931fb09"
      },
      "outputs": [],
      "source": [
        "\n",
        "df[\"Is Fraud?\"] = df[\"Is Fraud?\"].apply(lambda x: 1 if x == 'Yes' else 0)"
      ]
    },
    {
      "cell_type": "code",
      "execution_count": 18,
      "id": "ea156fdb",
      "metadata": {
        "id": "ea156fdb"
      },
      "outputs": [],
      "source": [
        "df[\"Merchant City\"]=LabelEncoder().fit_transform(df[\"Merchant City\"])\n",
        "df[\"Use Chip\"]=LabelEncoder().fit_transform(df[\"Use Chip\"])\n",
        "df[\"Errors?\"]=LabelEncoder().fit_transform(df[\"Errors?\"])"
      ]
    },
    {
      "cell_type": "code",
      "execution_count": 19,
      "id": "96108d04",
      "metadata": {
        "colab": {
          "base_uri": "https://localhost:8080/"
        },
        "id": "96108d04",
        "outputId": "3a1a34ad-dc3f-418a-ba02-322990c56de5"
      },
      "outputs": [
        {
          "output_type": "execute_result",
          "data": {
            "text/plain": [
              "array([10,  6,  8, 11,  2,  0,  5,  7,  9,  3,  1,  4])"
            ]
          },
          "metadata": {},
          "execution_count": 19
        }
      ],
      "source": [
        "\n",
        "df[\"Errors?\"].unique()"
      ]
    },
    {
      "cell_type": "code",
      "execution_count": 20,
      "id": "3daea733",
      "metadata": {
        "colab": {
          "base_uri": "https://localhost:8080/"
        },
        "id": "3daea733",
        "outputId": "2b4dedc6-1392-41e1-9291-ca3e926713bd"
      },
      "outputs": [
        {
          "output_type": "stream",
          "name": "stdout",
          "text": [
            "<class 'pandas.core.frame.DataFrame'>\n",
            "Index: 100000 entries, 18199893 to 4816941\n",
            "Data columns (total 13 columns):\n",
            " #   Column         Non-Null Count   Dtype  \n",
            "---  ------         --------------   -----  \n",
            " 0   Year           100000 non-null  int64  \n",
            " 1   Month          100000 non-null  int64  \n",
            " 2   Day            100000 non-null  int64  \n",
            " 3   Amount         100000 non-null  float64\n",
            " 4   Use Chip       100000 non-null  int64  \n",
            " 5   Merchant Name  100000 non-null  int64  \n",
            " 6   Merchant City  100000 non-null  int64  \n",
            " 7   MCC            100000 non-null  int64  \n",
            " 8   Errors?        100000 non-null  int64  \n",
            " 9   Is Fraud?      100000 non-null  int64  \n",
            " 10  card_id        100000 non-null  object \n",
            " 11  Hour           100000 non-null  object \n",
            " 12  Minute         100000 non-null  object \n",
            "dtypes: float64(1), int64(9), object(3)\n",
            "memory usage: 10.7+ MB\n"
          ]
        }
      ],
      "source": [
        "df.info()"
      ]
    },
    {
      "cell_type": "markdown",
      "id": "7812057f",
      "metadata": {
        "id": "7812057f"
      },
      "source": [
        "## GNN"
      ]
    },
    {
      "cell_type": "code",
      "execution_count": 21,
      "id": "413dfbd7",
      "metadata": {
        "id": "413dfbd7"
      },
      "outputs": [],
      "source": [
        "# Create an empty graph\n",
        "G = nx.MultiGraph()\n",
        "\n",
        "# Add nodes to the graph for each unique card_id, merchant_name\n",
        "G.add_nodes_from(df[\"card_id\"].unique(), type='card_id')\n",
        "G.add_nodes_from(df[\"Merchant Name\"].unique(), type='merchant_name')"
      ]
    },
    {
      "cell_type": "code",
      "execution_count": 22,
      "id": "eeb848fa",
      "metadata": {
        "id": "eeb848fa"
      },
      "outputs": [],
      "source": [
        "# Add edges and properties to the edges\n",
        "for _, row in df.iterrows():\n",
        "    # Create a variable for each properties for each edge\n",
        "\n",
        "        year = row[\"Year\"],\n",
        "        month = row[\"Month\"],\n",
        "        day = row[\"Day\"],\n",
        "        hour = row[\"Hour\"],\n",
        "        minute =row[\"Minute\"],\n",
        "        amount = row[\"Amount\"],\n",
        "        use_chip =  row[\"Use Chip\"],\n",
        "        merchant_city = row[\"Merchant City\"],\n",
        "        errors =  row[\"Errors?\"],\n",
        "        mcc = row['MCC']\n",
        "\n",
        "\n",
        "        G.add_edge(row['card_id'], row['Merchant Name'], year = year , month = month , day = day ,\n",
        "              hour = hour , minute = minute , amount = amount , use_chip = use_chip ,\n",
        "              merchant_city = merchant_city , errors = errors , mcc = mcc)\n"
      ]
    },
    {
      "cell_type": "code",
      "execution_count": 23,
      "id": "c9daf1a6",
      "metadata": {
        "colab": {
          "base_uri": "https://localhost:8080/"
        },
        "id": "c9daf1a6",
        "outputId": "d3980157-2601-4a9b-dd7d-20b4f38d81fa"
      },
      "outputs": [
        {
          "output_type": "stream",
          "name": "stdout",
          "text": [
            "Number of nodes: 16415\n",
            "Number of edges: 100000\n"
          ]
        }
      ],
      "source": [
        "# Get the number of nodes and edges in the graph\n",
        "num_nodes = G.number_of_nodes()\n",
        "num_edges = G.number_of_edges()\n",
        "\n",
        "# Print the number of nodes and edges\n",
        "print(\"Number of nodes:\", num_nodes)\n",
        "print(\"Number of edges:\", num_edges)"
      ]
    },
    {
      "cell_type": "code",
      "execution_count": 24,
      "id": "308dd216",
      "metadata": {
        "id": "308dd216"
      },
      "outputs": [],
      "source": [
        "# Convert the graph to an adjacency matrix\n",
        "adj_matrix = nx.adjacency_matrix(G).todense()"
      ]
    },
    {
      "cell_type": "code",
      "execution_count": 25,
      "id": "54e9d670",
      "metadata": {
        "colab": {
          "base_uri": "https://localhost:8080/"
        },
        "id": "54e9d670",
        "outputId": "096bad09-069a-45b4-ce4b-0a40b970e13b"
      },
      "outputs": [
        {
          "output_type": "execute_result",
          "data": {
            "text/plain": [
              "(16415, 16415)"
            ]
          },
          "metadata": {},
          "execution_count": 25
        }
      ],
      "source": [
        "adj_matrix.shape"
      ]
    },
    {
      "cell_type": "markdown",
      "id": "19169861",
      "metadata": {
        "id": "19169861"
      },
      "source": [
        "### retrieve the properties of a small sample of nodes in our graph (G) and print their properties"
      ]
    },
    {
      "cell_type": "code",
      "execution_count": 26,
      "id": "fd77b356",
      "metadata": {
        "colab": {
          "base_uri": "https://localhost:8080/"
        },
        "id": "fd77b356",
        "outputId": "60384803-7dab-4d9b-fa4a-250956293c07"
      },
      "outputs": [
        {
          "output_type": "stream",
          "name": "stdout",
          "text": [
            "Node: 1470_0, Properties: card_id\n",
            "Node: 822_1, Properties: card_id\n",
            "Node: 41_3, Properties: card_id\n",
            "Node: 1084_0, Properties: card_id\n",
            "Node: 1384_0, Properties: card_id\n",
            "Node: 55_3, Properties: card_id\n",
            "Node: 776_0, Properties: card_id\n",
            "Node: 66_0, Properties: card_id\n",
            "Node: 1880_2, Properties: card_id\n",
            "Node: 490_5, Properties: card_id\n"
          ]
        }
      ],
      "source": [
        "# Get a small sample of the nodes in the graph\n",
        "sample_nodes = list(G.nodes())[:10]\n",
        "\n",
        "# Retrieve the properties of the sample nodes\n",
        "node_properties = nx.get_node_attributes(G, 'type')\n",
        "\n",
        "# Print the properties of the sample nodes\n",
        "for node in sample_nodes:\n",
        "    print(f\"Node: {node}, Properties: {node_properties[node]}\")"
      ]
    },
    {
      "cell_type": "code",
      "execution_count": 27,
      "id": "92052d48",
      "metadata": {
        "colab": {
          "base_uri": "https://localhost:8080/"
        },
        "id": "92052d48",
        "outputId": "cc0266d0-2c9e-4451-ae41-accf9873bd7c"
      },
      "outputs": [
        {
          "output_type": "stream",
          "name": "stdout",
          "text": [
            "{0: {'year': (2019,), 'month': (7,), 'day': (10,), 'hour': ('00',), 'minute': ('11',), 'amount': (59.18,), 'use_chip': (0,), 'merchant_city': (1890,), 'errors': (10,), 'mcc': 5813}, 1: {'year': (2019,), 'month': (10,), 'day': (1,), 'hour': ('00',), 'minute': ('22',), 'amount': (91.4,), 'use_chip': (0,), 'merchant_city': (1890,), 'errors': (10,), 'mcc': 5813}, 2: {'year': (2011,), 'month': (9,), 'day': (27,), 'hour': ('00',), 'minute': ('00',), 'amount': (64.21,), 'use_chip': (2,), 'merchant_city': (1890,), 'errors': (10,), 'mcc': 5813}, 3: {'year': (2011,), 'month': (11,), 'day': (11,), 'hour': ('00',), 'minute': ('04',), 'amount': (64.36,), 'use_chip': (2,), 'merchant_city': (1890,), 'errors': (10,), 'mcc': 5813}, 4: {'year': (2009,), 'month': (11,), 'day': (25,), 'hour': ('00',), 'minute': ('18',), 'amount': (52.75,), 'use_chip': (2,), 'merchant_city': (1890,), 'errors': (10,), 'mcc': 5813}}\n",
            "{0: {'year': (2019,), 'month': (7,), 'day': (10,), 'hour': ('00',), 'minute': ('11',), 'amount': (59.18,), 'use_chip': (0,), 'merchant_city': (1890,), 'errors': (10,), 'mcc': 5813}, 1: {'year': (2019,), 'month': (10,), 'day': (1,), 'hour': ('00',), 'minute': ('22',), 'amount': (91.4,), 'use_chip': (0,), 'merchant_city': (1890,), 'errors': (10,), 'mcc': 5813}, 2: {'year': (2011,), 'month': (9,), 'day': (27,), 'hour': ('00',), 'minute': ('00',), 'amount': (64.21,), 'use_chip': (2,), 'merchant_city': (1890,), 'errors': (10,), 'mcc': 5813}, 3: {'year': (2011,), 'month': (11,), 'day': (11,), 'hour': ('00',), 'minute': ('04',), 'amount': (64.36,), 'use_chip': (2,), 'merchant_city': (1890,), 'errors': (10,), 'mcc': 5813}, 4: {'year': (2009,), 'month': (11,), 'day': (25,), 'hour': ('00',), 'minute': ('18',), 'amount': (52.75,), 'use_chip': (2,), 'merchant_city': (1890,), 'errors': (10,), 'mcc': 5813}}\n",
            "{0: {'year': (2019,), 'month': (7,), 'day': (10,), 'hour': ('00',), 'minute': ('11',), 'amount': (59.18,), 'use_chip': (0,), 'merchant_city': (1890,), 'errors': (10,), 'mcc': 5813}, 1: {'year': (2019,), 'month': (10,), 'day': (1,), 'hour': ('00',), 'minute': ('22',), 'amount': (91.4,), 'use_chip': (0,), 'merchant_city': (1890,), 'errors': (10,), 'mcc': 5813}, 2: {'year': (2011,), 'month': (9,), 'day': (27,), 'hour': ('00',), 'minute': ('00',), 'amount': (64.21,), 'use_chip': (2,), 'merchant_city': (1890,), 'errors': (10,), 'mcc': 5813}, 3: {'year': (2011,), 'month': (11,), 'day': (11,), 'hour': ('00',), 'minute': ('04',), 'amount': (64.36,), 'use_chip': (2,), 'merchant_city': (1890,), 'errors': (10,), 'mcc': 5813}, 4: {'year': (2009,), 'month': (11,), 'day': (25,), 'hour': ('00',), 'minute': ('18',), 'amount': (52.75,), 'use_chip': (2,), 'merchant_city': (1890,), 'errors': (10,), 'mcc': 5813}}\n",
            "{0: {'year': (2019,), 'month': (7,), 'day': (10,), 'hour': ('00',), 'minute': ('11',), 'amount': (59.18,), 'use_chip': (0,), 'merchant_city': (1890,), 'errors': (10,), 'mcc': 5813}, 1: {'year': (2019,), 'month': (10,), 'day': (1,), 'hour': ('00',), 'minute': ('22',), 'amount': (91.4,), 'use_chip': (0,), 'merchant_city': (1890,), 'errors': (10,), 'mcc': 5813}, 2: {'year': (2011,), 'month': (9,), 'day': (27,), 'hour': ('00',), 'minute': ('00',), 'amount': (64.21,), 'use_chip': (2,), 'merchant_city': (1890,), 'errors': (10,), 'mcc': 5813}, 3: {'year': (2011,), 'month': (11,), 'day': (11,), 'hour': ('00',), 'minute': ('04',), 'amount': (64.36,), 'use_chip': (2,), 'merchant_city': (1890,), 'errors': (10,), 'mcc': 5813}, 4: {'year': (2009,), 'month': (11,), 'day': (25,), 'hour': ('00',), 'minute': ('18',), 'amount': (52.75,), 'use_chip': (2,), 'merchant_city': (1890,), 'errors': (10,), 'mcc': 5813}}\n",
            "{0: {'year': (2019,), 'month': (7,), 'day': (10,), 'hour': ('00',), 'minute': ('11',), 'amount': (59.18,), 'use_chip': (0,), 'merchant_city': (1890,), 'errors': (10,), 'mcc': 5813}, 1: {'year': (2019,), 'month': (10,), 'day': (1,), 'hour': ('00',), 'minute': ('22',), 'amount': (91.4,), 'use_chip': (0,), 'merchant_city': (1890,), 'errors': (10,), 'mcc': 5813}, 2: {'year': (2011,), 'month': (9,), 'day': (27,), 'hour': ('00',), 'minute': ('00',), 'amount': (64.21,), 'use_chip': (2,), 'merchant_city': (1890,), 'errors': (10,), 'mcc': 5813}, 3: {'year': (2011,), 'month': (11,), 'day': (11,), 'hour': ('00',), 'minute': ('04',), 'amount': (64.36,), 'use_chip': (2,), 'merchant_city': (1890,), 'errors': (10,), 'mcc': 5813}, 4: {'year': (2009,), 'month': (11,), 'day': (25,), 'hour': ('00',), 'minute': ('18',), 'amount': (52.75,), 'use_chip': (2,), 'merchant_city': (1890,), 'errors': (10,), 'mcc': 5813}}\n"
          ]
        }
      ],
      "source": [
        "sample_size = 5\n",
        "for i, edge in enumerate(G.edges()):\n",
        "    print(G.get_edge_data(*edge))\n",
        "    if i >= sample_size - 1:\n",
        "        break"
      ]
    },
    {
      "cell_type": "markdown",
      "id": "717a0a63",
      "metadata": {
        "id": "717a0a63"
      },
      "source": [
        "### retrieve the properties of a small sample of edges in our graph (G) and print their properties"
      ]
    },
    {
      "cell_type": "code",
      "execution_count": 28,
      "id": "a04d5e99",
      "metadata": {
        "colab": {
          "base_uri": "https://localhost:8080/"
        },
        "id": "a04d5e99",
        "outputId": "f9b17ffe-00d8-4ed0-8746-f1420a8c5a83"
      },
      "outputs": [
        {
          "output_type": "stream",
          "name": "stdout",
          "text": [
            "Property value: (10,), Count: 98424\n",
            "Property value: (8,), Count: 1003\n",
            "Property value: (6,), Count: 228\n",
            "Property value: (5,), Count: 44\n",
            "Property value: (0,), Count: 42\n",
            "Property value: (11,), Count: 195\n",
            "Property value: (2,), Count: 50\n",
            "Property value: (4,), Count: 2\n",
            "Property value: (1,), Count: 1\n",
            "Property value: (9,), Count: 3\n",
            "Property value: (7,), Count: 7\n",
            "Property value: (3,), Count: 1\n"
          ]
        }
      ],
      "source": [
        "# Retrieve the properties errors of all the edges\n",
        "edge_properties = nx.get_edge_attributes(G, 'errors')\n",
        "\n",
        "# Count the number of edges by property value\n",
        "edge_count_by_property = Counter(edge_properties.values())\n",
        "\n",
        "# Print the count of edges by property value\n",
        "for property_value, count in edge_count_by_property.items():\n",
        "    print(f\"Property value: {property_value}, Count: {count}\")"
      ]
    },
    {
      "cell_type": "code",
      "execution_count": 29,
      "id": "033dd08d",
      "metadata": {
        "id": "033dd08d"
      },
      "outputs": [],
      "source": [
        "# Prepare the data for input into the model\n",
        "edge_list = list(G.edges(data=True))"
      ]
    },
    {
      "cell_type": "code",
      "execution_count": 31,
      "id": "023307c9",
      "metadata": {
        "colab": {
          "base_uri": "https://localhost:8080/"
        },
        "id": "023307c9",
        "outputId": "70990707-7bb7-4d4b-bdc1-4e11a25832a4"
      },
      "outputs": [
        {
          "output_type": "execute_result",
          "data": {
            "text/plain": [
              "[(2009,), (11,), (25,), ('00',), ('18',), (52.75,), (2,), (1890,), (10,), 5813]"
            ]
          },
          "metadata": {},
          "execution_count": 31
        }
      ],
      "source": [
        "list(edge_list[i][2].values())"
      ]
    },
    {
      "cell_type": "code",
      "source": [],
      "metadata": {
        "id": "YIpd-wyq96Q_"
      },
      "id": "YIpd-wyq96Q_",
      "execution_count": null,
      "outputs": []
    },
    {
      "cell_type": "code",
      "execution_count": 32,
      "id": "3c69dfcc",
      "metadata": {
        "id": "3c69dfcc"
      },
      "outputs": [],
      "source": [
        "class FraudGNN(nn.Module):\n",
        "    def __init__(self, input_dim, hidden_dim):\n",
        "        super(FraudGNN, self).__init__()\n",
        "        self.fc1 = nn.Linear(input_dim, hidden_dim)\n",
        "        self.fc2 = nn.Linear(hidden_dim, 1)\n",
        "\n",
        "    def forward(self, x):\n",
        "        x = self.fc1(x)\n",
        "        x = F.relu(x)\n",
        "        x = self.fc2(x)\n",
        "        return x.squeeze(-1)\n",
        "\n",
        "# Prepare the data for input into the model\n",
        "edge_list = list(G.edges(data=True))\n",
        "x = []\n",
        "for edge in edge_list:\n",
        "    edge_values = list(edge[2].values())\n",
        "    edge_values = [float(i[0]) if type(i) == tuple and type(i[0]) == str else i[0] if type(i) == tuple else i for i in edge_values]\n",
        "    x.append(edge_values)\n",
        "x = torch.tensor(x, dtype=torch.float)"
      ]
    },
    {
      "cell_type": "code",
      "execution_count": 33,
      "id": "890ec3fe",
      "metadata": {
        "id": "890ec3fe"
      },
      "outputs": [],
      "source": [
        "target = torch.tensor(df['Is Fraud?'].values, dtype=torch.float)"
      ]
    },
    {
      "cell_type": "code",
      "execution_count": 34,
      "id": "62a2dd71",
      "metadata": {
        "id": "62a2dd71"
      },
      "outputs": [],
      "source": [
        "# Define the model\n",
        "input_dim = len(x[0])\n",
        "hidden_dim = 16\n",
        "model = FraudGNN(input_dim, hidden_dim)\n",
        "num_epochs=201\n",
        "\n",
        "# Define the loss function and optimizer\n",
        "criterion = nn.BCEWithLogitsLoss()\n",
        "optimizer = torch.optim.Adam(model.parameters(), lr=0.01)"
      ]
    },
    {
      "cell_type": "code",
      "source": [
        "from sklearn.metrics import roc_auc_score, average_precision_score\n",
        "from sklearn.metrics import f1_score"
      ],
      "metadata": {
        "id": "w7T3mTOG4ONu"
      },
      "id": "w7T3mTOG4ONu",
      "execution_count": 36,
      "outputs": []
    },
    {
      "cell_type": "code",
      "execution_count": 37,
      "id": "8f394db3",
      "metadata": {
        "colab": {
          "base_uri": "https://localhost:8080/"
        },
        "id": "8f394db3",
        "outputId": "04e1e27f-bd3a-478d-ac77-e6657c8be88b"
      },
      "outputs": [
        {
          "output_type": "stream",
          "name": "stdout",
          "text": [
            "Epoch: 0, Loss: 0.596289336681366, AUC: 0.4999149004335072, AP: 0.00117, F1: 0.0, AUROC: 0.4999149004335072\n",
            "Epoch: 20, Loss: 0.37569141387939453, AUC: 0.49717169087832763, AP: 0.00117, F1: 0.0, AUROC: 0.49717169087832763\n",
            "Epoch: 40, Loss: 0.21587324142456055, AUC: 0.49969331639385606, AP: 0.001190264037029278, F1: 0.0, AUROC: 0.49969331639385606\n",
            "Epoch: 60, Loss: 0.0992935374379158, AUC: 0.5143145685580335, AP: 0.001358631607040287, F1: 0.0, AUROC: 0.5143145685580335\n",
            "Epoch: 80, Loss: 0.04016108810901642, AUC: 0.5210708494750824, AP: 0.0013695395234406035, F1: 0.0, AUROC: 0.5210708494750824\n",
            "Epoch: 100, Loss: 0.031512659043073654, AUC: 0.5182091679743933, AP: 0.0013662832719808938, F1: 0.0, AUROC: 0.5182091679743933\n",
            "Epoch: 120, Loss: 0.02520722709596157, AUC: 0.5247262801751553, AP: 0.001593705490696011, F1: 0.0, AUROC: 0.5247262801751553\n",
            "Epoch: 140, Loss: 0.02188126929104328, AUC: 0.5345863634811703, AP: 0.0014363682046464696, F1: 0.0, AUROC: 0.5345863634811703\n",
            "Epoch: 160, Loss: 0.019878307357430458, AUC: 0.534667355677938, AP: 0.001366727873075082, F1: 0.0, AUROC: 0.534667355677938\n",
            "Epoch: 180, Loss: 0.01816439814865589, AUC: 0.529235915422754, AP: 0.0013278811782269405, F1: 0.0, AUROC: 0.529235915422754\n",
            "Epoch: 200, Loss: 0.016771044582128525, AUC: 0.5234711792284152, AP: 0.0012757383457551287, F1: 0.0, AUROC: 0.5234711792284152\n"
          ]
        }
      ],
      "source": [
        "# Train the model\n",
        "for i in range(num_epochs):\n",
        "    # Forward pass\n",
        "    output = model(x)\n",
        "    # Compute the loss\n",
        "    loss = criterion(output, target)\n",
        "    if i % 20 == 0:\n",
        "        # 计算 AUC 和 AP\n",
        "        with torch.no_grad():\n",
        "            output_prob = torch.sigmoid(output)\n",
        "            auc = roc_auc_score(target.cpu().numpy(), output_prob.cpu().numpy())\n",
        "            ap = average_precision_score(target.cpu().numpy(), output_prob.cpu().numpy())\n",
        "            f1 = f1_score(target.cpu().numpy(), (output_prob > 0.5).cpu().numpy())\n",
        "            auroc = roc_auc_score(target.cpu().numpy(), output_prob.cpu().numpy())\n",
        "        print(f'Epoch: {i}, Loss: {loss.item()}, AUC: {auc}, AP: {ap}, F1: {f1}, AUROC: {auroc}')\n",
        "\n",
        "    # Zero the gradients\n",
        "    optimizer.zero_grad()\n",
        "    # Perform backpropagation\n",
        "    loss.backward()\n",
        "    # Update the parameters\n",
        "    optimizer.step()"
      ]
    },
    {
      "cell_type": "code",
      "source": [],
      "metadata": {
        "id": "OcIET-MA4U9p"
      },
      "id": "OcIET-MA4U9p",
      "execution_count": null,
      "outputs": []
    }
  ],
  "metadata": {
    "colab": {
      "provenance": [],
      "include_colab_link": true
    },
    "kernelspec": {
      "display_name": "Python 3",
      "name": "python3"
    },
    "language_info": {
      "codemirror_mode": {
        "name": "ipython",
        "version": 3
      },
      "file_extension": ".py",
      "mimetype": "text/x-python",
      "name": "python",
      "nbconvert_exporter": "python",
      "pygments_lexer": "ipython3",
      "version": "3.11.5"
    }
  },
  "nbformat": 4,
  "nbformat_minor": 5
}