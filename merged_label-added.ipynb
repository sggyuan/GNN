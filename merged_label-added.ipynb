{
  "nbformat": 4,
  "nbformat_minor": 0,
  "metadata": {
    "colab": {
      "provenance": [],
      "authorship_tag": "ABX9TyPCOoPoX3JftPZvwPIN6YNf",
      "include_colab_link": true
    },
    "kernelspec": {
      "name": "python3",
      "display_name": "Python 3"
    },
    "language_info": {
      "name": "python"
    }
  },
  "cells": [
    {
      "cell_type": "markdown",
      "metadata": {
        "id": "view-in-github",
        "colab_type": "text"
      },
      "source": [
        "<a href=\"https://colab.research.google.com/github/sggyuan/GNN/blob/main/merged_label-added.ipynb\" target=\"_parent\"><img src=\"https://colab.research.google.com/assets/colab-badge.svg\" alt=\"Open In Colab\"/></a>"
      ]
    },
    {
      "cell_type": "code",
      "execution_count": 1,
      "metadata": {
        "id": "BM9ZJMyBOgnE"
      },
      "outputs": [],
      "source": [
        "import pandas as pd\n",
        "import numpy as np\n",
        "import matplotlib.pyplot as plt\n",
        "from collections import Counter\n",
        "from sklearn.model_selection import train_test_split\n",
        "from sklearn.preprocessing import LabelEncoder\n",
        "import networkx as nx\n",
        "import torch\n",
        "import torch.nn as nn\n",
        "import torch.nn.functional as F"
      ]
    },
    {
      "cell_type": "code",
      "source": [
        "from google.colab import drive\n",
        "drive.mount('/content/drive')"
      ],
      "metadata": {
        "colab": {
          "base_uri": "https://localhost:8080/"
        },
        "id": "_SN_ix9cP8JD",
        "outputId": "df6f084c-a9b3-4db3-a227-1243a043e136"
      },
      "execution_count": 2,
      "outputs": [
        {
          "output_type": "stream",
          "name": "stdout",
          "text": [
            "Mounted at /content/drive\n"
          ]
        }
      ]
    },
    {
      "cell_type": "code",
      "source": [
        "df = pd.read_csv('/content/drive/My Drive/subset10w.csv')"
      ],
      "metadata": {
        "id": "FhSSEkxNP9n6"
      },
      "execution_count": 3,
      "outputs": []
    },
    {
      "cell_type": "code",
      "source": [
        "df.info()"
      ],
      "metadata": {
        "colab": {
          "base_uri": "https://localhost:8080/"
        },
        "id": "5RT6IGQXQQxJ",
        "outputId": "fe2fae7b-826a-4288-afb7-c169d0664cdf"
      },
      "execution_count": 4,
      "outputs": [
        {
          "output_type": "stream",
          "name": "stdout",
          "text": [
            "<class 'pandas.core.frame.DataFrame'>\n",
            "RangeIndex: 100000 entries, 0 to 99999\n",
            "Data columns (total 33 columns):\n",
            " #   Column                       Non-Null Count   Dtype  \n",
            "---  ------                       --------------   -----  \n",
            " 0   User                         100000 non-null  int64  \n",
            " 1   Card                         100000 non-null  int64  \n",
            " 2   Year                         100000 non-null  int64  \n",
            " 3   Month                        100000 non-null  int64  \n",
            " 4   Day                          100000 non-null  int64  \n",
            " 5   Time                         100000 non-null  object \n",
            " 6   Amount                       100000 non-null  object \n",
            " 7   Use Chip                     100000 non-null  object \n",
            " 8   Merchant Name                100000 non-null  int64  \n",
            " 9   Merchant City                100000 non-null  object \n",
            " 10  Merchant State               88723 non-null   object \n",
            " 11  Zip                          88095 non-null   float64\n",
            " 12  MCC                          100000 non-null  int64  \n",
            " 13  Errors?                      1630 non-null    object \n",
            " 14  Is Fraud?                    100000 non-null  object \n",
            " 15  Person                       100000 non-null  object \n",
            " 16  Current Age                  100000 non-null  int64  \n",
            " 17  Retirement Age               100000 non-null  int64  \n",
            " 18  Birth Year                   100000 non-null  int64  \n",
            " 19  Birth Month                  100000 non-null  int64  \n",
            " 20  Gender                       100000 non-null  object \n",
            " 21  Address                      100000 non-null  object \n",
            " 22  Apartment                    27196 non-null   float64\n",
            " 23  City                         100000 non-null  object \n",
            " 24  State                        100000 non-null  object \n",
            " 25  Zipcode                      100000 non-null  int64  \n",
            " 26  Latitude                     100000 non-null  float64\n",
            " 27  Longitude                    100000 non-null  float64\n",
            " 28  Per Capita Income - Zipcode  100000 non-null  object \n",
            " 29  Yearly Income - Person       100000 non-null  object \n",
            " 30  Total Debt                   100000 non-null  object \n",
            " 31  FICO Score                   100000 non-null  int64  \n",
            " 32  Num Credit Cards             100000 non-null  int64  \n",
            "dtypes: float64(4), int64(14), object(15)\n",
            "memory usage: 25.2+ MB\n"
          ]
        }
      ]
    },
    {
      "cell_type": "code",
      "source": [
        "df [df['Is Fraud?'] == 'Yes'].shape"
      ],
      "metadata": {
        "colab": {
          "base_uri": "https://localhost:8080/"
        },
        "id": "gxGUfkzvQTlK",
        "outputId": "d25575f9-9338-4681-beb6-885292af8ae5"
      },
      "execution_count": 5,
      "outputs": [
        {
          "output_type": "execute_result",
          "data": {
            "text/plain": [
              "(117, 33)"
            ]
          },
          "metadata": {},
          "execution_count": 5
        }
      ]
    },
    {
      "cell_type": "code",
      "source": [
        "percent_missing=(df.isnull().sum()*100/df.shape[0]).sort_values(ascending=True)\n",
        "plt.title(\"Missing Value Analysis\")\n",
        "plt.xlabel(\"Features\")\n",
        "plt.ylabel(\"% of missing values\")\n",
        "plt.bar(percent_missing.sort_values(ascending=False).index,percent_missing.sort_values(ascending=False),color=(0.1, 0.1, 0.1, 0.1),edgecolor='blue')\n",
        "plt.xticks(rotation=90)"
      ],
      "metadata": {
        "colab": {
          "base_uri": "https://localhost:8080/",
          "height": 1000
        },
        "id": "JP0qD9JLQwO4",
        "outputId": "2dac20c6-40f4-4bf7-cf6d-9cb80a053e84"
      },
      "execution_count": 6,
      "outputs": [
        {
          "output_type": "execute_result",
          "data": {
            "text/plain": [
              "([0,\n",
              "  1,\n",
              "  2,\n",
              "  3,\n",
              "  4,\n",
              "  5,\n",
              "  6,\n",
              "  7,\n",
              "  8,\n",
              "  9,\n",
              "  10,\n",
              "  11,\n",
              "  12,\n",
              "  13,\n",
              "  14,\n",
              "  15,\n",
              "  16,\n",
              "  17,\n",
              "  18,\n",
              "  19,\n",
              "  20,\n",
              "  21,\n",
              "  22,\n",
              "  23,\n",
              "  24,\n",
              "  25,\n",
              "  26,\n",
              "  27,\n",
              "  28,\n",
              "  29,\n",
              "  30,\n",
              "  31,\n",
              "  32],\n",
              " [Text(0, 0, 'Errors?'),\n",
              "  Text(1, 0, 'Apartment'),\n",
              "  Text(2, 0, 'Zip'),\n",
              "  Text(3, 0, 'Merchant State'),\n",
              "  Text(4, 0, 'Card'),\n",
              "  Text(5, 0, 'Num Credit Cards'),\n",
              "  Text(6, 0, 'Merchant Name'),\n",
              "  Text(7, 0, 'MCC'),\n",
              "  Text(8, 0, 'Merchant City'),\n",
              "  Text(9, 0, 'Use Chip'),\n",
              "  Text(10, 0, 'Person'),\n",
              "  Text(11, 0, 'Amount'),\n",
              "  Text(12, 0, 'Time'),\n",
              "  Text(13, 0, 'Day'),\n",
              "  Text(14, 0, 'Month'),\n",
              "  Text(15, 0, 'Year'),\n",
              "  Text(16, 0, 'User'),\n",
              "  Text(17, 0, 'Total Debt'),\n",
              "  Text(18, 0, 'Current Age'),\n",
              "  Text(19, 0, 'FICO Score'),\n",
              "  Text(20, 0, 'Retirement Age'),\n",
              "  Text(21, 0, 'Birth Year'),\n",
              "  Text(22, 0, 'Birth Month'),\n",
              "  Text(23, 0, 'Gender'),\n",
              "  Text(24, 0, 'Address'),\n",
              "  Text(25, 0, 'City'),\n",
              "  Text(26, 0, 'State'),\n",
              "  Text(27, 0, 'Zipcode'),\n",
              "  Text(28, 0, 'Latitude'),\n",
              "  Text(29, 0, 'Longitude'),\n",
              "  Text(30, 0, 'Per Capita Income - Zipcode'),\n",
              "  Text(31, 0, 'Yearly Income - Person'),\n",
              "  Text(32, 0, 'Is Fraud?')])"
            ]
          },
          "metadata": {},
          "execution_count": 6
        },
        {
          "output_type": "display_data",
          "data": {
            "text/plain": [
              "<Figure size 640x480 with 1 Axes>"
            ],
            "image/png": "[encoded data removed]"
          },
          "metadata": {}
        }
      ]
    },
    {
      "cell_type": "code",
      "source": [
        "df[\"card_id\"] = df[\"User\"].astype(str) + \"_\" + df[\"Card\"].astype(str)"
      ],
      "metadata": {
        "id": "ex6tUCUeQy6w"
      },
      "execution_count": 7,
      "outputs": []
    },
    {
      "cell_type": "code",
      "source": [
        "df.Amount.head(5)"
      ],
      "metadata": {
        "colab": {
          "base_uri": "https://localhost:8080/",
          "height": 238
        },
        "id": "8CcS535zShSC",
        "outputId": "29edc61a-6c2b-4bba-d241-e383b964286d"
      },
      "execution_count": 8,
      "outputs": [
        {
          "output_type": "execute_result",
          "data": {
            "text/plain": [
              "0    $86.89\n",
              "1     $1.91\n",
              "2    $13.82\n",
              "3    $15.34\n",
              "4    $14.82\n",
              "Name: Amount, dtype: object"
            ],
            "text/html": [
              "<div>\n",
              "<style scoped>\n",
              "    .dataframe tbody tr th:only-of-type {\n",
              "        vertical-align: middle;\n",
              "    }\n",
              "\n",
              "    .dataframe tbody tr th {\n",
              "        vertical-align: top;\n",
              "    }\n",
              "\n",
              "    .dataframe thead th {\n",
              "        text-align: right;\n",
              "    }\n",
              "</style>\n",
              "<table border=\"1\" class=\"dataframe\">\n",
              "  <thead>\n",
              "    <tr style=\"text-align: right;\">\n",
              "      <th></th>\n",
              "      <th>Amount</th>\n",
              "    </tr>\n",
              "  </thead>\n",
              "  <tbody>\n",
              "    <tr>\n",
              "      <th>0</th>\n",
              "      <td>$86.89</td>\n",
              "    </tr>\n",
              "    <tr>\n",
              "      <th>1</th>\n",
              "      <td>$1.91</td>\n",
              "    </tr>\n",
              "    <tr>\n",
              "      <th>2</th>\n",
              "      <td>$13.82</td>\n",
              "    </tr>\n",
              "    <tr>\n",
              "      <th>3</th>\n",
              "      <td>$15.34</td>\n",
              "    </tr>\n",
              "    <tr>\n",
              "      <th>4</th>\n",
              "      <td>$14.82</td>\n",
              "    </tr>\n",
              "  </tbody>\n",
              "</table>\n",
              "</div><br><label><b>dtype:</b> object</label>"
            ]
          },
          "metadata": {},
          "execution_count": 8
        }
      ]
    },
    {
      "cell_type": "code",
      "source": [
        "df[\"Amount\"]=df[\"Amount\"].str.replace(\"$\",\"\").astype(float)"
      ],
      "metadata": {
        "id": "-5ksyhphSkYa"
      },
      "execution_count": 9,
      "outputs": []
    },
    {
      "cell_type": "code",
      "source": [
        "df[\"Hour\"] = df[\"Time\"].str [0:2]\n",
        "df[\"Minute\"] = df[\"Time\"].str [3:5]"
      ],
      "metadata": {
        "id": "Q7qfXIsiSppY"
      },
      "execution_count": 10,
      "outputs": []
    },
    {
      "cell_type": "code",
      "source": [
        "df.Hour"
      ],
      "metadata": {
        "colab": {
          "base_uri": "https://localhost:8080/",
          "height": 453
        },
        "id": "Aqtjw01qS83Y",
        "outputId": "0b4d3dc4-2f6a-4e6f-910f-9241110aa9c0"
      },
      "execution_count": 11,
      "outputs": [
        {
          "output_type": "execute_result",
          "data": {
            "text/plain": [
              "0        22\n",
              "1        08\n",
              "2        13\n",
              "3        12\n",
              "4        12\n",
              "         ..\n",
              "99995    07\n",
              "99996    15\n",
              "99997    12\n",
              "99998    12\n",
              "99999    20\n",
              "Name: Hour, Length: 100000, dtype: object"
            ],
            "text/html": [
              "<div>\n",
              "<style scoped>\n",
              "    .dataframe tbody tr th:only-of-type {\n",
              "        vertical-align: middle;\n",
              "    }\n",
              "\n",
              "    .dataframe tbody tr th {\n",
              "        vertical-align: top;\n",
              "    }\n",
              "\n",
              "    .dataframe thead th {\n",
              "        text-align: right;\n",
              "    }\n",
              "</style>\n",
              "<table border=\"1\" class=\"dataframe\">\n",
              "  <thead>\n",
              "    <tr style=\"text-align: right;\">\n",
              "      <th></th>\n",
              "      <th>Hour</th>\n",
              "    </tr>\n",
              "  </thead>\n",
              "  <tbody>\n",
              "    <tr>\n",
              "      <th>0</th>\n",
              "      <td>22</td>\n",
              "    </tr>\n",
              "    <tr>\n",
              "      <th>1</th>\n",
              "      <td>08</td>\n",
              "    </tr>\n",
              "    <tr>\n",
              "      <th>2</th>\n",
              "      <td>13</td>\n",
              "    </tr>\n",
              "    <tr>\n",
              "      <th>3</th>\n",
              "      <td>12</td>\n",
              "    </tr>\n",
              "    <tr>\n",
              "      <th>4</th>\n",
              "      <td>12</td>\n",
              "    </tr>\n",
              "    <tr>\n",
              "      <th>...</th>\n",
              "      <td>...</td>\n",
              "    </tr>\n",
              "    <tr>\n",
              "      <th>99995</th>\n",
              "      <td>07</td>\n",
              "    </tr>\n",
              "    <tr>\n",
              "      <th>99996</th>\n",
              "      <td>15</td>\n",
              "    </tr>\n",
              "    <tr>\n",
              "      <th>99997</th>\n",
              "      <td>12</td>\n",
              "    </tr>\n",
              "    <tr>\n",
              "      <th>99998</th>\n",
              "      <td>12</td>\n",
              "    </tr>\n",
              "    <tr>\n",
              "      <th>99999</th>\n",
              "      <td>20</td>\n",
              "    </tr>\n",
              "  </tbody>\n",
              "</table>\n",
              "<p>100000 rows × 1 columns</p>\n",
              "</div><br><label><b>dtype:</b> object</label>"
            ]
          },
          "metadata": {},
          "execution_count": 11
        }
      ]
    },
    {
      "cell_type": "code",
      "source": [
        "df.Minute"
      ],
      "metadata": {
        "colab": {
          "base_uri": "https://localhost:8080/",
          "height": 453
        },
        "id": "r58JGEtmS_Jw",
        "outputId": "9aa4ca4f-0171-4310-f094-f0a98421fecc"
      },
      "execution_count": 12,
      "outputs": [
        {
          "output_type": "execute_result",
          "data": {
            "text/plain": [
              "0        18\n",
              "1        30\n",
              "2        54\n",
              "3        20\n",
              "4        39\n",
              "         ..\n",
              "99995    51\n",
              "99996    45\n",
              "99997    19\n",
              "99998    34\n",
              "99999    53\n",
              "Name: Minute, Length: 100000, dtype: object"
            ],
            "text/html": [
              "<div>\n",
              "<style scoped>\n",
              "    .dataframe tbody tr th:only-of-type {\n",
              "        vertical-align: middle;\n",
              "    }\n",
              "\n",
              "    .dataframe tbody tr th {\n",
              "        vertical-align: top;\n",
              "    }\n",
              "\n",
              "    .dataframe thead th {\n",
              "        text-align: right;\n",
              "    }\n",
              "</style>\n",
              "<table border=\"1\" class=\"dataframe\">\n",
              "  <thead>\n",
              "    <tr style=\"text-align: right;\">\n",
              "      <th></th>\n",
              "      <th>Minute</th>\n",
              "    </tr>\n",
              "  </thead>\n",
              "  <tbody>\n",
              "    <tr>\n",
              "      <th>0</th>\n",
              "      <td>18</td>\n",
              "    </tr>\n",
              "    <tr>\n",
              "      <th>1</th>\n",
              "      <td>30</td>\n",
              "    </tr>\n",
              "    <tr>\n",
              "      <th>2</th>\n",
              "      <td>54</td>\n",
              "    </tr>\n",
              "    <tr>\n",
              "      <th>3</th>\n",
              "      <td>20</td>\n",
              "    </tr>\n",
              "    <tr>\n",
              "      <th>4</th>\n",
              "      <td>39</td>\n",
              "    </tr>\n",
              "    <tr>\n",
              "      <th>...</th>\n",
              "      <td>...</td>\n",
              "    </tr>\n",
              "    <tr>\n",
              "      <th>99995</th>\n",
              "      <td>51</td>\n",
              "    </tr>\n",
              "    <tr>\n",
              "      <th>99996</th>\n",
              "      <td>45</td>\n",
              "    </tr>\n",
              "    <tr>\n",
              "      <th>99997</th>\n",
              "      <td>19</td>\n",
              "    </tr>\n",
              "    <tr>\n",
              "      <th>99998</th>\n",
              "      <td>34</td>\n",
              "    </tr>\n",
              "    <tr>\n",
              "      <th>99999</th>\n",
              "      <td>53</td>\n",
              "    </tr>\n",
              "  </tbody>\n",
              "</table>\n",
              "<p>100000 rows × 1 columns</p>\n",
              "</div><br><label><b>dtype:</b> object</label>"
            ]
          },
          "metadata": {},
          "execution_count": 12
        }
      ]
    },
    {
      "cell_type": "code",
      "source": [
        "df = df.drop([\"Time\",\"User\",\"Card\"],axis=1)\n",
        "df.info()"
      ],
      "metadata": {
        "colab": {
          "base_uri": "https://localhost:8080/"
        },
        "id": "qoPwUQq6TBxH",
        "outputId": "0562ec47-b81c-4b07-ace0-d17900215a83"
      },
      "execution_count": 13,
      "outputs": [
        {
          "output_type": "stream",
          "name": "stdout",
          "text": [
            "<class 'pandas.core.frame.DataFrame'>\n",
            "RangeIndex: 100000 entries, 0 to 99999\n",
            "Data columns (total 33 columns):\n",
            " #   Column                       Non-Null Count   Dtype  \n",
            "---  ------                       --------------   -----  \n",
            " 0   Year                         100000 non-null  int64  \n",
            " 1   Month                        100000 non-null  int64  \n",
            " 2   Day                          100000 non-null  int64  \n",
            " 3   Amount                       100000 non-null  float64\n",
            " 4   Use Chip                     100000 non-null  object \n",
            " 5   Merchant Name                100000 non-null  int64  \n",
            " 6   Merchant City                100000 non-null  object \n",
            " 7   Merchant State               88723 non-null   object \n",
            " 8   Zip                          88095 non-null   float64\n",
            " 9   MCC                          100000 non-null  int64  \n",
            " 10  Errors?                      1630 non-null    object \n",
            " 11  Is Fraud?                    100000 non-null  object \n",
            " 12  Person                       100000 non-null  object \n",
            " 13  Current Age                  100000 non-null  int64  \n",
            " 14  Retirement Age               100000 non-null  int64  \n",
            " 15  Birth Year                   100000 non-null  int64  \n",
            " 16  Birth Month                  100000 non-null  int64  \n",
            " 17  Gender                       100000 non-null  object \n",
            " 18  Address                      100000 non-null  object \n",
            " 19  Apartment                    27196 non-null   float64\n",
            " 20  City                         100000 non-null  object \n",
            " 21  State                        100000 non-null  object \n",
            " 22  Zipcode                      100000 non-null  int64  \n",
            " 23  Latitude                     100000 non-null  float64\n",
            " 24  Longitude                    100000 non-null  float64\n",
            " 25  Per Capita Income - Zipcode  100000 non-null  object \n",
            " 26  Yearly Income - Person       100000 non-null  object \n",
            " 27  Total Debt                   100000 non-null  object \n",
            " 28  FICO Score                   100000 non-null  int64  \n",
            " 29  Num Credit Cards             100000 non-null  int64  \n",
            " 30  card_id                      100000 non-null  object \n",
            " 31  Hour                         100000 non-null  object \n",
            " 32  Minute                       100000 non-null  object \n",
            "dtypes: float64(5), int64(12), object(16)\n",
            "memory usage: 25.2+ MB\n"
          ]
        }
      ]
    },
    {
      "cell_type": "code",
      "source": [
        "df[\"Errors?\"].unique()"
      ],
      "metadata": {
        "colab": {
          "base_uri": "https://localhost:8080/"
        },
        "id": "Ee38Mt-ZTOsO",
        "outputId": "931d1c55-ef6f-4833-bd6f-0c8142c15987"
      },
      "execution_count": 14,
      "outputs": [
        {
          "output_type": "execute_result",
          "data": {
            "text/plain": [
              "array([nan, 'Bad PIN', 'Insufficient Balance', 'Technical Glitch',\n",
              "       'Bad Card Number', 'Bad CVV', 'Bad Expiration', 'Bad Zipcode',\n",
              "       'Bad Expiration,Insufficient Balance',\n",
              "       'Bad PIN,Insufficient Balance',\n",
              "       'Insufficient Balance,Technical Glitch'], dtype=object)"
            ]
          },
          "metadata": {},
          "execution_count": 14
        }
      ]
    },
    {
      "cell_type": "code",
      "source": [
        "\n",
        "df[\"Errors?\"]= df[\"Errors?\"].fillna(\"No error\")"
      ],
      "metadata": {
        "id": "KfYzke9QTfer"
      },
      "execution_count": 15,
      "outputs": []
    },
    {
      "cell_type": "code",
      "source": [
        "df = df.drop(columns=[\"Merchant State\",\"Zip\",\"Apartment\"],axis=1)"
      ],
      "metadata": {
        "id": "r633qk1xThQc"
      },
      "execution_count": 16,
      "outputs": []
    },
    {
      "cell_type": "code",
      "source": [
        "# change the is fraud column to binary\n",
        "df[\"Is Fraud?\"] = df[\"Is Fraud?\"].apply(lambda x: 1 if x == 'Yes' else 0)"
      ],
      "metadata": {
        "id": "3ii4pv96Txax"
      },
      "execution_count": 17,
      "outputs": []
    },
    {
      "cell_type": "code",
      "source": [
        "df['Per Capita Income - Zipcode'] = df['Per Capita Income - Zipcode'].str.replace('$', '').astype(float)\n",
        "df['Yearly Income - Person'] = df['Yearly Income - Person'].str.replace('$', '').astype(float)\n",
        "df['Total Debt'] = df['Total Debt'].str.replace('$', '').astype(float)\n"
      ],
      "metadata": {
        "id": "At995Gy8Tkzr"
      },
      "execution_count": 18,
      "outputs": []
    },
    {
      "cell_type": "code",
      "source": [
        "categorical_columns = ['Errors?' , 'Person', 'Address', 'City', 'Merchant City', 'MCC', 'card_id', 'State']\n",
        "le = LabelEncoder()\n",
        "for col in categorical_columns:\n",
        "    df[col] = le.fit_transform(df[col].astype(str))"
      ],
      "metadata": {
        "id": "T2iX5vsDU9YP"
      },
      "execution_count": 19,
      "outputs": []
    },
    {
      "cell_type": "code",
      "source": [
        "import pandas as pd\n",
        "from sklearn.preprocessing import LabelEncoder\n",
        "\n",
        "# label encode plus freq encode\n",
        "\n",
        "le = LabelEncoder()\n",
        "df['Merchant_Label'] = le.fit_transform(df['Merchant Name'])\n",
        "\n",
        "merchant_frequencies = df['Merchant Name'].value_counts(normalize=True)\n",
        "df['Merchant_Frequency'] = df['Merchant Name'].map(dict(merchant_frequencies))\n",
        "print(\"sample after encoing：\")\n",
        "print(df[['Merchant Name', 'Merchant_Label', 'Merchant_Frequency']].head())\n",
        "\n",
        "df = df.drop('Merchant Name', axis=1)"
      ],
      "metadata": {
        "colab": {
          "base_uri": "https://localhost:8080/"
        },
        "id": "X1eOB9TCSHf-",
        "outputId": "b75f4d14-cf22-40b0-a6b3-cc87a2da3ade"
      },
      "execution_count": 20,
      "outputs": [
        {
          "output_type": "stream",
          "name": "stdout",
          "text": [
            "sample after encoing：\n",
            "         Merchant Name  Merchant_Label  Merchant_Frequency\n",
            "0 -5162038175624867091            2594             0.02753\n",
            "1  6091778774361517457            9314             0.00243\n",
            "2  2027553650310142703            6893             0.04191\n",
            "3 -4317138273541964845            3174             0.00205\n",
            "4 -5581123930363301609            2322             0.00323\n"
          ]
        }
      ]
    },
    {
      "cell_type": "code",
      "source": [
        "df_encoded = pd.get_dummies(df, columns=['State'], prefix='State')"
      ],
      "metadata": {
        "id": "0YgwSAwMUr7V"
      },
      "execution_count": 21,
      "outputs": []
    },
    {
      "cell_type": "code",
      "source": [
        "gender_encoded = pd.get_dummies(df['Gender'], prefix='Gender')\n",
        "\n",
        "\n",
        "df = pd.concat([df, gender_encoded], axis=1)\n",
        "\n",
        "df = df.drop(['Gender'], axis=1)"
      ],
      "metadata": {
        "id": "aTskepdDY78P"
      },
      "execution_count": 22,
      "outputs": []
    },
    {
      "cell_type": "code",
      "source": [
        "bool_columns = df.select_dtypes(include=['bool']).columns\n",
        "for col in bool_columns:\n",
        "    df[col] = df[col].astype(int)"
      ],
      "metadata": {
        "id": "4UTAqSHiPPZC"
      },
      "execution_count": 23,
      "outputs": []
    },
    {
      "cell_type": "code",
      "source": [
        "df[\"Use Chip\"]=LabelEncoder().fit_transform(df[\"Use Chip\"])"
      ],
      "metadata": {
        "id": "O5rqfsLhQEbb"
      },
      "execution_count": 24,
      "outputs": []
    },
    {
      "cell_type": "code",
      "source": [
        "df.info()"
      ],
      "metadata": {
        "id": "vjBDCSUkT4yO",
        "colab": {
          "base_uri": "https://localhost:8080/"
        },
        "outputId": "cbbc6a77-a28b-4d90-b627-0093095f194b"
      },
      "execution_count": 25,
      "outputs": [
        {
          "output_type": "stream",
          "name": "stdout",
          "text": [
            "<class 'pandas.core.frame.DataFrame'>\n",
            "RangeIndex: 100000 entries, 0 to 99999\n",
            "Data columns (total 32 columns):\n",
            " #   Column                       Non-Null Count   Dtype  \n",
            "---  ------                       --------------   -----  \n",
            " 0   Year                         100000 non-null  int64  \n",
            " 1   Month                        100000 non-null  int64  \n",
            " 2   Day                          100000 non-null  int64  \n",
            " 3   Amount                       100000 non-null  float64\n",
            " 4   Use Chip                     100000 non-null  int64  \n",
            " 5   Merchant City                100000 non-null  int64  \n",
            " 6   MCC                          100000 non-null  int64  \n",
            " 7   Errors?                      100000 non-null  int64  \n",
            " 8   Is Fraud?                    100000 non-null  int64  \n",
            " 9   Person                       100000 non-null  int64  \n",
            " 10  Current Age                  100000 non-null  int64  \n",
            " 11  Retirement Age               100000 non-null  int64  \n",
            " 12  Birth Year                   100000 non-null  int64  \n",
            " 13  Birth Month                  100000 non-null  int64  \n",
            " 14  Address                      100000 non-null  int64  \n",
            " 15  City                         100000 non-null  int64  \n",
            " 16  State                        100000 non-null  int64  \n",
            " 17  Zipcode                      100000 non-null  int64  \n",
            " 18  Latitude                     100000 non-null  float64\n",
            " 19  Longitude                    100000 non-null  float64\n",
            " 20  Per Capita Income - Zipcode  100000 non-null  float64\n",
            " 21  Yearly Income - Person       100000 non-null  float64\n",
            " 22  Total Debt                   100000 non-null  float64\n",
            " 23  FICO Score                   100000 non-null  int64  \n",
            " 24  Num Credit Cards             100000 non-null  int64  \n",
            " 25  card_id                      100000 non-null  int64  \n",
            " 26  Hour                         100000 non-null  object \n",
            " 27  Minute                       100000 non-null  object \n",
            " 28  Merchant_Label               100000 non-null  int64  \n",
            " 29  Merchant_Frequency           100000 non-null  float64\n",
            " 30  Gender_Female                100000 non-null  int64  \n",
            " 31  Gender_Male                  100000 non-null  int64  \n",
            "dtypes: float64(7), int64(23), object(2)\n",
            "memory usage: 24.4+ MB\n"
          ]
        }
      ]
    },
    {
      "cell_type": "code",
      "source": [
        "from sklearn.preprocessing import StandardScaler\n",
        "\n",
        "scaler = StandardScaler()\n",
        "numerical_features = [\n",
        "    'Current Age',\n",
        "    'Latitude',\n",
        "    'Longitude',\n",
        "    'Per Capita Income - Zipcode',\n",
        "    'Yearly Income - Person',\n",
        "    'Total Debt',\n",
        "    'FICO Score'\n",
        "]\n",
        "\n",
        "df[numerical_features] = scaler.fit_transform(df[numerical_features])"
      ],
      "metadata": {
        "id": "vPSPucoBBYCp"
      },
      "execution_count": 26,
      "outputs": []
    },
    {
      "cell_type": "code",
      "source": [
        "df['Hour'] = df['Hour'].astype(str).str.zfill(2)\n",
        "df['Minute'] = df['Minute'].astype(str).str.zfill(2)\n",
        "\n",
        "# Combine all time-related columns into a single string\n",
        "df['datetime_str'] = df['Year'].astype(str) + '-' + \\\n",
        "                     df['Month'].astype(str).str.zfill(2) + '-' + \\\n",
        "                     df['Day'].astype(str).str.zfill(2) + ' ' + \\\n",
        "                     df['Hour'] + ':' + df['Minute']\n",
        "\n",
        "df['Transaction_DateTime'] = pd.to_datetime(df['datetime_str'])\n",
        "\n",
        "df = df.drop('datetime_str', axis=1)\n",
        "\n",
        "columns_to_drop = ['Year', 'Month', 'Day', 'Hour', 'Minute']\n",
        "\n",
        "df = df.drop(columns=columns_to_drop)\n"
      ],
      "metadata": {
        "id": "Dw5zPUWCCnPF"
      },
      "execution_count": 27,
      "outputs": []
    },
    {
      "cell_type": "code",
      "source": [
        "df.info()"
      ],
      "metadata": {
        "colab": {
          "base_uri": "https://localhost:8080/"
        },
        "id": "_eQqdCTmBYH6",
        "outputId": "fe734050-07ad-4874-9875-b5199e5a4979"
      },
      "execution_count": 28,
      "outputs": [
        {
          "output_type": "stream",
          "name": "stdout",
          "text": [
            "<class 'pandas.core.frame.DataFrame'>\n",
            "RangeIndex: 100000 entries, 0 to 99999\n",
            "Data columns (total 28 columns):\n",
            " #   Column                       Non-Null Count   Dtype         \n",
            "---  ------                       --------------   -----         \n",
            " 0   Amount                       100000 non-null  float64       \n",
            " 1   Use Chip                     100000 non-null  int64         \n",
            " 2   Merchant City                100000 non-null  int64         \n",
            " 3   MCC                          100000 non-null  int64         \n",
            " 4   Errors?                      100000 non-null  int64         \n",
            " 5   Is Fraud?                    100000 non-null  int64         \n",
            " 6   Person                       100000 non-null  int64         \n",
            " 7   Current Age                  100000 non-null  float64       \n",
            " 8   Retirement Age               100000 non-null  int64         \n",
            " 9   Birth Year                   100000 non-null  int64         \n",
            " 10  Birth Month                  100000 non-null  int64         \n",
            " 11  Address                      100000 non-null  int64         \n",
            " 12  City                         100000 non-null  int64         \n",
            " 13  State                        100000 non-null  int64         \n",
            " 14  Zipcode                      100000 non-null  int64         \n",
            " 15  Latitude                     100000 non-null  float64       \n",
            " 16  Longitude                    100000 non-null  float64       \n",
            " 17  Per Capita Income - Zipcode  100000 non-null  float64       \n",
            " 18  Yearly Income - Person       100000 non-null  float64       \n",
            " 19  Total Debt                   100000 non-null  float64       \n",
            " 20  FICO Score                   100000 non-null  float64       \n",
            " 21  Num Credit Cards             100000 non-null  int64         \n",
            " 22  card_id                      100000 non-null  int64         \n",
            " 23  Merchant_Label               100000 non-null  int64         \n",
            " 24  Merchant_Frequency           100000 non-null  float64       \n",
            " 25  Gender_Female                100000 non-null  int64         \n",
            " 26  Gender_Male                  100000 non-null  int64         \n",
            " 27  Transaction_DateTime         100000 non-null  datetime64[ns]\n",
            "dtypes: datetime64[ns](1), float64(9), int64(18)\n",
            "memory usage: 21.4 MB\n"
          ]
        }
      ]
    },
    {
      "cell_type": "markdown",
      "source": [
        "Graph"
      ],
      "metadata": {
        "id": "UwQcfxnsVQ43"
      }
    },
    {
      "cell_type": "code",
      "source": [
        "# Create an empty graph\n",
        "G = nx.MultiGraph()\n",
        "\n",
        "# Add nodes to the graph\n",
        "added_persons = set()\n",
        "added_merchants = set()"
      ],
      "metadata": {
        "id": "pWqUkDhTVSTu"
      },
      "execution_count": 66,
      "outputs": []
    },
    {
      "cell_type": "code",
      "source": [
        "# Add nodes to the graph for each unique person and merchant_label\n",
        "for _, row in df.iterrows():\n",
        "    person = row['Person']\n",
        "    merchant = row['Merchant_Label']\n",
        "    # Add person node with its properties (only if not already added)\n",
        "    if row['Person'] not in added_persons:\n",
        "        G.add_node(row['Person'],\n",
        "                   current_age=row['Current Age'],\n",
        "                   retirement_age=row['Retirement Age'],\n",
        "                   birth_year=row['Birth Year'],\n",
        "                   birth_month=row['Birth Month'],\n",
        "                   gender_female=row['Gender_Female'],\n",
        "                   gender_male=row['Gender_Male'],\n",
        "                   address=row['Address'],\n",
        "                   city=row['City'],\n",
        "                   state=row['State'],\n",
        "                   zipcode=row['Zipcode'],\n",
        "                   latitude=row['Latitude'],\n",
        "                   longitude=row['Longitude'],\n",
        "                   per_capita_income=row['Per Capita Income - Zipcode'],\n",
        "                   yearly_income=row['Yearly Income - Person'],\n",
        "                   total_debt=row['Total Debt'],\n",
        "                   fico_score=row['FICO Score'],\n",
        "                   num_credit_cards=row['Num Credit Cards'])\n",
        "        added_persons.add(row['Person'])\n",
        "\n",
        "    # Add merchant_label node with its properties (only if not already added)\n",
        "    if row['Merchant_Label'] not in added_merchants:\n",
        "        G.add_node(row['Merchant_Label'],\n",
        "                   merchant_city=row['Merchant City'],\n",
        "                   mcc=row['MCC'],\n",
        "                   merchant_frequency=row['Merchant_Frequency'])\n",
        "        added_merchants.add(row['Merchant_Label'])\n",
        "\n",
        "    # Add edges and properties to the edges\n",
        "    G.add_edge(row['Person'], row['Merchant_Label'],\n",
        "               card_id=row['card_id'],\n",
        "               amount=row['Amount'],\n",
        "               use_chip=row['Use Chip'],\n",
        "               errors=row['Errors?'],\n",
        "               is_fraud=row['Is Fraud?'],\n",
        "               transaction_datetime=row['Transaction_DateTime'])\n",
        "\n",
        "print(f\"Graph created with {G.number_of_nodes()} nodes and {G.number_of_edges()} edges.\")\n",
        "print(f\"Number of customer (person) nodes: {len(added_persons)}\")\n",
        "print(f\"Number of merchant nodes: {len(added_merchants)}\")\n",
        "\n",
        "print(f\"Average number of transactions per person: {G.number_of_edges() / len(added_persons):.2f}\")\n",
        "print(f\"Average number of customers per merchant: {G.number_of_edges() / len(added_merchants):.2f}\")"
      ],
      "metadata": {
        "colab": {
          "base_uri": "https://localhost:8080/"
        },
        "id": "Ov8Pp4VMWqOQ",
        "outputId": "b2f9731b-e0ff-4aa9-80b9-0535acd1b975"
      },
      "execution_count": 67,
      "outputs": [
        {
          "output_type": "stream",
          "name": "stdout",
          "text": [
            "Graph created with 11241 nodes and 100000 edges.\n",
            "Number of customer (person) nodes: 1770\n",
            "Number of merchant nodes: 11241\n",
            "Average number of transactions per person: 56.50\n",
            "Average number of customers per merchant: 8.90\n"
          ]
        }
      ]
    },
    {
      "cell_type": "code",
      "source": [
        "# Get the number of nodes and edges in the graph\n",
        "num_nodes = G.number_of_nodes()\n",
        "num_edges = G.number_of_edges()\n",
        "\n",
        "# Print the number of nodes and edges\n",
        "print(\"Number of nodes:\", num_nodes)\n",
        "print(\"Number of edges:\", num_edges)"
      ],
      "metadata": {
        "colab": {
          "base_uri": "https://localhost:8080/"
        },
        "id": "stJI2g8GaIlp",
        "outputId": "d44671a1-f1eb-4df5-e458-5c4088c8754a"
      },
      "execution_count": 88,
      "outputs": [
        {
          "output_type": "stream",
          "name": "stdout",
          "text": [
            "Number of nodes: 11241\n",
            "Number of edges: 100000\n"
          ]
        }
      ]
    },
    {
      "cell_type": "code",
      "source": [
        "# Convert the graph to an adjacency matrix\n",
        "adj_matrix = nx.adjacency_matrix(G).todense()"
      ],
      "metadata": {
        "id": "smpD9aQ9aUto"
      },
      "execution_count": 89,
      "outputs": []
    },
    {
      "cell_type": "code",
      "source": [
        "adj_matrix.shape"
      ],
      "metadata": {
        "colab": {
          "base_uri": "https://localhost:8080/"
        },
        "id": "Iflj6GGFaabD",
        "outputId": "d9ade407-ebee-4728-b5ec-0ea7419025e4"
      },
      "execution_count": 90,
      "outputs": [
        {
          "output_type": "execute_result",
          "data": {
            "text/plain": [
              "(11241, 11241)"
            ]
          },
          "metadata": {},
          "execution_count": 90
        }
      ]
    },
    {
      "cell_type": "code",
      "source": [
        "# Get a small sample of the nodes in the graph\n",
        "sample_nodes = list(G.nodes())[:10]\n",
        "\n",
        "# Print the properties of the sample nodes\n",
        "for node in sample_nodes:\n",
        "    node_attributes = G.nodes[node]\n",
        "    print(f\"Node: {node}, Properties: {node_attributes}\")"
      ],
      "metadata": {
        "colab": {
          "base_uri": "https://localhost:8080/"
        },
        "id": "R0T-QGKTacQa",
        "outputId": "59506f82-711a-4cc2-93ed-5edb6cb06fc2"
      },
      "execution_count": 91,
      "outputs": [
        {
          "output_type": "stream",
          "name": "stdout",
          "text": [
            "Node: 1013, Properties: {'current_age': 0.19538852806344065, 'retirement_age': 66, 'birth_year': 1962, 'birth_month': 12, 'gender_female': 1, 'gender_male': 0, 'address': 886, 'city': 468, 'state': 43, 'zipcode': 77086, 'latitude': -1.4728277041360276, 'longitude': -0.24543745401902314, 'per_capita_income': -0.757596886019072, 'yearly_income': -0.6582167723514143, 'total_debt': 0.24335526892786075, 'fico_score': 0.9032302106255455, 'num_credit_cards': 4, 'merchant_city': 885, 'mcc': 99, 'merchant_frequency': 1e-05}\n",
            "Node: 2594, Properties: {'merchant_city': 2060, 'mcc': 59, 'merchant_frequency': 0.02753}\n",
            "Node: 476, Properties: {'current_age': 0.761852495467451, 'retirement_age': 69, 'birth_year': 1954, 'birth_month': 2, 'gender_female': 1, 'gender_male': 0, 'address': 1353, 'city': 1068, 'state': 27, 'zipcode': 28586, 'latitude': -0.39595080304153585, 'longitude': 0.8767663568496342, 'per_capita_income': -0.7673230590831203, 'yearly_income': -0.6676663496507651, 'total_debt': -0.40979826087985954, 'fico_score': 1.5133973115150885, 'num_credit_cards': 4, 'merchant_city': 1239, 'mcc': 99, 'merchant_frequency': 1e-05}\n",
            "Node: 9314, Properties: {'merchant_city': 4687, 'mcc': 56, 'merchant_frequency': 0.00243}\n",
            "Node: 1694, Properties: {'current_age': -0.3081349985179019, 'retirement_age': 59, 'birth_year': 1970, 'birth_month': 5, 'gender_female': 0, 'gender_male': 1, 'address': 1218, 'city': 123, 'state': 9, 'zipcode': 34203, 'latitude': -1.9160189197489237, 'longitude': 0.5431215595425518, 'per_capita_income': -0.535078961397239, 'yearly_income': -0.43746642961483917, 'total_debt': -0.18573489814525673, 'fico_score': -2.2368980402938092, 'num_credit_cards': 4, 'merchant_city': 2369, 'mcc': 54, 'merchant_frequency': 1e-05}\n",
            "Node: 6893, Properties: {'merchant_city': 473, 'mcc': 59, 'merchant_frequency': 0.04191}\n",
            "Node: 306, Properties: {'current_age': -1.315182051680587, 'retirement_age': 67, 'birth_year': 1986, 'birth_month': 7, 'gender_female': 0, 'gender_male': 1, 'address': 1137, 'city': 508, 'state': 22, 'zipcode': 49048, 'latitude': 0.9530610550082446, 'longitude': 0.36398754475221684, 'per_capita_income': -0.5503871120458713, 'yearly_income': -0.4526268384124934, 'total_debt': 0.42934551487028716, 'fico_score': 0.17400611444048214, 'num_credit_cards': 1, 'merchant_city': 201, 'mcc': 81, 'merchant_frequency': 2e-05}\n",
            "Node: 3174, Properties: {'merchant_city': 4302, 'mcc': 50, 'merchant_frequency': 0.00205}\n",
            "Node: 1435, Properties: {'current_age': -0.8745989659219123, 'retirement_age': 70, 'birth_year': 1979, 'birth_month': 9, 'gender_female': 1, 'gender_male': 0, 'address': 1211, 'city': 646, 'state': 36, 'zipcode': 74855, 'latitude': -0.3609620228615705, 'longitude': -0.33839015585180865, 'per_capita_income': -0.5232384028844846, 'yearly_income': -0.42579825590607545, 'total_debt': 0.44523490030573176, 'fico_score': 0.05494911914496157, 'num_credit_cards': 1, 'merchant_city': 4202, 'mcc': 101, 'merchant_frequency': 3e-05}\n",
            "Node: 2322, Properties: {'merchant_city': 3163, 'mcc': 55, 'merchant_frequency': 0.00323}\n"
          ]
        }
      ]
    },
    {
      "cell_type": "code",
      "source": [
        "import random\n",
        "def print_diverse_edge_samples(G, sample_size=5):\n",
        "    # Sample edge\n",
        "    all_edges = list(G.edges(data=True))\n",
        "\n",
        "    sample_edges = random.sample(all_edges, min(sample_size, len(all_edges)))\n",
        "\n",
        "    print(f\"Sampling {len(sample_edges)} edges from a total of {len(all_edges)} edges:\")\n",
        "    for i, (u, v, data) in enumerate(sample_edges, 1):\n",
        "        print(f\"\\nEdge {i}:\")\n",
        "        print(f\"From node {u} to node {v}\")\n",
        "        print(\"Edge data:\")\n",
        "        for key, value in data.items():\n",
        "            print(f\"  {key}: {value}\")\n",
        "        print(\"-\" * 50)\n",
        "\n",
        "print_diverse_edge_samples(G)"
      ],
      "metadata": {
        "colab": {
          "base_uri": "https://localhost:8080/"
        },
        "id": "Z56cKn_ZZ-6o",
        "outputId": "082f04a7-0dd9-460a-f925-dd06a7974b80"
      },
      "execution_count": 92,
      "outputs": [
        {
          "output_type": "stream",
          "name": "stdout",
          "text": [
            "Sampling 5 edges from a total of 100000 edges:\n",
            "\n",
            "Edge 1:\n",
            "From node 2391 to node 835\n",
            "Edge data:\n",
            "  card_id: 3558\n",
            "  amount: 28.97\n",
            "  use_chip: 2\n",
            "  errors: 9\n",
            "  is_fraud: 0\n",
            "  transaction_datetime: 2006-01-08 12:40:00\n",
            "--------------------------------------------------\n",
            "\n",
            "Edge 2:\n",
            "From node 270 to node 9642\n",
            "Edge data:\n",
            "  card_id: 1263\n",
            "  amount: 86.72\n",
            "  use_chip: 2\n",
            "  errors: 9\n",
            "  is_fraud: 0\n",
            "  transaction_datetime: 2002-10-04 12:35:00\n",
            "--------------------------------------------------\n",
            "\n",
            "Edge 3:\n",
            "From node 6754 to node 1419\n",
            "Edge data:\n",
            "  card_id: 4739\n",
            "  amount: 5.78\n",
            "  use_chip: 2\n",
            "  errors: 9\n",
            "  is_fraud: 0\n",
            "  transaction_datetime: 2013-06-01 07:15:00\n",
            "--------------------------------------------------\n",
            "\n",
            "Edge 4:\n",
            "From node 2594 to node 1117\n",
            "Edge data:\n",
            "  card_id: 4164\n",
            "  amount: 6.05\n",
            "  use_chip: 0\n",
            "  errors: 9\n",
            "  is_fraud: 0\n",
            "  transaction_datetime: 2017-05-01 10:49:00\n",
            "--------------------------------------------------\n",
            "\n",
            "Edge 5:\n",
            "From node 283 to node 2385\n",
            "Edge data:\n",
            "  card_id: 4602\n",
            "  amount: 7.25\n",
            "  use_chip: 2\n",
            "  errors: 9\n",
            "  is_fraud: 0\n",
            "  transaction_datetime: 2002-09-20 15:47:00\n",
            "--------------------------------------------------\n"
          ]
        }
      ]
    },
    {
      "cell_type": "code",
      "source": [
        "# Create edge list\n",
        "edge_list = list(G.edges(data=True))\n",
        "\n",
        "# Create node list\n",
        "node_list = list(G.nodes(data=True))"
      ],
      "metadata": {
        "id": "AMSFpMa5d8TP"
      },
      "execution_count": 93,
      "outputs": []
    },
    {
      "cell_type": "code",
      "source": [
        "import numpy as np\n",
        "import torch\n",
        "\n",
        "# 假设 G 是您的图\n",
        "node_features = []\n",
        "for node, data in G.nodes(data=True):\n",
        "    # 提取所有数值特征\n",
        "    features = [value for value in data.values() if isinstance(value, (int, float))]\n",
        "    node_features.append(features)\n",
        "\n",
        "# 确保所有特征向量长度一致\n",
        "max_length = max(len(features) for features in node_features)\n",
        "node_features = [features + [0] * (max_length - len(features)) for features in node_features]\n",
        "\n",
        "# 转换为 numpy 数组\n",
        "node_features = np.array(node_features, dtype=float)\n",
        "\n",
        "# 转换为 PyTorch 张量\n",
        "node_features = torch.FloatTensor(node_features)\n",
        "print(\"Node features shape:\", node_features.shape)\n",
        "\n",
        "# 可选：如果您想区分客户节点和商家节点\n",
        "customer_nodes = set(node for node in G.nodes() if 'current_age' in G.nodes[node])\n",
        "merchant_nodes = set(G.nodes()) - customer_nodes\n",
        "\n",
        "node_types = torch.zeros(len(G.nodes()), dtype=torch.long)\n",
        "node_types[list(merchant_nodes)] = 1\n",
        "\n",
        "print(\"Node types shape:\", node_types.shape)"
      ],
      "metadata": {
        "colab": {
          "base_uri": "https://localhost:8080/"
        },
        "id": "fBIEDev6bF8g",
        "outputId": "df343c5c-5744-4369-9cee-1d8e641c3728"
      },
      "execution_count": 94,
      "outputs": [
        {
          "output_type": "stream",
          "name": "stdout",
          "text": [
            "Node features shape: torch.Size([11241, 20])\n",
            "Node types shape: torch.Size([11241])\n"
          ]
        }
      ]
    },
    {
      "cell_type": "code",
      "source": [
        "print(f\"Number of edges: {num_edges}\")"
      ],
      "metadata": {
        "colab": {
          "base_uri": "https://localhost:8080/"
        },
        "id": "As7CAuvW1PYo",
        "outputId": "d4922ac5-0592-407d-f5e7-a62d2fcc7409"
      },
      "execution_count": 95,
      "outputs": [
        {
          "output_type": "stream",
          "name": "stdout",
          "text": [
            "Number of edges: 100000\n"
          ]
        }
      ]
    },
    {
      "cell_type": "code",
      "source": [
        "print(\"\\nFormatted output of first 5 rows:\")\n",
        "for i in range(5):\n",
        "    print(f\"Row {i + 1}: {node_features[i].tolist()}\")"
      ],
      "metadata": {
        "colab": {
          "base_uri": "https://localhost:8080/"
        },
        "id": "gUaO4C0onzGJ",
        "outputId": "2f0da7c6-30fe-4d14-b633-f590f001e8f2"
      },
      "execution_count": 96,
      "outputs": [
        {
          "output_type": "stream",
          "name": "stdout",
          "text": [
            "\n",
            "Formatted output of first 5 rows:\n",
            "Row 1: [0.195388525724411, 66.0, 1962.0, 12.0, 1.0, 0.0, 886.0, 468.0, 43.0, 77086.0, -1.472827672958374, -0.24543745815753937, -0.7575969099998474, -0.6582167744636536, 0.24335527420043945, 0.9032301902770996, 4.0, 885.0, 99.0, 9.999999747378752e-06]\n",
            "Row 2: [2060.0, 59.0, 0.027529999613761902, 0.0, 0.0, 0.0, 0.0, 0.0, 0.0, 0.0, 0.0, 0.0, 0.0, 0.0, 0.0, 0.0, 0.0, 0.0, 0.0, 0.0]\n",
            "Row 3: [0.761852502822876, 69.0, 1954.0, 2.0, 1.0, 0.0, 1353.0, 1068.0, 27.0, 28586.0, -0.3959507942199707, 0.8767663836479187, -0.7673230767250061, -0.6676663756370544, -0.409798264503479, 1.5133973360061646, 4.0, 1239.0, 99.0, 9.999999747378752e-06]\n",
            "Row 4: [4687.0, 56.0, 0.0024300001095980406, 0.0, 0.0, 0.0, 0.0, 0.0, 0.0, 0.0, 0.0, 0.0, 0.0, 0.0, 0.0, 0.0, 0.0, 0.0, 0.0, 0.0]\n",
            "Row 5: [-0.3081350028514862, 59.0, 1970.0, 5.0, 0.0, 1.0, 1218.0, 123.0, 9.0, 34203.0, -1.9160189628601074, 0.5431215763092041, -0.5350789427757263, -0.43746644258499146, -0.18573489785194397, -2.2368979454040527, 4.0, 2369.0, 54.0, 9.999999747378752e-06]\n"
          ]
        }
      ]
    },
    {
      "cell_type": "code",
      "source": [
        "print(f\"Number of edges: {num_edges}\")"
      ],
      "metadata": {
        "colab": {
          "base_uri": "https://localhost:8080/"
        },
        "id": "J42uqsXT1OuO",
        "outputId": "f732f052-3dc1-4bae-979d-45e4e143d0a0"
      },
      "execution_count": 97,
      "outputs": [
        {
          "output_type": "stream",
          "name": "stdout",
          "text": [
            "Number of edges: 100000\n"
          ]
        }
      ]
    },
    {
      "cell_type": "code",
      "source": [
        "import networkx as nx\n",
        "import torch\n",
        "from scipy import sparse\n",
        "\n",
        "# 对于MultiGraph，我们可能想要合并多条边\n",
        "adj_matrix = nx.adjacency_matrix(G, weight='weight')  # 如果边有权重，使用'weight'参数\n",
        "\n",
        "# 将 scipy 稀疏矩阵转换为 COO 格式\n",
        "adj_matrix = adj_matrix.tocoo()\n",
        "\n",
        "# 创建 PyTorch 稀疏张量\n",
        "indices = torch.LongTensor([adj_matrix.row, adj_matrix.col])\n",
        "values = torch.FloatTensor(adj_matrix.data)\n",
        "shape = adj_matrix.shape\n",
        "adj_tensor = torch.sparse_coo_tensor(indices, values, shape)\n",
        "\n",
        "print(\"Adjacency tensor shape:\", adj_tensor.shape)\n",
        "\n",
        "# 检查稀疏度\n",
        "sparsity = 1.0 - (adj_tensor._nnz() / (adj_tensor.shape[0] * adj_tensor.shape[1]))\n",
        "print(f\"Adjacency matrix sparsity: {sparsity:.4f}\")"
      ],
      "metadata": {
        "colab": {
          "base_uri": "https://localhost:8080/"
        },
        "id": "6NioDhDXIlZj",
        "outputId": "f77cbb1c-c955-4b3a-ed5b-53b6d8fe2ef0"
      },
      "execution_count": 98,
      "outputs": [
        {
          "output_type": "stream",
          "name": "stdout",
          "text": [
            "Adjacency tensor shape: torch.Size([11241, 11241])\n",
            "Adjacency matrix sparsity: 0.9994\n"
          ]
        }
      ]
    },
    {
      "cell_type": "code",
      "source": [
        "import torch\n",
        "\n",
        "# 确保 node_features 是 PyTorch 张量\n",
        "if not isinstance(node_features, torch.Tensor):\n",
        "    node_features = torch.tensor(node_features, dtype=torch.float)\n",
        "\n",
        "# 打印 node_features 的统计信息\n",
        "print(\"node_features stats:\", node_features.min().item(), node_features.max().item(), node_features.mean().item())\n",
        "print(\"node_features contains NaN:\", torch.isnan(node_features).any())\n",
        "\n",
        "# 检查 adj_tensor 是否为稀疏张量\n",
        "if adj_tensor.is_sparse:\n",
        "    # 如果是稀疏张量，首先合并它\n",
        "    adj_tensor = adj_tensor.coalesce()\n",
        "    edge_index = adj_tensor._indices()\n",
        "else:\n",
        "    # 如果不是稀疏张量，转换为稀疏张量并合并\n",
        "    adj_tensor = adj_tensor.to_sparse().coalesce()\n",
        "    edge_index = adj_tensor._indices()\n",
        "\n",
        "\n",
        "# 打印 adj_tensor 的统计信息\n",
        "print(\"adj_tensor stats:\", adj_tensor.values().min().item(), adj_tensor.values().max().item(), adj_tensor.values().mean().item())\n",
        "print(\"adj_tensor contains NaN:\", torch.isnan(adj_tensor.values()).any())"
      ],
      "metadata": {
        "colab": {
          "base_uri": "https://localhost:8080/"
        },
        "id": "p3PhOCb5x4FL",
        "outputId": "a2079777-9f04-4638-8a4f-d657929aea8c"
      },
      "execution_count": 99,
      "outputs": [
        {
          "output_type": "stream",
          "name": "stdout",
          "text": [
            "node_features stats: -4.1870012283325195 99508.0 554.5155029296875\n",
            "node_features contains NaN: tensor(False)\n",
            "adj_tensor stats: 1.0 120.0 2.4921247959136963\n",
            "adj_tensor contains NaN: tensor(False)\n"
          ]
        }
      ]
    },
    {
      "cell_type": "code",
      "source": [
        "print(f\"Number of edges: {num_edges}\")"
      ],
      "metadata": {
        "colab": {
          "base_uri": "https://localhost:8080/"
        },
        "id": "6GpwTrAD1Sel",
        "outputId": "fb102be7-5676-435e-a136-eaf4bb5c679c"
      },
      "execution_count": 100,
      "outputs": [
        {
          "output_type": "stream",
          "name": "stdout",
          "text": [
            "Number of edges: 100000\n"
          ]
        }
      ]
    },
    {
      "cell_type": "code",
      "source": [
        "labels = torch.tensor(df['Is Fraud?'].values, dtype=torch.long)\n",
        "\n",
        "# 创建 SimpleGraphData 对象\n",
        "class SimpleGraphData:\n",
        "    def __init__(self, x, edge_index, y=None):\n",
        "        self.x = x  # 节点特征\n",
        "        self.edge_index = edge_index  # 边索引\n",
        "        self.y = y  # 节点标签\n",
        "        self.num_nodes = x.size(0)\n",
        "        self.num_edges = edge_index.size(1)\n",
        "\n",
        "    def __repr__(self):\n",
        "        return f'SimpleGraphData(num_nodes={self.num_nodes}, num_edges={self.num_edges})'\n",
        "\n",
        "# 创建图数据对象，包括标签\n",
        "data = SimpleGraphData(x=node_features, edge_index=edge_index, y=labels)\n",
        "\n"
      ],
      "metadata": {
        "id": "EVkzWORYbc2k"
      },
      "execution_count": 105,
      "outputs": []
    },
    {
      "cell_type": "code",
      "source": [
        "import torch\n",
        "from sklearn.model_selection import train_test_split\n",
        "\n",
        "# 获取节点和边的数量\n",
        "num_nodes\n",
        "num_edges\n",
        "\n",
        "# 创建节点和边的索引列表\n",
        "node_indices = list(range(num_nodes))\n",
        "edge_indices = list(range(num_edges))\n",
        "\n",
        "# 为节点创建掩码\n",
        "# 注意：如果没有节点标签，可以随机分割\n",
        "node_train_idx, node_temp_idx = train_test_split(node_indices, test_size=0.2, random_state=42)\n",
        "node_val_idx, node_test_idx = train_test_split(node_temp_idx, test_size=0.5, random_state=42)\n",
        "\n",
        "data.node_train_mask = torch.zeros(num_nodes, dtype=torch.bool)\n",
        "data.node_val_mask = torch.zeros(num_nodes, dtype=torch.bool)\n",
        "data.node_test_mask = torch.zeros(num_nodes, dtype=torch.bool)\n",
        "\n",
        "data.node_train_mask[node_train_idx] = True\n",
        "data.node_val_mask[node_val_idx] = True\n",
        "data.node_test_mask[node_test_idx] = True\n",
        "\n",
        "# 为边创建掩码\n",
        "# 假设 labels 是边的标签\n",
        "train_idx, temp_idx = train_test_split(edge_indices, test_size=0.2, stratify=labels)\n",
        "val_idx, test_idx = train_test_split(temp_idx, test_size=0.5, stratify=labels[temp_idx])\n",
        "\n",
        "data.edge_train_mask = torch.zeros(num_edges, dtype=torch.bool)\n",
        "data.edge_val_mask = torch.zeros(num_edges, dtype=torch.bool)\n",
        "data.edge_test_mask = torch.zeros(num_edges, dtype=torch.bool)\n",
        "\n",
        "data.edge_train_mask[train_idx] = True\n",
        "data.edge_val_mask[val_idx] = True\n",
        "data.edge_test_mask[test_idx] = True\n",
        "\n",
        "# 打印节点集合的分布\n",
        "print(\"Node set distribution:\")\n",
        "print(f\"Train: {data.node_train_mask.sum().item()}\")\n",
        "print(f\"Validation: {data.node_val_mask.sum().item()}\")\n",
        "print(f\"Test: {data.node_test_mask.sum().item()}\")\n",
        "\n",
        "# 打印边集合的标签分布\n",
        "print(\"\\nEdge set label distribution:\")\n",
        "print(\"Train set:\")\n",
        "print(labels[data.edge_train_mask].bincount())\n",
        "print(\"Validation set:\")\n",
        "print(labels[data.edge_val_mask].bincount())\n",
        "print(\"Test set:\")\n",
        "print(labels[data.edge_test_mask].bincount())\n"
      ],
      "metadata": {
        "colab": {
          "base_uri": "https://localhost:8080/"
        },
        "id": "_cGNSGywbgS1",
        "outputId": "ef557841-cef9-4e4a-bcd3-0be871374b13"
      },
      "execution_count": 106,
      "outputs": [
        {
          "output_type": "stream",
          "name": "stdout",
          "text": [
            "Node set distribution:\n",
            "Train: 8992\n",
            "Validation: 1124\n",
            "Test: 1125\n",
            "\n",
            "Edge set label distribution:\n",
            "Train set:\n",
            "tensor([79906,    94])\n",
            "Validation set:\n",
            "tensor([9988,   12])\n",
            "Test set:\n",
            "tensor([9989,   11])\n"
          ]
        }
      ]
    },
    {
      "cell_type": "code",
      "source": [
        "# 保存 Data 对象\n",
        "torch.save(data, 'my_graph_data.pt')\n",
        "\n",
        "print(\"Data object saved as 'my_graph_data.pt'\")"
      ],
      "metadata": {
        "colab": {
          "base_uri": "https://localhost:8080/"
        },
        "id": "MIb_7ZjSbtaB",
        "outputId": "cdaa9093-675c-428c-bca3-902bc712e931"
      },
      "execution_count": 107,
      "outputs": [
        {
          "output_type": "stream",
          "name": "stdout",
          "text": [
            "Data object saved as 'my_graph_data.pt'\n"
          ]
        }
      ]
    },
    {
      "cell_type": "code",
      "source": [
        "import os\n",
        "\n",
        "# 保存 Data 对象\n",
        "torch.save(data, 'my_graph_data.pt')\n",
        "\n",
        "# 检查文件是否成功保存\n",
        "if os.path.exists('my_graph_data.pt'):\n",
        "    print(\"File 'my_graph_data.pt' has been successfully saved.\")\n",
        "    print(\"File size:\", os.path.getsize('my_graph_data.pt'), \"bytes\")\n",
        "else:\n",
        "    print(\"Error: File 'my_graph_data.pt' was not saved.\")\n",
        "\n",
        "# 打印当前工作目录\n",
        "print(\"Current working directory:\", os.getcwd())"
      ],
      "metadata": {
        "colab": {
          "base_uri": "https://localhost:8080/"
        },
        "id": "BaX8bFi1x4JV",
        "outputId": "25ea0696-faa2-4a30-e182-8cfe4a998f81"
      },
      "execution_count": 108,
      "outputs": [
        {
          "output_type": "stream",
          "name": "stdout",
          "text": [
            "File 'my_graph_data.pt' has been successfully saved.\n",
            "File size: 3320266 bytes\n",
            "Current working directory: /content\n"
          ]
        }
      ]
    },
    {
      "cell_type": "code",
      "source": [
        "from google.colab import files\n",
        "\n",
        "files.download('my_graph_data.pt')"
      ],
      "metadata": {
        "colab": {
          "base_uri": "https://localhost:8080/",
          "height": 17
        },
        "id": "NcRWTkwmx4OJ",
        "outputId": "022fb61c-dadd-434b-899f-d9cd8f777268"
      },
      "execution_count": 109,
      "outputs": [
        {
          "output_type": "display_data",
          "data": {
            "text/plain": [
              "<IPython.core.display.Javascript object>"
            ],
            "application/javascript": [
              "\n",
              "    async function download(id, filename, size) {\n",
              "      if (!google.colab.kernel.accessAllowed) {\n",
              "        return;\n",
              "      }\n",
              "      const div = document.createElement('div');\n",
              "      const label = document.createElement('label');\n",
              "      label.textContent = `Downloading \"${filename}\": `;\n",
              "      div.appendChild(label);\n",
              "      const progress = document.createElement('progress');\n",
              "      progress.max = size;\n",
              "      div.appendChild(progress);\n",
              "      document.body.appendChild(div);\n",
              "\n",
              "      const buffers = [];\n",
              "      let downloaded = 0;\n",
              "\n",
              "      const channel = await google.colab.kernel.comms.open(id);\n",
              "      // Send a message to notify the kernel that we're ready.\n",
              "      channel.send({})\n",
              "\n",
              "      for await (const message of channel.messages) {\n",
              "        // Send a message to notify the kernel that we're ready.\n",
              "        channel.send({})\n",
              "        if (message.buffers) {\n",
              "          for (const buffer of message.buffers) {\n",
              "            buffers.push(buffer);\n",
              "            downloaded += buffer.byteLength;\n",
              "            progress.value = downloaded;\n",
              "          }\n",
              "        }\n",
              "      }\n",
              "      const blob = new Blob(buffers, {type: 'application/binary'});\n",
              "      const a = document.createElement('a');\n",
              "      a.href = window.URL.createObjectURL(blob);\n",
              "      a.download = filename;\n",
              "      div.appendChild(a);\n",
              "      a.click();\n",
              "      div.remove();\n",
              "    }\n",
              "  "
            ]
          },
          "metadata": {}
        },
        {
          "output_type": "display_data",
          "data": {
            "text/plain": [
              "<IPython.core.display.Javascript object>"
            ],
            "application/javascript": [
              "download(\"download_b8ba623c-20b7-4a04-a2a9-d293dc6b65a4\", \"my_graph_data.pt\", 3320266)"
            ]
          },
          "metadata": {}
        }
      ]
    },
    {
      "cell_type": "code",
      "source": [],
      "metadata": {
        "id": "_rhEnWXCqwvE"
      },
      "execution_count": null,
      "outputs": []
    }
  ]
}