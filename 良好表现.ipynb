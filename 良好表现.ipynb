{
  "nbformat": 4,
  "nbformat_minor": 0,
  "metadata": {
    "colab": {
      "provenance": [],
      "authorship_tag": "ABX9TyPUVUQ60tdzmeURZttpVXiu",
      "include_colab_link": true
    },
    "kernelspec": {
      "name": "python3",
      "display_name": "Python 3"
    },
    "language_info": {
      "name": "python"
    }
  },
  "cells": [
    {
      "cell_type": "markdown",
      "metadata": {
        "id": "view-in-github",
        "colab_type": "text"
      },
      "source": [
        "<a href=\"https://colab.research.google.com/github/sggyuan/GNN/blob/main/%E8%89%AF%E5%A5%BD%E8%A1%A8%E7%8E%B0.ipynb\" target=\"_parent\"><img src=\"https://colab.research.google.com/assets/colab-badge.svg\" alt=\"Open In Colab\"/></a>"
      ]
    },
    {
      "cell_type": "code",
      "execution_count": 1,
      "metadata": {
        "colab": {
          "base_uri": "https://localhost:8080/"
        },
        "id": "Cgc3ZBqiVOXg",
        "outputId": "3e019cf8-2967-4d48-ac05-28f6ddf09861"
      },
      "outputs": [
        {
          "output_type": "stream",
          "name": "stdout",
          "text": [
            "2.4.0+cu121\n",
            "\u001b[2K     \u001b[90m━━━━━━━━━━━━━━━━━━━━━━━━━━━━━━━━━━━━━━━━\u001b[0m \u001b[32m10.9/10.9 MB\u001b[0m \u001b[31m52.5 MB/s\u001b[0m eta \u001b[36m0:00:00\u001b[0m\n",
            "\u001b[2K     \u001b[90m━━━━━━━━━━━━━━━━━━━━━━━━━━━━━━━━━━━━━━━━\u001b[0m \u001b[32m5.1/5.1 MB\u001b[0m \u001b[31m29.1 MB/s\u001b[0m eta \u001b[36m0:00:00\u001b[0m\n",
            "\u001b[?25h  Installing build dependencies ... \u001b[?25l\u001b[?25hdone\n",
            "  Getting requirements to build wheel ... \u001b[?25l\u001b[?25hdone\n",
            "  Preparing metadata (pyproject.toml) ... \u001b[?25l\u001b[?25hdone\n",
            "  Building wheel for torch-geometric (pyproject.toml) ... \u001b[?25l\u001b[?25hdone\n"
          ]
        }
      ],
      "source": [
        "import os\n",
        "import torch\n",
        "os.environ['TORCH'] = torch.__version__\n",
        "print(torch.__version__)\n",
        "\n",
        "!pip install -q torch-scatter -f https://data.pyg.org/whl/torch-${TORCH}.html\n",
        "!pip install -q torch-sparse -f https://data.pyg.org/whl/torch-${TORCH}.html\n",
        "!pip install -q git+https://github.com/pyg-team/pytorch_geometric.git"
      ]
    },
    {
      "cell_type": "code",
      "source": [
        "import torch\n",
        "from torch_geometric.datasets import Planetoid\n",
        "import torch_geometric.transforms as T\n",
        "from torch_geometric.nn import GCNConv\n",
        "from torch_geometric.utils import train_test_split_edges"
      ],
      "metadata": {
        "id": "k5u3fUQ8VO4h"
      },
      "execution_count": 2,
      "outputs": []
    },
    {
      "cell_type": "code",
      "source": [
        "from google.colab import drive\n",
        "drive.mount('/content/drive')"
      ],
      "metadata": {
        "colab": {
          "base_uri": "https://localhost:8080/"
        },
        "id": "_Rurk_GEVTVN",
        "outputId": "b7ddf9be-103f-49b6-881b-942bbcfc20df"
      },
      "execution_count": 3,
      "outputs": [
        {
          "output_type": "stream",
          "name": "stdout",
          "text": [
            "Mounted at /content/drive\n"
          ]
        }
      ]
    },
    {
      "cell_type": "code",
      "source": [
        "data = torch.load('/content/drive/MyDrive/my_graph_data-bal.pt')"
      ],
      "metadata": {
        "colab": {
          "base_uri": "https://localhost:8080/"
        },
        "id": "EAJ2IELHVVKd",
        "outputId": "315fd00b-9cd7-44ec-89d5-6090b2ef1ea9"
      },
      "execution_count": 4,
      "outputs": [
        {
          "output_type": "stream",
          "name": "stderr",
          "text": [
            "<ipython-input-4-e9945f3ad513>:1: FutureWarning: You are using `torch.load` with `weights_only=False` (the current default value), which uses the default pickle module implicitly. It is possible to construct malicious pickle data which will execute arbitrary code during unpickling (See https://github.com/pytorch/pytorch/blob/main/SECURITY.md#untrusted-models for more details). In a future release, the default value for `weights_only` will be flipped to `True`. This limits the functions that could be executed during unpickling. Arbitrary objects will no longer be allowed to be loaded via this mode unless they are explicitly allowlisted by the user via `torch.serialization.add_safe_globals`. We recommend you start setting `weights_only=True` for any use case where you don't have full control of the loaded file. Please open an issue on GitHub for any issues related to this experimental feature.\n",
            "  data = torch.load('/content/drive/MyDrive/my_graph_data-bal.pt')\n"
          ]
        }
      ]
    },
    {
      "cell_type": "code",
      "source": [
        "data = train_test_split_edges(data)"
      ],
      "metadata": {
        "colab": {
          "base_uri": "https://localhost:8080/"
        },
        "id": "aQeOOiw8WMNM",
        "outputId": "cd8148af-2877-488a-dfef-0b4979416000"
      },
      "execution_count": 9,
      "outputs": [
        {
          "output_type": "stream",
          "name": "stderr",
          "text": [
            "/usr/local/lib/python3.10/dist-packages/torch_geometric/deprecation.py:26: UserWarning: 'train_test_split_edges' is deprecated, use 'transforms.RandomLinkSplit' instead\n",
            "  warnings.warn(out)\n"
          ]
        }
      ]
    },
    {
      "cell_type": "code",
      "source": [
        "data"
      ],
      "metadata": {
        "colab": {
          "base_uri": "https://localhost:8080/"
        },
        "id": "nvF4ORTNWOGk",
        "outputId": "f86cf50b-d749-45ea-b864-dde65b7524f7"
      },
      "execution_count": 10,
      "outputs": [
        {
          "output_type": "execute_result",
          "data": {
            "text/plain": [
              "Data(x=[16283, 13], y=[100000], val_pos_edge_index=[2, 5000], val_pos_edge_attr=[5000, 8], test_pos_edge_index=[2, 10000], test_pos_edge_attr=[10000, 8], train_pos_edge_index=[2, 98972], train_pos_edge_attr=[98972, 8], train_neg_adj_mask=[16283, 16283], val_neg_edge_index=[2, 5000], test_neg_edge_index=[2, 10000])"
            ]
          },
          "metadata": {},
          "execution_count": 10
        }
      ]
    },
    {
      "cell_type": "code",
      "source": [],
      "metadata": {
        "id": "u0zKBQSZWOK1"
      },
      "execution_count": null,
      "outputs": []
    },
    {
      "cell_type": "code",
      "source": [
        "class GCNEncoder(nn.Module):\n",
        "    def __init__(self, in_channels, out_channels, hidden_channels=64):\n",
        "        super(GCNEncoder, self).__init__()\n",
        "        self.conv1 = GCNConv(in_channels, hidden_channels)\n",
        "        self.conv2 = GCNConv(hidden_channels, hidden_channels)\n",
        "        self.conv3 = GCNConv(hidden_channels, out_channels)\n",
        "\n",
        "        self.bn1 = nn.BatchNorm1d(hidden_channels)\n",
        "        self.bn2 = nn.BatchNorm1d(hidden_channels)\n",
        "\n",
        "        self.dropout = nn.Dropout(0.5)\n",
        "\n",
        "    def forward(self, x, edge_index):\n",
        "        # First GCN layer\n",
        "        x1 = F.leaky_relu(self.bn1(self.conv1(x, edge_index)))\n",
        "        x1 = self.dropout(x1)\n",
        "\n",
        "        # Second GCN layer with residual connection\n",
        "        x2 = F.leaky_relu(self.bn2(self.conv2(x1, edge_index))) + x1\n",
        "        x2 = self.dropout(x2)\n",
        "\n",
        "        # Final GCN layer\n",
        "        x3 = self.conv3(x2, edge_index)\n",
        "\n",
        "        return x3\n",
        ""
      ],
      "metadata": {
        "id": "ih7yCyFOVWqF"
      },
      "execution_count": 39,
      "outputs": []
    },
    {
      "cell_type": "code",
      "source": [
        "from torch_geometric.nn import GAE"
      ],
      "metadata": {
        "id": "qCQcwX8lWTIY"
      },
      "execution_count": 11,
      "outputs": []
    },
    {
      "cell_type": "code",
      "source": [
        "import torch.nn as nn\n",
        "from torch.optim.lr_scheduler import ReduceLROnPlateau"
      ],
      "metadata": {
        "id": "i-iPQT7dXIu5"
      },
      "execution_count": 16,
      "outputs": []
    },
    {
      "cell_type": "code",
      "source": [
        "out_channels = 2\n",
        "num_features = data.num_features\n",
        "epochs = 100\n",
        "\n",
        "model = GAE(GCNEncoder(num_features, out_channels))\n",
        "\n",
        "device = torch.device('cuda' if torch.cuda.is_available() else 'cpu')\n",
        "model = model.to(device)\n",
        "x = data.x.to(device)\n",
        "train_pos_edge_index = data.train_pos_edge_index.to(device)\n",
        "\n",
        "optimizer = torch.optim.Adam(model.parameters(), lr=0.001, weight_decay=5e-4)\n",
        "scheduler = ReduceLROnPlateau(optimizer, 'max', patience=10, factor=0.5)"
      ],
      "metadata": {
        "id": "GSavA8fqVu71"
      },
      "execution_count": 48,
      "outputs": []
    },
    {
      "cell_type": "code",
      "source": [
        "def train():\n",
        "    model.train()\n",
        "    optimizer.zero_grad()\n",
        "    z = model.encode(x, train_pos_edge_index)\n",
        "    loss = model.recon_loss(z, train_pos_edge_index)\n",
        "    #if args.variational:\n",
        "    #   loss = loss + (1 / data.num_nodes) * model.kl_loss()\n",
        "    loss.backward()\n",
        "    optimizer.step()\n",
        "    return float(loss)\n",
        "\n",
        "\n",
        "def test(pos_edge_index, neg_edge_index):\n",
        "    model.eval()\n",
        "    with torch.no_grad():\n",
        "        z = model.encode(x, train_pos_edge_index)\n",
        "    return model.test(z, pos_edge_index, neg_edge_index)"
      ],
      "metadata": {
        "id": "k77XdDuVWEcK"
      },
      "execution_count": 41,
      "outputs": []
    },
    {
      "cell_type": "code",
      "source": [
        "import torch.nn.functional as F"
      ],
      "metadata": {
        "id": "weG0WkJvXgzJ"
      },
      "execution_count": 42,
      "outputs": []
    },
    {
      "cell_type": "code",
      "source": [
        "for epoch in range(1, epochs + 1):\n",
        "    loss = train()\n",
        "\n",
        "    auc, ap = test(data.test_pos_edge_index, data.test_neg_edge_index)\n",
        "    print('Epoch: {:03d}, AUC: {:.4f}, AP: {:.4f}'.format(epoch, auc, ap))"
      ],
      "metadata": {
        "colab": {
          "base_uri": "https://localhost:8080/"
        },
        "id": "EVNEDavvXXJY",
        "outputId": "7210f360-87d4-4444-bd2b-fa2bed97ee61"
      },
      "execution_count": 49,
      "outputs": [
        {
          "output_type": "stream",
          "name": "stdout",
          "text": [
            "Epoch: 001, AUC: 0.7703, AP: 0.6945\n",
            "Epoch: 002, AUC: 0.8512, AP: 0.8044\n",
            "Epoch: 003, AUC: 0.8808, AP: 0.8590\n",
            "Epoch: 004, AUC: 0.8960, AP: 0.8922\n",
            "Epoch: 005, AUC: 0.9022, AP: 0.9080\n",
            "Epoch: 006, AUC: 0.9048, AP: 0.9158\n",
            "Epoch: 007, AUC: 0.9058, AP: 0.9195\n",
            "Epoch: 008, AUC: 0.9059, AP: 0.9222\n",
            "Epoch: 009, AUC: 0.9054, AP: 0.9228\n",
            "Epoch: 010, AUC: 0.9046, AP: 0.9230\n",
            "Epoch: 011, AUC: 0.9035, AP: 0.9227\n",
            "Epoch: 012, AUC: 0.9022, AP: 0.9220\n",
            "Epoch: 013, AUC: 0.9012, AP: 0.9212\n",
            "Epoch: 014, AUC: 0.9006, AP: 0.9201\n",
            "Epoch: 015, AUC: 0.9002, AP: 0.9193\n",
            "Epoch: 016, AUC: 0.8966, AP: 0.9164\n",
            "Epoch: 017, AUC: 0.8894, AP: 0.9111\n",
            "Epoch: 018, AUC: 0.8742, AP: 0.9010\n",
            "Epoch: 019, AUC: 0.8523, AP: 0.8839\n",
            "Epoch: 020, AUC: 0.8216, AP: 0.8534\n",
            "Epoch: 021, AUC: 0.7608, AP: 0.7717\n",
            "Epoch: 022, AUC: 0.3971, AP: 0.4545\n",
            "Epoch: 023, AUC: 0.1318, AP: 0.3292\n",
            "Epoch: 024, AUC: 0.0944, AP: 0.3192\n",
            "Epoch: 025, AUC: 0.0836, AP: 0.3167\n",
            "Epoch: 026, AUC: 0.0769, AP: 0.3153\n",
            "Epoch: 027, AUC: 0.0713, AP: 0.3142\n",
            "Epoch: 028, AUC: 0.0683, AP: 0.3137\n",
            "Epoch: 029, AUC: 0.0700, AP: 0.3140\n",
            "Epoch: 030, AUC: 0.0721, AP: 0.3143\n",
            "Epoch: 031, AUC: 0.0770, AP: 0.3153\n",
            "Epoch: 032, AUC: 0.0855, AP: 0.3169\n",
            "Epoch: 033, AUC: 0.1128, AP: 0.3230\n",
            "Epoch: 034, AUC: 0.2165, AP: 0.3541\n",
            "Epoch: 035, AUC: 0.6581, AP: 0.6402\n",
            "Epoch: 036, AUC: 0.7612, AP: 0.7883\n",
            "Epoch: 037, AUC: 0.7883, AP: 0.8304\n",
            "Epoch: 038, AUC: 0.7975, AP: 0.8444\n",
            "Epoch: 039, AUC: 0.8116, AP: 0.8621\n",
            "Epoch: 040, AUC: 0.8163, AP: 0.8675\n",
            "Epoch: 041, AUC: 0.8233, AP: 0.8746\n",
            "Epoch: 042, AUC: 0.8241, AP: 0.8755\n",
            "Epoch: 043, AUC: 0.8244, AP: 0.8760\n",
            "Epoch: 044, AUC: 0.8245, AP: 0.8764\n",
            "Epoch: 045, AUC: 0.8232, AP: 0.8754\n",
            "Epoch: 046, AUC: 0.8185, AP: 0.8709\n",
            "Epoch: 047, AUC: 0.8148, AP: 0.8669\n",
            "Epoch: 048, AUC: 0.8105, AP: 0.8616\n",
            "Epoch: 049, AUC: 0.8080, AP: 0.8578\n",
            "Epoch: 050, AUC: 0.8075, AP: 0.8558\n",
            "Epoch: 051, AUC: 0.8034, AP: 0.8492\n",
            "Epoch: 052, AUC: 0.8024, AP: 0.8460\n",
            "Epoch: 053, AUC: 0.8067, AP: 0.8500\n",
            "Epoch: 054, AUC: 0.8139, AP: 0.8577\n",
            "Epoch: 055, AUC: 0.8214, AP: 0.8650\n",
            "Epoch: 056, AUC: 0.8246, AP: 0.8681\n",
            "Epoch: 057, AUC: 0.8291, AP: 0.8729\n",
            "Epoch: 058, AUC: 0.8332, AP: 0.8779\n",
            "Epoch: 059, AUC: 0.8386, AP: 0.8842\n",
            "Epoch: 060, AUC: 0.8419, AP: 0.8881\n",
            "Epoch: 061, AUC: 0.8440, AP: 0.8907\n",
            "Epoch: 062, AUC: 0.8456, AP: 0.8926\n",
            "Epoch: 063, AUC: 0.8461, AP: 0.8936\n",
            "Epoch: 064, AUC: 0.8470, AP: 0.8948\n",
            "Epoch: 065, AUC: 0.8469, AP: 0.8954\n",
            "Epoch: 066, AUC: 0.8458, AP: 0.8949\n",
            "Epoch: 067, AUC: 0.8441, AP: 0.8937\n",
            "Epoch: 068, AUC: 0.8440, AP: 0.8939\n",
            "Epoch: 069, AUC: 0.8424, AP: 0.8929\n",
            "Epoch: 070, AUC: 0.8417, AP: 0.8928\n",
            "Epoch: 071, AUC: 0.8392, AP: 0.8911\n",
            "Epoch: 072, AUC: 0.8362, AP: 0.8890\n",
            "Epoch: 073, AUC: 0.8320, AP: 0.8857\n",
            "Epoch: 074, AUC: 0.8340, AP: 0.8873\n",
            "Epoch: 075, AUC: 0.8336, AP: 0.8872\n",
            "Epoch: 076, AUC: 0.8340, AP: 0.8878\n",
            "Epoch: 077, AUC: 0.8347, AP: 0.8886\n",
            "Epoch: 078, AUC: 0.8346, AP: 0.8887\n",
            "Epoch: 079, AUC: 0.8346, AP: 0.8888\n",
            "Epoch: 080, AUC: 0.8334, AP: 0.8878\n",
            "Epoch: 081, AUC: 0.8323, AP: 0.8866\n",
            "Epoch: 082, AUC: 0.8290, AP: 0.8837\n",
            "Epoch: 083, AUC: 0.8295, AP: 0.8839\n",
            "Epoch: 084, AUC: 0.8294, AP: 0.8838\n",
            "Epoch: 085, AUC: 0.8299, AP: 0.8842\n",
            "Epoch: 086, AUC: 0.8304, AP: 0.8845\n",
            "Epoch: 087, AUC: 0.8315, AP: 0.8851\n",
            "Epoch: 088, AUC: 0.8322, AP: 0.8858\n",
            "Epoch: 089, AUC: 0.8319, AP: 0.8858\n",
            "Epoch: 090, AUC: 0.8347, AP: 0.8881\n",
            "Epoch: 091, AUC: 0.8366, AP: 0.8899\n",
            "Epoch: 092, AUC: 0.8385, AP: 0.8913\n",
            "Epoch: 093, AUC: 0.8412, AP: 0.8932\n",
            "Epoch: 094, AUC: 0.8458, AP: 0.8965\n",
            "Epoch: 095, AUC: 0.8487, AP: 0.8985\n",
            "Epoch: 096, AUC: 0.8526, AP: 0.9012\n",
            "Epoch: 097, AUC: 0.8558, AP: 0.9032\n",
            "Epoch: 098, AUC: 0.8579, AP: 0.9044\n",
            "Epoch: 099, AUC: 0.8588, AP: 0.9048\n",
            "Epoch: 100, AUC: 0.8598, AP: 0.9053\n"
          ]
        }
      ]
    },
    {
      "cell_type": "code",
      "source": [],
      "metadata": {
        "id": "0I29Ehp0XZC5"
      },
      "execution_count": null,
      "outputs": []
    },
    {
      "cell_type": "code",
      "source": [],
      "metadata": {
        "id": "fzTgSOGtYDaN"
      },
      "execution_count": null,
      "outputs": []
    },
    {
      "cell_type": "code",
      "source": [],
      "metadata": {
        "id": "LIv1bW-eYDcO"
      },
      "execution_count": null,
      "outputs": []
    },
    {
      "cell_type": "code",
      "source": [],
      "metadata": {
        "id": "DzTL9uiNYDeZ"
      },
      "execution_count": null,
      "outputs": []
    }
  ]
}