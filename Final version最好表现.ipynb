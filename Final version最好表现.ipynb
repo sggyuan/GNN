{
  "nbformat": 4,
  "nbformat_minor": 0,
  "metadata": {
    "colab": {
      "provenance": [],
      "authorship_tag": "ABX9TyNqzYGHnM9YkH7FpdqUuWRx",
      "include_colab_link": true
    },
    "kernelspec": {
      "name": "python3",
      "display_name": "Python 3"
    },
    "language_info": {
      "name": "python"
    }
  },
  "cells": [
    {
      "cell_type": "markdown",
      "metadata": {
        "id": "view-in-github",
        "colab_type": "text"
      },
      "source": [
        "<a href=\"https://colab.research.google.com/github/sggyuan/GNN/blob/main/Final%20version%E6%9C%80%E5%A5%BD%E8%A1%A8%E7%8E%B0.ipynb\" target=\"_parent\"><img src=\"https://colab.research.google.com/assets/colab-badge.svg\" alt=\"Open In Colab\"/></a>"
      ]
    },
    {
      "cell_type": "code",
      "execution_count": 1,
      "metadata": {
        "colab": {
          "base_uri": "https://localhost:8080/"
        },
        "id": "Cgc3ZBqiVOXg",
        "outputId": "c0f652ea-db3c-4096-c885-4720e70a074c"
      },
      "outputs": [
        {
          "output_type": "stream",
          "name": "stdout",
          "text": [
            "2.4.0+cu121\n",
            "\u001b[2K     \u001b[90m━━━━━━━━━━━━━━━━━━━━━━━━━━━━━━━━━━━━━━━━\u001b[0m \u001b[32m10.9/10.9 MB\u001b[0m \u001b[31m18.3 MB/s\u001b[0m eta \u001b[36m0:00:00\u001b[0m\n",
            "\u001b[2K     \u001b[90m━━━━━━━━━━━━━━━━━━━━━━━━━━━━━━━━━━━━━━━━\u001b[0m \u001b[32m5.1/5.1 MB\u001b[0m \u001b[31m9.3 MB/s\u001b[0m eta \u001b[36m0:00:00\u001b[0m\n",
            "\u001b[?25h  Installing build dependencies ... \u001b[?25l\u001b[?25hdone\n",
            "  Getting requirements to build wheel ... \u001b[?25l\u001b[?25hdone\n",
            "  Preparing metadata (pyproject.toml) ... \u001b[?25l\u001b[?25hdone\n",
            "  Building wheel for torch-geometric (pyproject.toml) ... \u001b[?25l\u001b[?25hdone\n"
          ]
        }
      ],
      "source": [
        "import os\n",
        "import torch\n",
        "os.environ['TORCH'] = torch.__version__\n",
        "print(torch.__version__)\n",
        "\n",
        "!pip install -q torch-scatter -f https://data.pyg.org/whl/torch-${TORCH}.html\n",
        "!pip install -q torch-sparse -f https://data.pyg.org/whl/torch-${TORCH}.html\n",
        "!pip install -q git+https://github.com/pyg-team/pytorch_geometric.git"
      ]
    },
    {
      "cell_type": "code",
      "source": [
        "import torch\n",
        "from torch_geometric.datasets import Planetoid\n",
        "import torch_geometric.transforms as T\n",
        "from torch_geometric.nn import GCNConv\n",
        "from torch_geometric.utils import train_test_split_edges\n",
        "import torch.nn as nn\n",
        "from torch.optim.lr_scheduler import ReduceLROnPlateau\n",
        "from torch_geometric.nn import GAE"
      ],
      "metadata": {
        "id": "k5u3fUQ8VO4h"
      },
      "execution_count": 8,
      "outputs": []
    },
    {
      "cell_type": "code",
      "source": [
        "from google.colab import drive\n",
        "drive.mount('/content/drive')"
      ],
      "metadata": {
        "colab": {
          "base_uri": "https://localhost:8080/"
        },
        "id": "_Rurk_GEVTVN",
        "outputId": "245c90ad-e69e-45a3-c18b-2b7068344ea3"
      },
      "execution_count": 3,
      "outputs": [
        {
          "output_type": "stream",
          "name": "stdout",
          "text": [
            "Mounted at /content/drive\n"
          ]
        }
      ]
    },
    {
      "cell_type": "code",
      "source": [
        "data = torch.load('/content/drive/MyDrive/my_graph_data-bal.pt')"
      ],
      "metadata": {
        "colab": {
          "base_uri": "https://localhost:8080/"
        },
        "id": "EAJ2IELHVVKd",
        "outputId": "d7f5cbdb-3c08-417e-e325-f5d4fe6de965"
      },
      "execution_count": 4,
      "outputs": [
        {
          "output_type": "stream",
          "name": "stderr",
          "text": [
            "<ipython-input-4-e9945f3ad513>:1: FutureWarning: You are using `torch.load` with `weights_only=False` (the current default value), which uses the default pickle module implicitly. It is possible to construct malicious pickle data which will execute arbitrary code during unpickling (See https://github.com/pytorch/pytorch/blob/main/SECURITY.md#untrusted-models for more details). In a future release, the default value for `weights_only` will be flipped to `True`. This limits the functions that could be executed during unpickling. Arbitrary objects will no longer be allowed to be loaded via this mode unless they are explicitly allowlisted by the user via `torch.serialization.add_safe_globals`. We recommend you start setting `weights_only=True` for any use case where you don't have full control of the loaded file. Please open an issue on GitHub for any issues related to this experimental feature.\n",
            "  data = torch.load('/content/drive/MyDrive/my_graph_data-bal.pt')\n"
          ]
        }
      ]
    },
    {
      "cell_type": "code",
      "source": [
        "data = train_test_split_edges(data)"
      ],
      "metadata": {
        "colab": {
          "base_uri": "https://localhost:8080/"
        },
        "id": "aQeOOiw8WMNM",
        "outputId": "70a58ca9-efb8-4270-ce9e-31408f466a71"
      },
      "execution_count": 5,
      "outputs": [
        {
          "output_type": "stream",
          "name": "stderr",
          "text": [
            "/usr/local/lib/python3.10/dist-packages/torch_geometric/deprecation.py:26: UserWarning: 'train_test_split_edges' is deprecated, use 'transforms.RandomLinkSplit' instead\n",
            "  warnings.warn(out)\n"
          ]
        }
      ]
    },
    {
      "cell_type": "code",
      "source": [
        "data"
      ],
      "metadata": {
        "colab": {
          "base_uri": "https://localhost:8080/"
        },
        "id": "nvF4ORTNWOGk",
        "outputId": "4c2e5401-b964-4bf8-f2c3-e41517c4fdc6"
      },
      "execution_count": 6,
      "outputs": [
        {
          "output_type": "execute_result",
          "data": {
            "text/plain": [
              "Data(x=[16283, 13], y=[100000], val_pos_edge_index=[2, 5000], val_pos_edge_attr=[5000, 8], test_pos_edge_index=[2, 10000], test_pos_edge_attr=[10000, 8], train_pos_edge_index=[2, 99142], train_pos_edge_attr=[99142, 8], train_neg_adj_mask=[16283, 16283], val_neg_edge_index=[2, 5000], test_neg_edge_index=[2, 10000])"
            ]
          },
          "metadata": {},
          "execution_count": 6
        }
      ]
    },
    {
      "cell_type": "code",
      "source": [],
      "metadata": {
        "id": "u0zKBQSZWOK1"
      },
      "execution_count": 6,
      "outputs": []
    },
    {
      "cell_type": "code",
      "source": [
        "class GCNEncoder(nn.Module):\n",
        "    def __init__(self, in_channels, out_channels, hidden_channels=64):\n",
        "        super(GCNEncoder, self).__init__()\n",
        "        self.conv1 = GCNConv(in_channels, hidden_channels)\n",
        "        self.conv2 = GCNConv(hidden_channels, hidden_channels)\n",
        "        self.conv3 = GCNConv(hidden_channels, out_channels)\n",
        "\n",
        "        self.bn1 = nn.BatchNorm1d(hidden_channels)\n",
        "        self.bn2 = nn.BatchNorm1d(hidden_channels)\n",
        "\n",
        "        self.dropout = nn.Dropout(0.5)\n",
        "\n",
        "    def forward(self, x, edge_index):\n",
        "        # First GCN layer\n",
        "        x1 = F.leaky_relu(self.bn1(self.conv1(x, edge_index)))\n",
        "        x1 = self.dropout(x1)\n",
        "\n",
        "        # Second GCN layer with residual connection\n",
        "        x2 = F.leaky_relu(self.bn2(self.conv2(x1, edge_index))) + x1\n",
        "        x2 = self.dropout(x2)\n",
        "\n",
        "        # Final GCN layer\n",
        "        x3 = self.conv3(x2, edge_index)\n",
        "\n",
        "        return x3\n",
        ""
      ],
      "metadata": {
        "id": "ih7yCyFOVWqF"
      },
      "execution_count": 9,
      "outputs": []
    },
    {
      "cell_type": "code",
      "source": [
        "out_channels = 2\n",
        "num_features = data.num_features\n",
        "epochs = 100\n",
        "\n",
        "model = GAE(GCNEncoder(num_features, out_channels))\n",
        "\n",
        "device = torch.device('cuda' if torch.cuda.is_available() else 'cpu')\n",
        "model = model.to(device)\n",
        "x = data.x.to(device)\n",
        "train_pos_edge_index = data.train_pos_edge_index.to(device)\n",
        "\n",
        "optimizer = torch.optim.Adam(model.parameters(), lr=0.001, weight_decay=5e-4)\n",
        "scheduler = ReduceLROnPlateau(optimizer, 'max', patience=10, factor=0.5)"
      ],
      "metadata": {
        "id": "GSavA8fqVu71"
      },
      "execution_count": 10,
      "outputs": []
    },
    {
      "cell_type": "code",
      "source": [
        "def train():\n",
        "    model.train()\n",
        "    optimizer.zero_grad()\n",
        "    z = model.encode(x, train_pos_edge_index)\n",
        "    loss = model.recon_loss(z, train_pos_edge_index)\n",
        "    #if args.variational:\n",
        "    #   loss = loss + (1 / data.num_nodes) * model.kl_loss()\n",
        "    loss.backward()\n",
        "    optimizer.step()\n",
        "    return float(loss)\n",
        "\n",
        "\n",
        "def test(pos_edge_index, neg_edge_index):\n",
        "    model.eval()\n",
        "    with torch.no_grad():\n",
        "        z = model.encode(x, train_pos_edge_index)\n",
        "    return model.test(z, pos_edge_index, neg_edge_index)"
      ],
      "metadata": {
        "id": "k77XdDuVWEcK"
      },
      "execution_count": 11,
      "outputs": []
    },
    {
      "cell_type": "code",
      "source": [
        "import torch.nn.functional as F"
      ],
      "metadata": {
        "id": "weG0WkJvXgzJ"
      },
      "execution_count": 12,
      "outputs": []
    },
    {
      "cell_type": "code",
      "source": [
        "for epoch in range(1, epochs + 1):\n",
        "    loss = train()\n",
        "\n",
        "    auc, ap = test(data.test_pos_edge_index, data.test_neg_edge_index)\n",
        "    print('Epoch: {:03d}, AUC: {:.4f}, AP: {:.4f}'.format(epoch, auc, ap))"
      ],
      "metadata": {
        "colab": {
          "base_uri": "https://localhost:8080/"
        },
        "id": "EVNEDavvXXJY",
        "outputId": "78136394-63e0-4976-9b9a-c8f13ff55647"
      },
      "execution_count": 13,
      "outputs": [
        {
          "output_type": "stream",
          "name": "stdout",
          "text": [
            "Epoch: 001, AUC: 0.3846, AP: 0.5192\n",
            "Epoch: 002, AUC: 0.3268, AP: 0.4989\n",
            "Epoch: 003, AUC: 0.2192, AP: 0.4221\n",
            "Epoch: 004, AUC: 0.1351, AP: 0.3568\n",
            "Epoch: 005, AUC: 0.1015, AP: 0.3342\n",
            "Epoch: 006, AUC: 0.0896, AP: 0.3245\n",
            "Epoch: 007, AUC: 0.0926, AP: 0.3215\n",
            "Epoch: 008, AUC: 0.1383, AP: 0.3359\n",
            "Epoch: 009, AUC: 0.2691, AP: 0.3910\n",
            "Epoch: 010, AUC: 0.9011, AP: 0.9010\n",
            "Epoch: 011, AUC: 0.9230, AP: 0.9297\n",
            "Epoch: 012, AUC: 0.9295, AP: 0.9373\n",
            "Epoch: 013, AUC: 0.9308, AP: 0.9392\n",
            "Epoch: 014, AUC: 0.9313, AP: 0.9400\n",
            "Epoch: 015, AUC: 0.9309, AP: 0.9402\n",
            "Epoch: 016, AUC: 0.9304, AP: 0.9401\n",
            "Epoch: 017, AUC: 0.9299, AP: 0.9400\n",
            "Epoch: 018, AUC: 0.9292, AP: 0.9396\n",
            "Epoch: 019, AUC: 0.9277, AP: 0.9389\n",
            "Epoch: 020, AUC: 0.9260, AP: 0.9380\n",
            "Epoch: 021, AUC: 0.9252, AP: 0.9376\n",
            "Epoch: 022, AUC: 0.9241, AP: 0.9371\n",
            "Epoch: 023, AUC: 0.9227, AP: 0.9364\n",
            "Epoch: 024, AUC: 0.9216, AP: 0.9358\n",
            "Epoch: 025, AUC: 0.9214, AP: 0.9357\n",
            "Epoch: 026, AUC: 0.9212, AP: 0.9356\n",
            "Epoch: 027, AUC: 0.9205, AP: 0.9353\n",
            "Epoch: 028, AUC: 0.9220, AP: 0.9358\n",
            "Epoch: 029, AUC: 0.9235, AP: 0.9363\n",
            "Epoch: 030, AUC: 0.9247, AP: 0.9367\n",
            "Epoch: 031, AUC: 0.9255, AP: 0.9369\n",
            "Epoch: 032, AUC: 0.9257, AP: 0.9368\n",
            "Epoch: 033, AUC: 0.9252, AP: 0.9363\n",
            "Epoch: 034, AUC: 0.9245, AP: 0.9357\n",
            "Epoch: 035, AUC: 0.9233, AP: 0.9349\n",
            "Epoch: 036, AUC: 0.9215, AP: 0.9339\n",
            "Epoch: 037, AUC: 0.9176, AP: 0.9318\n",
            "Epoch: 038, AUC: 0.9137, AP: 0.9299\n",
            "Epoch: 039, AUC: 0.9097, AP: 0.9280\n",
            "Epoch: 040, AUC: 0.9055, AP: 0.9260\n",
            "Epoch: 041, AUC: 0.9011, AP: 0.9237\n",
            "Epoch: 042, AUC: 0.8954, AP: 0.9210\n",
            "Epoch: 043, AUC: 0.8914, AP: 0.9191\n",
            "Epoch: 044, AUC: 0.8839, AP: 0.9159\n",
            "Epoch: 045, AUC: 0.8792, AP: 0.9139\n",
            "Epoch: 046, AUC: 0.8766, AP: 0.9130\n",
            "Epoch: 047, AUC: 0.8753, AP: 0.9125\n",
            "Epoch: 048, AUC: 0.8749, AP: 0.9125\n",
            "Epoch: 049, AUC: 0.8739, AP: 0.9122\n",
            "Epoch: 050, AUC: 0.8731, AP: 0.9120\n",
            "Epoch: 051, AUC: 0.8706, AP: 0.9104\n",
            "Epoch: 052, AUC: 0.8717, AP: 0.9116\n",
            "Epoch: 053, AUC: 0.8722, AP: 0.9123\n",
            "Epoch: 054, AUC: 0.8709, AP: 0.9120\n",
            "Epoch: 055, AUC: 0.8702, AP: 0.9118\n",
            "Epoch: 056, AUC: 0.8706, AP: 0.9121\n",
            "Epoch: 057, AUC: 0.8711, AP: 0.9125\n",
            "Epoch: 058, AUC: 0.8710, AP: 0.9126\n",
            "Epoch: 059, AUC: 0.8708, AP: 0.9125\n",
            "Epoch: 060, AUC: 0.8704, AP: 0.9122\n",
            "Epoch: 061, AUC: 0.8700, AP: 0.9119\n",
            "Epoch: 062, AUC: 0.8701, AP: 0.9119\n",
            "Epoch: 063, AUC: 0.8709, AP: 0.9124\n",
            "Epoch: 064, AUC: 0.8740, AP: 0.9141\n",
            "Epoch: 065, AUC: 0.8748, AP: 0.9147\n",
            "Epoch: 066, AUC: 0.8760, AP: 0.9154\n",
            "Epoch: 067, AUC: 0.8769, AP: 0.9159\n",
            "Epoch: 068, AUC: 0.8770, AP: 0.9159\n",
            "Epoch: 069, AUC: 0.8773, AP: 0.9159\n",
            "Epoch: 070, AUC: 0.8773, AP: 0.9156\n",
            "Epoch: 071, AUC: 0.8779, AP: 0.9157\n",
            "Epoch: 072, AUC: 0.8783, AP: 0.9158\n",
            "Epoch: 073, AUC: 0.8784, AP: 0.9160\n",
            "Epoch: 074, AUC: 0.8784, AP: 0.9159\n",
            "Epoch: 075, AUC: 0.8779, AP: 0.9155\n",
            "Epoch: 076, AUC: 0.8773, AP: 0.9150\n",
            "Epoch: 077, AUC: 0.8772, AP: 0.9149\n",
            "Epoch: 078, AUC: 0.8769, AP: 0.9146\n",
            "Epoch: 079, AUC: 0.8769, AP: 0.9145\n",
            "Epoch: 080, AUC: 0.8771, AP: 0.9146\n",
            "Epoch: 081, AUC: 0.8771, AP: 0.9146\n",
            "Epoch: 082, AUC: 0.8771, AP: 0.9145\n",
            "Epoch: 083, AUC: 0.8762, AP: 0.9137\n",
            "Epoch: 084, AUC: 0.8753, AP: 0.9130\n",
            "Epoch: 085, AUC: 0.8742, AP: 0.9122\n",
            "Epoch: 086, AUC: 0.8730, AP: 0.9114\n",
            "Epoch: 087, AUC: 0.8722, AP: 0.9107\n",
            "Epoch: 088, AUC: 0.8716, AP: 0.9105\n",
            "Epoch: 089, AUC: 0.8708, AP: 0.9102\n",
            "Epoch: 090, AUC: 0.8698, AP: 0.9098\n",
            "Epoch: 091, AUC: 0.8688, AP: 0.9096\n",
            "Epoch: 092, AUC: 0.8676, AP: 0.9091\n",
            "Epoch: 093, AUC: 0.8669, AP: 0.9090\n",
            "Epoch: 094, AUC: 0.8651, AP: 0.9081\n",
            "Epoch: 095, AUC: 0.8648, AP: 0.9083\n",
            "Epoch: 096, AUC: 0.8630, AP: 0.9075\n",
            "Epoch: 097, AUC: 0.8617, AP: 0.9071\n",
            "Epoch: 098, AUC: 0.8590, AP: 0.9057\n",
            "Epoch: 099, AUC: 0.8585, AP: 0.9057\n",
            "Epoch: 100, AUC: 0.8585, AP: 0.9060\n"
          ]
        }
      ]
    },
    {
      "cell_type": "code",
      "source": [],
      "metadata": {
        "id": "0I29Ehp0XZC5"
      },
      "execution_count": null,
      "outputs": []
    },
    {
      "cell_type": "code",
      "source": [],
      "metadata": {
        "id": "fzTgSOGtYDaN"
      },
      "execution_count": null,
      "outputs": []
    },
    {
      "cell_type": "code",
      "source": [],
      "metadata": {
        "id": "LIv1bW-eYDcO"
      },
      "execution_count": null,
      "outputs": []
    },
    {
      "cell_type": "code",
      "source": [
        "from torch_geometric.nn import VGAE"
      ],
      "metadata": {
        "id": "DzTL9uiNYDeZ"
      },
      "execution_count": 14,
      "outputs": []
    },
    {
      "cell_type": "code",
      "source": [
        "import torch\n",
        "import torch.nn as nn\n",
        "import torch.nn.functional as F\n",
        "from torch_geometric.nn import GCNConv\n",
        "\n",
        "class VariationalGCNEncoder(nn.Module):\n",
        "    def __init__(self, in_channels, out_channels, hidden_channels=64):\n",
        "        super(VariationalGCNEncoder, self).__init__()\n",
        "        self.conv1 = GCNConv(in_channels, hidden_channels)\n",
        "        self.conv2 = GCNConv(hidden_channels, hidden_channels)\n",
        "        self.conv_mu = GCNConv(hidden_channels, out_channels)\n",
        "        self.conv_logstd = GCNConv(hidden_channels, out_channels)\n",
        "\n",
        "        self.bn1 = nn.BatchNorm1d(hidden_channels)\n",
        "        self.bn2 = nn.BatchNorm1d(hidden_channels)\n",
        "\n",
        "        self.dropout = nn.Dropout(0.3)\n",
        "\n",
        "    def forward(self, x, edge_index):\n",
        "        # First GCN layer\n",
        "        x1 = F.leaky_relu(self.bn1(self.conv1(x, edge_index)))\n",
        "        x1 = self.dropout(x1)\n",
        "\n",
        "        # Second GCN layer with residual connection\n",
        "        x2 = F.leaky_relu(self.bn2(self.conv2(x1, edge_index))) + x1\n",
        "        x2 = self.dropout(x2)\n",
        "\n",
        "        # Final GCN layers for mean and log-standard deviation\n",
        "        mu = self.conv_mu(x2, edge_index)\n",
        "        logstd = self.conv_logstd(x2, edge_index)\n",
        "\n",
        "        return mu, logstd\n",
        "\n",
        "    def reparameterize(self, mu, logstd):\n",
        "        if self.training:\n",
        "            return mu + torch.randn_like(logstd) * torch.exp(logstd)\n",
        "        else:\n",
        "            return mu"
      ],
      "metadata": {
        "id": "2lBpHRenFSOV"
      },
      "execution_count": 52,
      "outputs": []
    },
    {
      "cell_type": "code",
      "source": [
        "out_channels = 2\n",
        "num_features = dataset.num_features\n",
        "epochs = 300\n",
        "\n",
        "\n",
        "model = VGAE(VariationalGCNEncoder(num_features, out_channels))  # new line\n",
        "\n",
        "device = torch.device('cuda' if torch.cuda.is_available() else 'cpu')\n",
        "model = model.to(device)\n",
        "x = data.x.to(device)\n",
        "train_pos_edge_index = data.train_pos_edge_index.to(device)\n",
        "optimizer = torch.optim.Adam(model.parameters(), lr=0.01, weight_decay=5e-4)\n",
        "scheduler = ReduceLROnPlateau(optimizer, 'max', patience=10, factor=0.5)"
      ],
      "metadata": {
        "id": "YCFTdLCPENj0"
      },
      "execution_count": 53,
      "outputs": []
    },
    {
      "cell_type": "code",
      "source": [
        "def train():\n",
        "    model.train()\n",
        "    optimizer.zero_grad()\n",
        "    z = model.encode(x, train_pos_edge_index)\n",
        "    loss = model.recon_loss(z, train_pos_edge_index)\n",
        "\n",
        "    loss = loss + (1 / data.num_nodes) * model.kl_loss()  # new line\n",
        "    loss.backward()\n",
        "    optimizer.step()\n",
        "    return float(loss)\n",
        "\n",
        "\n",
        "def test(pos_edge_index, neg_edge_index):\n",
        "    model.eval()\n",
        "    with torch.no_grad():\n",
        "        z = model.encode(x, train_pos_edge_index)\n",
        "    return model.test(z, pos_edge_index, neg_edge_index)"
      ],
      "metadata": {
        "id": "fGPMMxaxHPTz"
      },
      "execution_count": 54,
      "outputs": []
    },
    {
      "cell_type": "code",
      "source": [
        "for epoch in range(1, epochs + 1):\n",
        "    loss = train()\n",
        "    auc, ap = test(data.test_pos_edge_index, data.test_neg_edge_index)\n",
        "    print('Epoch: {:03d}, AUC: {:.4f}, AP: {:.4f}'.format(epoch, auc, ap))\n",
        ""
      ],
      "metadata": {
        "colab": {
          "base_uri": "https://localhost:8080/"
        },
        "id": "2FaFPrXWHPXZ",
        "outputId": "b355f5e6-a4ac-42f1-c528-58942ca7a991"
      },
      "execution_count": 55,
      "outputs": [
        {
          "output_type": "stream",
          "name": "stdout",
          "text": [
            "Epoch: 001, AUC: 0.6444, AP: 0.6810\n",
            "Epoch: 002, AUC: 0.6402, AP: 0.6801\n",
            "Epoch: 003, AUC: 0.6406, AP: 0.6829\n",
            "Epoch: 004, AUC: 0.6374, AP: 0.6804\n",
            "Epoch: 005, AUC: 0.6319, AP: 0.6770\n",
            "Epoch: 006, AUC: 0.6294, AP: 0.6751\n",
            "Epoch: 007, AUC: 0.6374, AP: 0.6836\n",
            "Epoch: 008, AUC: 0.6541, AP: 0.6992\n",
            "Epoch: 009, AUC: 0.6653, AP: 0.7077\n",
            "Epoch: 010, AUC: 0.6700, AP: 0.7118\n",
            "Epoch: 011, AUC: 0.6529, AP: 0.6923\n",
            "Epoch: 012, AUC: 0.5834, AP: 0.6271\n",
            "Epoch: 013, AUC: 0.5713, AP: 0.6282\n",
            "Epoch: 014, AUC: 0.5799, AP: 0.6386\n",
            "Epoch: 015, AUC: 0.5807, AP: 0.6415\n",
            "Epoch: 016, AUC: 0.5741, AP: 0.6390\n",
            "Epoch: 017, AUC: 0.5700, AP: 0.6368\n",
            "Epoch: 018, AUC: 0.5756, AP: 0.6384\n",
            "Epoch: 019, AUC: 0.5846, AP: 0.6428\n",
            "Epoch: 020, AUC: 0.5850, AP: 0.6407\n",
            "Epoch: 021, AUC: 0.5734, AP: 0.6320\n",
            "Epoch: 022, AUC: 0.5548, AP: 0.6212\n",
            "Epoch: 023, AUC: 0.5451, AP: 0.6169\n",
            "Epoch: 024, AUC: 0.5446, AP: 0.6185\n",
            "Epoch: 025, AUC: 0.5468, AP: 0.6213\n",
            "Epoch: 026, AUC: 0.5500, AP: 0.6233\n",
            "Epoch: 027, AUC: 0.5525, AP: 0.6245\n",
            "Epoch: 028, AUC: 0.5576, AP: 0.6267\n",
            "Epoch: 029, AUC: 0.5642, AP: 0.6295\n",
            "Epoch: 030, AUC: 0.5699, AP: 0.6315\n",
            "Epoch: 031, AUC: 0.5739, AP: 0.6333\n",
            "Epoch: 032, AUC: 0.5751, AP: 0.6339\n",
            "Epoch: 033, AUC: 0.5742, AP: 0.6330\n",
            "Epoch: 034, AUC: 0.5705, AP: 0.6307\n",
            "Epoch: 035, AUC: 0.5652, AP: 0.6286\n",
            "Epoch: 036, AUC: 0.5609, AP: 0.6278\n",
            "Epoch: 037, AUC: 0.5587, AP: 0.6270\n",
            "Epoch: 038, AUC: 0.5582, AP: 0.6260\n",
            "Epoch: 039, AUC: 0.5602, AP: 0.6252\n",
            "Epoch: 040, AUC: 0.5659, AP: 0.6263\n",
            "Epoch: 041, AUC: 0.5762, AP: 0.6291\n",
            "Epoch: 042, AUC: 0.5880, AP: 0.6323\n",
            "Epoch: 043, AUC: 0.5990, AP: 0.6362\n",
            "Epoch: 044, AUC: 0.6117, AP: 0.6414\n",
            "Epoch: 045, AUC: 0.6119, AP: 0.6414\n",
            "Epoch: 046, AUC: 0.6107, AP: 0.6415\n",
            "Epoch: 047, AUC: 0.6104, AP: 0.6419\n",
            "Epoch: 048, AUC: 0.6163, AP: 0.6445\n",
            "Epoch: 049, AUC: 0.6270, AP: 0.6492\n",
            "Epoch: 050, AUC: 0.6490, AP: 0.6595\n",
            "Epoch: 051, AUC: 0.6788, AP: 0.6766\n",
            "Epoch: 052, AUC: 0.7054, AP: 0.6948\n",
            "Epoch: 053, AUC: 0.7300, AP: 0.7163\n",
            "Epoch: 054, AUC: 0.7456, AP: 0.7318\n",
            "Epoch: 055, AUC: 0.7519, AP: 0.7394\n",
            "Epoch: 056, AUC: 0.7539, AP: 0.7414\n",
            "Epoch: 057, AUC: 0.7577, AP: 0.7459\n",
            "Epoch: 058, AUC: 0.7675, AP: 0.7564\n",
            "Epoch: 059, AUC: 0.7821, AP: 0.7725\n",
            "Epoch: 060, AUC: 0.8007, AP: 0.7953\n",
            "Epoch: 061, AUC: 0.8164, AP: 0.8178\n",
            "Epoch: 062, AUC: 0.8226, AP: 0.8282\n",
            "Epoch: 063, AUC: 0.8234, AP: 0.8309\n",
            "Epoch: 064, AUC: 0.8244, AP: 0.8326\n",
            "Epoch: 065, AUC: 0.8257, AP: 0.8339\n",
            "Epoch: 066, AUC: 0.8284, AP: 0.8363\n",
            "Epoch: 067, AUC: 0.8294, AP: 0.8370\n",
            "Epoch: 068, AUC: 0.8295, AP: 0.8377\n",
            "Epoch: 069, AUC: 0.8294, AP: 0.8383\n",
            "Epoch: 070, AUC: 0.8310, AP: 0.8428\n",
            "Epoch: 071, AUC: 0.8320, AP: 0.8455\n",
            "Epoch: 072, AUC: 0.8317, AP: 0.8455\n",
            "Epoch: 073, AUC: 0.8330, AP: 0.8468\n",
            "Epoch: 074, AUC: 0.8352, AP: 0.8490\n",
            "Epoch: 075, AUC: 0.8360, AP: 0.8502\n",
            "Epoch: 076, AUC: 0.8357, AP: 0.8498\n",
            "Epoch: 077, AUC: 0.8350, AP: 0.8494\n",
            "Epoch: 078, AUC: 0.8344, AP: 0.8491\n",
            "Epoch: 079, AUC: 0.8339, AP: 0.8490\n",
            "Epoch: 080, AUC: 0.8329, AP: 0.8488\n",
            "Epoch: 081, AUC: 0.8323, AP: 0.8481\n",
            "Epoch: 082, AUC: 0.8327, AP: 0.8478\n",
            "Epoch: 083, AUC: 0.8330, AP: 0.8470\n",
            "Epoch: 084, AUC: 0.8316, AP: 0.8451\n",
            "Epoch: 085, AUC: 0.8282, AP: 0.8418\n",
            "Epoch: 086, AUC: 0.8252, AP: 0.8397\n",
            "Epoch: 087, AUC: 0.8243, AP: 0.8404\n",
            "Epoch: 088, AUC: 0.8250, AP: 0.8415\n",
            "Epoch: 089, AUC: 0.8252, AP: 0.8409\n",
            "Epoch: 090, AUC: 0.8266, AP: 0.8415\n",
            "Epoch: 091, AUC: 0.8296, AP: 0.8437\n",
            "Epoch: 092, AUC: 0.8314, AP: 0.8448\n",
            "Epoch: 093, AUC: 0.8317, AP: 0.8447\n",
            "Epoch: 094, AUC: 0.8310, AP: 0.8442\n",
            "Epoch: 095, AUC: 0.8305, AP: 0.8438\n",
            "Epoch: 096, AUC: 0.8299, AP: 0.8436\n",
            "Epoch: 097, AUC: 0.8289, AP: 0.8427\n",
            "Epoch: 098, AUC: 0.8285, AP: 0.8425\n",
            "Epoch: 099, AUC: 0.8287, AP: 0.8426\n",
            "Epoch: 100, AUC: 0.8298, AP: 0.8429\n",
            "Epoch: 101, AUC: 0.8307, AP: 0.8432\n",
            "Epoch: 102, AUC: 0.8305, AP: 0.8426\n",
            "Epoch: 103, AUC: 0.8300, AP: 0.8416\n",
            "Epoch: 104, AUC: 0.8287, AP: 0.8404\n",
            "Epoch: 105, AUC: 0.8281, AP: 0.8403\n",
            "Epoch: 106, AUC: 0.8280, AP: 0.8415\n",
            "Epoch: 107, AUC: 0.8280, AP: 0.8427\n",
            "Epoch: 108, AUC: 0.8281, AP: 0.8435\n",
            "Epoch: 109, AUC: 0.8284, AP: 0.8440\n",
            "Epoch: 110, AUC: 0.8301, AP: 0.8452\n",
            "Epoch: 111, AUC: 0.8317, AP: 0.8464\n",
            "Epoch: 112, AUC: 0.8334, AP: 0.8471\n",
            "Epoch: 113, AUC: 0.8349, AP: 0.8474\n",
            "Epoch: 114, AUC: 0.8353, AP: 0.8477\n",
            "Epoch: 115, AUC: 0.8345, AP: 0.8478\n",
            "Epoch: 116, AUC: 0.8326, AP: 0.8471\n",
            "Epoch: 117, AUC: 0.8298, AP: 0.8449\n",
            "Epoch: 118, AUC: 0.8281, AP: 0.8435\n",
            "Epoch: 119, AUC: 0.8289, AP: 0.8442\n",
            "Epoch: 120, AUC: 0.8303, AP: 0.8447\n",
            "Epoch: 121, AUC: 0.8311, AP: 0.8448\n",
            "Epoch: 122, AUC: 0.8320, AP: 0.8451\n",
            "Epoch: 123, AUC: 0.8326, AP: 0.8456\n",
            "Epoch: 124, AUC: 0.8329, AP: 0.8456\n",
            "Epoch: 125, AUC: 0.8322, AP: 0.8448\n",
            "Epoch: 126, AUC: 0.8302, AP: 0.8430\n",
            "Epoch: 127, AUC: 0.8284, AP: 0.8417\n",
            "Epoch: 128, AUC: 0.8277, AP: 0.8419\n",
            "Epoch: 129, AUC: 0.8271, AP: 0.8419\n",
            "Epoch: 130, AUC: 0.8272, AP: 0.8421\n",
            "Epoch: 131, AUC: 0.8292, AP: 0.8435\n",
            "Epoch: 132, AUC: 0.8317, AP: 0.8455\n",
            "Epoch: 133, AUC: 0.8337, AP: 0.8468\n",
            "Epoch: 134, AUC: 0.8342, AP: 0.8470\n",
            "Epoch: 135, AUC: 0.8336, AP: 0.8463\n",
            "Epoch: 136, AUC: 0.8307, AP: 0.8440\n",
            "Epoch: 137, AUC: 0.8285, AP: 0.8420\n",
            "Epoch: 138, AUC: 0.8287, AP: 0.8418\n",
            "Epoch: 139, AUC: 0.8307, AP: 0.8433\n",
            "Epoch: 140, AUC: 0.8340, AP: 0.8462\n",
            "Epoch: 141, AUC: 0.8353, AP: 0.8469\n",
            "Epoch: 142, AUC: 0.8361, AP: 0.8472\n",
            "Epoch: 143, AUC: 0.8357, AP: 0.8467\n",
            "Epoch: 144, AUC: 0.8348, AP: 0.8460\n",
            "Epoch: 145, AUC: 0.8337, AP: 0.8454\n",
            "Epoch: 146, AUC: 0.8327, AP: 0.8449\n",
            "Epoch: 147, AUC: 0.8314, AP: 0.8439\n",
            "Epoch: 148, AUC: 0.8319, AP: 0.8447\n",
            "Epoch: 149, AUC: 0.8334, AP: 0.8459\n",
            "Epoch: 150, AUC: 0.8343, AP: 0.8470\n",
            "Epoch: 151, AUC: 0.8341, AP: 0.8471\n",
            "Epoch: 152, AUC: 0.8319, AP: 0.8455\n",
            "Epoch: 153, AUC: 0.8302, AP: 0.8443\n",
            "Epoch: 154, AUC: 0.8297, AP: 0.8439\n",
            "Epoch: 155, AUC: 0.8303, AP: 0.8444\n",
            "Epoch: 156, AUC: 0.8315, AP: 0.8448\n",
            "Epoch: 157, AUC: 0.8323, AP: 0.8451\n",
            "Epoch: 158, AUC: 0.8325, AP: 0.8448\n",
            "Epoch: 159, AUC: 0.8322, AP: 0.8438\n",
            "Epoch: 160, AUC: 0.8305, AP: 0.8425\n",
            "Epoch: 161, AUC: 0.8283, AP: 0.8408\n",
            "Epoch: 162, AUC: 0.8275, AP: 0.8403\n",
            "Epoch: 163, AUC: 0.8284, AP: 0.8411\n",
            "Epoch: 164, AUC: 0.8307, AP: 0.8427\n",
            "Epoch: 165, AUC: 0.8338, AP: 0.8449\n",
            "Epoch: 166, AUC: 0.8356, AP: 0.8460\n",
            "Epoch: 167, AUC: 0.8359, AP: 0.8458\n",
            "Epoch: 168, AUC: 0.8353, AP: 0.8450\n",
            "Epoch: 169, AUC: 0.8338, AP: 0.8435\n",
            "Epoch: 170, AUC: 0.8321, AP: 0.8422\n",
            "Epoch: 171, AUC: 0.8308, AP: 0.8410\n",
            "Epoch: 172, AUC: 0.8298, AP: 0.8395\n",
            "Epoch: 173, AUC: 0.8308, AP: 0.8401\n",
            "Epoch: 174, AUC: 0.8330, AP: 0.8420\n",
            "Epoch: 175, AUC: 0.8339, AP: 0.8428\n",
            "Epoch: 176, AUC: 0.8335, AP: 0.8426\n",
            "Epoch: 177, AUC: 0.8323, AP: 0.8422\n",
            "Epoch: 178, AUC: 0.8309, AP: 0.8415\n",
            "Epoch: 179, AUC: 0.8281, AP: 0.8396\n",
            "Epoch: 180, AUC: 0.8258, AP: 0.8379\n",
            "Epoch: 181, AUC: 0.8260, AP: 0.8383\n",
            "Epoch: 182, AUC: 0.8268, AP: 0.8387\n",
            "Epoch: 183, AUC: 0.8291, AP: 0.8404\n",
            "Epoch: 184, AUC: 0.8320, AP: 0.8425\n",
            "Epoch: 185, AUC: 0.8320, AP: 0.8423\n",
            "Epoch: 186, AUC: 0.8310, AP: 0.8407\n",
            "Epoch: 187, AUC: 0.8292, AP: 0.8392\n",
            "Epoch: 188, AUC: 0.8268, AP: 0.8371\n",
            "Epoch: 189, AUC: 0.8256, AP: 0.8359\n",
            "Epoch: 190, AUC: 0.8255, AP: 0.8354\n",
            "Epoch: 191, AUC: 0.8270, AP: 0.8365\n",
            "Epoch: 192, AUC: 0.8288, AP: 0.8377\n",
            "Epoch: 193, AUC: 0.8305, AP: 0.8394\n",
            "Epoch: 194, AUC: 0.8308, AP: 0.8394\n",
            "Epoch: 195, AUC: 0.8293, AP: 0.8383\n",
            "Epoch: 196, AUC: 0.8290, AP: 0.8388\n",
            "Epoch: 197, AUC: 0.8272, AP: 0.8374\n",
            "Epoch: 198, AUC: 0.8256, AP: 0.8362\n",
            "Epoch: 199, AUC: 0.8247, AP: 0.8357\n",
            "Epoch: 200, AUC: 0.8256, AP: 0.8366\n",
            "Epoch: 201, AUC: 0.8273, AP: 0.8381\n",
            "Epoch: 202, AUC: 0.8275, AP: 0.8383\n",
            "Epoch: 203, AUC: 0.8269, AP: 0.8381\n",
            "Epoch: 204, AUC: 0.8261, AP: 0.8377\n",
            "Epoch: 205, AUC: 0.8253, AP: 0.8373\n",
            "Epoch: 206, AUC: 0.8250, AP: 0.8373\n",
            "Epoch: 207, AUC: 0.8253, AP: 0.8374\n",
            "Epoch: 208, AUC: 0.8261, AP: 0.8376\n",
            "Epoch: 209, AUC: 0.8261, AP: 0.8370\n",
            "Epoch: 210, AUC: 0.8264, AP: 0.8365\n",
            "Epoch: 211, AUC: 0.8264, AP: 0.8359\n",
            "Epoch: 212, AUC: 0.8264, AP: 0.8353\n",
            "Epoch: 213, AUC: 0.8260, AP: 0.8342\n",
            "Epoch: 214, AUC: 0.8259, AP: 0.8332\n",
            "Epoch: 215, AUC: 0.8258, AP: 0.8335\n",
            "Epoch: 216, AUC: 0.8257, AP: 0.8339\n",
            "Epoch: 217, AUC: 0.8251, AP: 0.8338\n",
            "Epoch: 218, AUC: 0.8251, AP: 0.8345\n",
            "Epoch: 219, AUC: 0.8258, AP: 0.8351\n",
            "Epoch: 220, AUC: 0.8266, AP: 0.8360\n",
            "Epoch: 221, AUC: 0.8273, AP: 0.8367\n",
            "Epoch: 222, AUC: 0.8280, AP: 0.8374\n",
            "Epoch: 223, AUC: 0.8283, AP: 0.8379\n",
            "Epoch: 224, AUC: 0.8281, AP: 0.8378\n",
            "Epoch: 225, AUC: 0.8273, AP: 0.8368\n",
            "Epoch: 226, AUC: 0.8260, AP: 0.8356\n",
            "Epoch: 227, AUC: 0.8250, AP: 0.8352\n",
            "Epoch: 228, AUC: 0.8261, AP: 0.8365\n",
            "Epoch: 229, AUC: 0.8274, AP: 0.8376\n",
            "Epoch: 230, AUC: 0.8291, AP: 0.8390\n",
            "Epoch: 231, AUC: 0.8299, AP: 0.8394\n",
            "Epoch: 232, AUC: 0.8304, AP: 0.8396\n",
            "Epoch: 233, AUC: 0.8302, AP: 0.8395\n",
            "Epoch: 234, AUC: 0.8297, AP: 0.8391\n",
            "Epoch: 235, AUC: 0.8284, AP: 0.8383\n",
            "Epoch: 236, AUC: 0.8285, AP: 0.8383\n",
            "Epoch: 237, AUC: 0.8290, AP: 0.8388\n",
            "Epoch: 238, AUC: 0.8293, AP: 0.8386\n",
            "Epoch: 239, AUC: 0.8296, AP: 0.8387\n",
            "Epoch: 240, AUC: 0.8295, AP: 0.8382\n",
            "Epoch: 241, AUC: 0.8283, AP: 0.8368\n",
            "Epoch: 242, AUC: 0.8270, AP: 0.8356\n",
            "Epoch: 243, AUC: 0.8263, AP: 0.8348\n",
            "Epoch: 244, AUC: 0.8261, AP: 0.8343\n",
            "Epoch: 245, AUC: 0.8268, AP: 0.8349\n",
            "Epoch: 246, AUC: 0.8273, AP: 0.8353\n",
            "Epoch: 247, AUC: 0.8274, AP: 0.8353\n",
            "Epoch: 248, AUC: 0.8274, AP: 0.8352\n",
            "Epoch: 249, AUC: 0.8262, AP: 0.8342\n",
            "Epoch: 250, AUC: 0.8257, AP: 0.8339\n",
            "Epoch: 251, AUC: 0.8262, AP: 0.8345\n",
            "Epoch: 252, AUC: 0.8262, AP: 0.8350\n",
            "Epoch: 253, AUC: 0.8266, AP: 0.8353\n",
            "Epoch: 254, AUC: 0.8267, AP: 0.8353\n",
            "Epoch: 255, AUC: 0.8264, AP: 0.8349\n",
            "Epoch: 256, AUC: 0.8262, AP: 0.8342\n",
            "Epoch: 257, AUC: 0.8263, AP: 0.8346\n",
            "Epoch: 258, AUC: 0.8269, AP: 0.8351\n",
            "Epoch: 259, AUC: 0.8278, AP: 0.8358\n",
            "Epoch: 260, AUC: 0.8280, AP: 0.8355\n",
            "Epoch: 261, AUC: 0.8275, AP: 0.8349\n",
            "Epoch: 262, AUC: 0.8258, AP: 0.8336\n",
            "Epoch: 263, AUC: 0.8242, AP: 0.8318\n",
            "Epoch: 264, AUC: 0.8238, AP: 0.8312\n",
            "Epoch: 265, AUC: 0.8242, AP: 0.8315\n",
            "Epoch: 266, AUC: 0.8254, AP: 0.8327\n",
            "Epoch: 267, AUC: 0.8253, AP: 0.8328\n",
            "Epoch: 268, AUC: 0.8260, AP: 0.8338\n",
            "Epoch: 269, AUC: 0.8258, AP: 0.8339\n",
            "Epoch: 270, AUC: 0.8260, AP: 0.8342\n",
            "Epoch: 271, AUC: 0.8255, AP: 0.8338\n",
            "Epoch: 272, AUC: 0.8253, AP: 0.8337\n",
            "Epoch: 273, AUC: 0.8248, AP: 0.8334\n",
            "Epoch: 274, AUC: 0.8239, AP: 0.8332\n",
            "Epoch: 275, AUC: 0.8233, AP: 0.8330\n",
            "Epoch: 276, AUC: 0.8229, AP: 0.8331\n",
            "Epoch: 277, AUC: 0.8225, AP: 0.8327\n",
            "Epoch: 278, AUC: 0.8229, AP: 0.8329\n",
            "Epoch: 279, AUC: 0.8235, AP: 0.8329\n",
            "Epoch: 280, AUC: 0.8243, AP: 0.8331\n",
            "Epoch: 281, AUC: 0.8244, AP: 0.8332\n",
            "Epoch: 282, AUC: 0.8246, AP: 0.8339\n",
            "Epoch: 283, AUC: 0.8230, AP: 0.8334\n",
            "Epoch: 284, AUC: 0.8201, AP: 0.8321\n",
            "Epoch: 285, AUC: 0.8178, AP: 0.8310\n",
            "Epoch: 286, AUC: 0.8168, AP: 0.8306\n",
            "Epoch: 287, AUC: 0.8179, AP: 0.8324\n",
            "Epoch: 288, AUC: 0.8190, AP: 0.8334\n",
            "Epoch: 289, AUC: 0.8199, AP: 0.8341\n",
            "Epoch: 290, AUC: 0.8201, AP: 0.8340\n",
            "Epoch: 291, AUC: 0.8193, AP: 0.8340\n",
            "Epoch: 292, AUC: 0.8178, AP: 0.8333\n",
            "Epoch: 293, AUC: 0.8166, AP: 0.8324\n",
            "Epoch: 294, AUC: 0.8171, AP: 0.8324\n",
            "Epoch: 295, AUC: 0.8185, AP: 0.8329\n",
            "Epoch: 296, AUC: 0.8201, AP: 0.8337\n",
            "Epoch: 297, AUC: 0.8213, AP: 0.8339\n",
            "Epoch: 298, AUC: 0.8212, AP: 0.8334\n",
            "Epoch: 299, AUC: 0.8197, AP: 0.8319\n",
            "Epoch: 300, AUC: 0.8185, AP: 0.8306\n"
          ]
        }
      ]
    },
    {
      "cell_type": "code",
      "source": [],
      "metadata": {
        "id": "w0czkyRLHPax"
      },
      "execution_count": null,
      "outputs": []
    },
    {
      "cell_type": "code",
      "source": [],
      "metadata": {
        "id": "uq0sIVZEJoH_"
      },
      "execution_count": null,
      "outputs": []
    },
    {
      "cell_type": "code",
      "source": [],
      "metadata": {
        "id": "Po2LH7FcJoLP"
      },
      "execution_count": null,
      "outputs": []
    },
    {
      "cell_type": "code",
      "source": [],
      "metadata": {
        "id": "Mk-l_2aBJoOP"
      },
      "execution_count": null,
      "outputs": []
    },
    {
      "cell_type": "code",
      "source": [],
      "metadata": {
        "id": "9A3bSwgyHU3T"
      },
      "execution_count": null,
      "outputs": []
    },
    {
      "cell_type": "code",
      "source": [],
      "metadata": {
        "id": "AG8Esb86HU6T"
      },
      "execution_count": null,
      "outputs": []
    },
    {
      "cell_type": "code",
      "source": [],
      "metadata": {
        "id": "YBIJz30qEavu"
      },
      "execution_count": null,
      "outputs": []
    }
  ]
}