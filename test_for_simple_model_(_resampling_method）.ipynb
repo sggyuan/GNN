{
  "nbformat": 4,
  "nbformat_minor": 0,
  "metadata": {
    "colab": {
      "provenance": [],
      "authorship_tag": "ABX9TyNqO02z1o784RCkop7aHd9I",
      "include_colab_link": true
    },
    "kernelspec": {
      "name": "python3",
      "display_name": "Python 3"
    },
    "language_info": {
      "name": "python"
    }
  },
  "cells": [
    {
      "cell_type": "markdown",
      "metadata": {
        "id": "view-in-github",
        "colab_type": "text"
      },
      "source": [
        "<a href=\"https://colab.research.google.com/github/sggyuan/GNN/blob/main/test_for_simple_model_(_resampling_method%EF%BC%89.ipynb\" target=\"_parent\"><img src=\"https://colab.research.google.com/assets/colab-badge.svg\" alt=\"Open In Colab\"/></a>"
      ]
    },
    {
      "cell_type": "markdown",
      "source": [
        "# **1. data overview**"
      ],
      "metadata": {
        "id": "BboMsrsMd-K_"
      }
    },
    {
      "cell_type": "code",
      "execution_count": 1,
      "metadata": {
        "id": "yguDBqF0IRyR"
      },
      "outputs": [],
      "source": [
        "import pandas as pd\n",
        "import numpy as np\n",
        "import matplotlib.pyplot as plt\n",
        "from collections import Counter\n",
        "from sklearn.model_selection import train_test_split\n",
        "from sklearn.preprocessing import LabelEncoder\n",
        "import networkx as nx\n",
        "import torch\n",
        "import torch.nn as nn\n",
        "import torch.nn.functional as F"
      ]
    },
    {
      "cell_type": "code",
      "source": [
        "from google.colab import drive\n",
        "drive.mount('/content/drive')"
      ],
      "metadata": {
        "colab": {
          "base_uri": "https://localhost:8080/"
        },
        "id": "b01A9gL5IV28",
        "outputId": "f288b3b7-2305-43bf-e338-6edbc0be0905"
      },
      "execution_count": 2,
      "outputs": [
        {
          "output_type": "stream",
          "name": "stdout",
          "text": [
            "Drive already mounted at /content/drive; to attempt to forcibly remount, call drive.mount(\"/content/drive\", force_remount=True).\n"
          ]
        }
      ]
    },
    {
      "cell_type": "code",
      "source": [
        "df = pd.read_csv('/content/drive/My Drive/subset10w.csv')"
      ],
      "metadata": {
        "id": "7q8MWZavIcyJ"
      },
      "execution_count": 3,
      "outputs": []
    },
    {
      "cell_type": "code",
      "source": [
        "df.info()"
      ],
      "metadata": {
        "colab": {
          "base_uri": "https://localhost:8080/"
        },
        "id": "HjV1DhThIi5X",
        "outputId": "85bce476-3a92-4b0e-f28c-537e3d1ee51b"
      },
      "execution_count": 4,
      "outputs": [
        {
          "output_type": "stream",
          "name": "stdout",
          "text": [
            "<class 'pandas.core.frame.DataFrame'>\n",
            "RangeIndex: 100000 entries, 0 to 99999\n",
            "Data columns (total 33 columns):\n",
            " #   Column                       Non-Null Count   Dtype  \n",
            "---  ------                       --------------   -----  \n",
            " 0   User                         100000 non-null  int64  \n",
            " 1   Card                         100000 non-null  int64  \n",
            " 2   Year                         100000 non-null  int64  \n",
            " 3   Month                        100000 non-null  int64  \n",
            " 4   Day                          100000 non-null  int64  \n",
            " 5   Time                         100000 non-null  object \n",
            " 6   Amount                       100000 non-null  object \n",
            " 7   Use Chip                     100000 non-null  object \n",
            " 8   Merchant Name                100000 non-null  int64  \n",
            " 9   Merchant City                100000 non-null  object \n",
            " 10  Merchant State               88723 non-null   object \n",
            " 11  Zip                          88095 non-null   float64\n",
            " 12  MCC                          100000 non-null  int64  \n",
            " 13  Errors?                      1630 non-null    object \n",
            " 14  Is Fraud?                    100000 non-null  object \n",
            " 15  Person                       100000 non-null  object \n",
            " 16  Current Age                  100000 non-null  int64  \n",
            " 17  Retirement Age               100000 non-null  int64  \n",
            " 18  Birth Year                   100000 non-null  int64  \n",
            " 19  Birth Month                  100000 non-null  int64  \n",
            " 20  Gender                       100000 non-null  object \n",
            " 21  Address                      100000 non-null  object \n",
            " 22  Apartment                    27196 non-null   float64\n",
            " 23  City                         100000 non-null  object \n",
            " 24  State                        100000 non-null  object \n",
            " 25  Zipcode                      100000 non-null  int64  \n",
            " 26  Latitude                     100000 non-null  float64\n",
            " 27  Longitude                    100000 non-null  float64\n",
            " 28  Per Capita Income - Zipcode  100000 non-null  object \n",
            " 29  Yearly Income - Person       100000 non-null  object \n",
            " 30  Total Debt                   100000 non-null  object \n",
            " 31  FICO Score                   100000 non-null  int64  \n",
            " 32  Num Credit Cards             100000 non-null  int64  \n",
            "dtypes: float64(4), int64(14), object(15)\n",
            "memory usage: 25.2+ MB\n"
          ]
        }
      ]
    },
    {
      "cell_type": "code",
      "source": [
        "df.head(10)"
      ],
      "metadata": {
        "colab": {
          "base_uri": "https://localhost:8080/",
          "height": 646
        },
        "id": "ocl6k8zacx7O",
        "outputId": "859d5bc9-b018-4ca0-f9c8-cb798642e4cd"
      },
      "execution_count": 5,
      "outputs": [
        {
          "output_type": "execute_result",
          "data": {
            "text/plain": [
              "   User  Card  Year  Month  Day   Time  Amount            Use Chip  \\\n",
              "0   907     3  2018      8    8  22:18  $86.89    Chip Transaction   \n",
              "1  1117     2  2010      9   28  08:30   $1.91   Swipe Transaction   \n",
              "2   545     2  2009      2   23  13:54  $13.82   Swipe Transaction   \n",
              "3   478     0  2013     12   10  12:20  $15.34   Swipe Transaction   \n",
              "4  1953     0  2013     11   30  12:39  $14.82   Swipe Transaction   \n",
              "5   162     0  2002      9   20  20:51  $69.13   Swipe Transaction   \n",
              "6  1687     1  2012      5   18  06:57  $25.09  Online Transaction   \n",
              "7  1449     1  2015      7    7  13:29  $13.08    Chip Transaction   \n",
              "8   507     0  2010      8   27  17:44  $33.93   Swipe Transaction   \n",
              "9   605     1  2010      6   28  07:36  $22.89   Swipe Transaction   \n",
              "\n",
              "         Merchant Name Merchant City  ...          City  State  Zipcode  \\\n",
              "0 -5162038175624867091       Houston  ...       Houston     TX    77086   \n",
              "1  6091778774361517457     Vanceboro  ...     Vanceboro     NC    28586   \n",
              "2  2027553650310142703     Bradenton  ...     Bradenton     FL    34203   \n",
              "3 -4317138273541964845   South Haven  ...     Kalamazoo     MI    49048   \n",
              "4 -5581123930363301609       Newalla  ...        Meeker     OK    74855   \n",
              "5  1913477460590765860        Etowah  ...       Lansing     NC    28643   \n",
              "6 -2088492411650162548        ONLINE  ...     Stratford     CT     6614   \n",
              "7 -5162038175624867091       Stanton  ...       Stanton     CA    90680   \n",
              "8 -4334232547381218591     Chiefland  ...  High Springs     FL    32643   \n",
              "9  8878665205966093747     Calverton  ...     Broad Run     VA    20137   \n",
              "\n",
              "  Latitude Longitude Per Capita Income - Zipcode  Yearly Income - Person  \\\n",
              "0    29.76    -95.38                      $14959                  $30495   \n",
              "1    35.30    -77.15                      $14844                  $30265   \n",
              "2    27.48    -82.57                      $17590                  $35868   \n",
              "3    42.24    -85.48                      $17409                  $35499   \n",
              "4    35.48    -96.89                      $17730                  $36152   \n",
              "5    36.49    -81.50                      $12630                  $25748   \n",
              "6    41.20    -73.13                      $27589                  $56248   \n",
              "7    33.79   -117.99                      $17564                  $35813   \n",
              "8    29.82    -82.59                      $19693                  $40156   \n",
              "9    38.81    -77.72                      $35905                  $73208   \n",
              "\n",
              "   Total Debt  FICO Score  Num Credit Cards  \n",
              "0      $70825         773                 4  \n",
              "1      $36789         814                 4  \n",
              "2      $48465         562                 4  \n",
              "3      $80517         724                 1  \n",
              "4      $81345         716                 1  \n",
              "5      $41455         738                 3  \n",
              "6     $149587         728                 4  \n",
              "7      $43474         748                 2  \n",
              "8      $70128         738                 3  \n",
              "9     $115827         664                 6  \n",
              "\n",
              "[10 rows x 33 columns]"
            ],
            "text/html": [
              "\n",
              "  <div id=\"df-4fe1b600-aaa7-48c5-9ff8-17f16d19874f\" class=\"colab-df-container\">\n",
              "    <div>\n",
              "<style scoped>\n",
              "    .dataframe tbody tr th:only-of-type {\n",
              "        vertical-align: middle;\n",
              "    }\n",
              "\n",
              "    .dataframe tbody tr th {\n",
              "        vertical-align: top;\n",
              "    }\n",
              "\n",
              "    .dataframe thead th {\n",
              "        text-align: right;\n",
              "    }\n",
              "</style>\n",
              "<table border=\"1\" class=\"dataframe\">\n",
              "  <thead>\n",
              "    <tr style=\"text-align: right;\">\n",
              "      <th></th>\n",
              "      <th>User</th>\n",
              "      <th>Card</th>\n",
              "      <th>Year</th>\n",
              "      <th>Month</th>\n",
              "      <th>Day</th>\n",
              "      <th>Time</th>\n",
              "      <th>Amount</th>\n",
              "      <th>Use Chip</th>\n",
              "      <th>Merchant Name</th>\n",
              "      <th>Merchant City</th>\n",
              "      <th>...</th>\n",
              "      <th>City</th>\n",
              "      <th>State</th>\n",
              "      <th>Zipcode</th>\n",
              "      <th>Latitude</th>\n",
              "      <th>Longitude</th>\n",
              "      <th>Per Capita Income - Zipcode</th>\n",
              "      <th>Yearly Income - Person</th>\n",
              "      <th>Total Debt</th>\n",
              "      <th>FICO Score</th>\n",
              "      <th>Num Credit Cards</th>\n",
              "    </tr>\n",
              "  </thead>\n",
              "  <tbody>\n",
              "    <tr>\n",
              "      <th>0</th>\n",
              "      <td>907</td>\n",
              "      <td>3</td>\n",
              "      <td>2018</td>\n",
              "      <td>8</td>\n",
              "      <td>8</td>\n",
              "      <td>22:18</td>\n",
              "      <td>$86.89</td>\n",
              "      <td>Chip Transaction</td>\n",
              "      <td>-5162038175624867091</td>\n",
              "      <td>Houston</td>\n",
              "      <td>...</td>\n",
              "      <td>Houston</td>\n",
              "      <td>TX</td>\n",
              "      <td>77086</td>\n",
              "      <td>29.76</td>\n",
              "      <td>-95.38</td>\n",
              "      <td>$14959</td>\n",
              "      <td>$30495</td>\n",
              "      <td>$70825</td>\n",
              "      <td>773</td>\n",
              "      <td>4</td>\n",
              "    </tr>\n",
              "    <tr>\n",
              "      <th>1</th>\n",
              "      <td>1117</td>\n",
              "      <td>2</td>\n",
              "      <td>2010</td>\n",
              "      <td>9</td>\n",
              "      <td>28</td>\n",
              "      <td>08:30</td>\n",
              "      <td>$1.91</td>\n",
              "      <td>Swipe Transaction</td>\n",
              "      <td>6091778774361517457</td>\n",
              "      <td>Vanceboro</td>\n",
              "      <td>...</td>\n",
              "      <td>Vanceboro</td>\n",
              "      <td>NC</td>\n",
              "      <td>28586</td>\n",
              "      <td>35.30</td>\n",
              "      <td>-77.15</td>\n",
              "      <td>$14844</td>\n",
              "      <td>$30265</td>\n",
              "      <td>$36789</td>\n",
              "      <td>814</td>\n",
              "      <td>4</td>\n",
              "    </tr>\n",
              "    <tr>\n",
              "      <th>2</th>\n",
              "      <td>545</td>\n",
              "      <td>2</td>\n",
              "      <td>2009</td>\n",
              "      <td>2</td>\n",
              "      <td>23</td>\n",
              "      <td>13:54</td>\n",
              "      <td>$13.82</td>\n",
              "      <td>Swipe Transaction</td>\n",
              "      <td>2027553650310142703</td>\n",
              "      <td>Bradenton</td>\n",
              "      <td>...</td>\n",
              "      <td>Bradenton</td>\n",
              "      <td>FL</td>\n",
              "      <td>34203</td>\n",
              "      <td>27.48</td>\n",
              "      <td>-82.57</td>\n",
              "      <td>$17590</td>\n",
              "      <td>$35868</td>\n",
              "      <td>$48465</td>\n",
              "      <td>562</td>\n",
              "      <td>4</td>\n",
              "    </tr>\n",
              "    <tr>\n",
              "      <th>3</th>\n",
              "      <td>478</td>\n",
              "      <td>0</td>\n",
              "      <td>2013</td>\n",
              "      <td>12</td>\n",
              "      <td>10</td>\n",
              "      <td>12:20</td>\n",
              "      <td>$15.34</td>\n",
              "      <td>Swipe Transaction</td>\n",
              "      <td>-4317138273541964845</td>\n",
              "      <td>South Haven</td>\n",
              "      <td>...</td>\n",
              "      <td>Kalamazoo</td>\n",
              "      <td>MI</td>\n",
              "      <td>49048</td>\n",
              "      <td>42.24</td>\n",
              "      <td>-85.48</td>\n",
              "      <td>$17409</td>\n",
              "      <td>$35499</td>\n",
              "      <td>$80517</td>\n",
              "      <td>724</td>\n",
              "      <td>1</td>\n",
              "    </tr>\n",
              "    <tr>\n",
              "      <th>4</th>\n",
              "      <td>1953</td>\n",
              "      <td>0</td>\n",
              "      <td>2013</td>\n",
              "      <td>11</td>\n",
              "      <td>30</td>\n",
              "      <td>12:39</td>\n",
              "      <td>$14.82</td>\n",
              "      <td>Swipe Transaction</td>\n",
              "      <td>-5581123930363301609</td>\n",
              "      <td>Newalla</td>\n",
              "      <td>...</td>\n",
              "      <td>Meeker</td>\n",
              "      <td>OK</td>\n",
              "      <td>74855</td>\n",
              "      <td>35.48</td>\n",
              "      <td>-96.89</td>\n",
              "      <td>$17730</td>\n",
              "      <td>$36152</td>\n",
              "      <td>$81345</td>\n",
              "      <td>716</td>\n",
              "      <td>1</td>\n",
              "    </tr>\n",
              "    <tr>\n",
              "      <th>5</th>\n",
              "      <td>162</td>\n",
              "      <td>0</td>\n",
              "      <td>2002</td>\n",
              "      <td>9</td>\n",
              "      <td>20</td>\n",
              "      <td>20:51</td>\n",
              "      <td>$69.13</td>\n",
              "      <td>Swipe Transaction</td>\n",
              "      <td>1913477460590765860</td>\n",
              "      <td>Etowah</td>\n",
              "      <td>...</td>\n",
              "      <td>Lansing</td>\n",
              "      <td>NC</td>\n",
              "      <td>28643</td>\n",
              "      <td>36.49</td>\n",
              "      <td>-81.50</td>\n",
              "      <td>$12630</td>\n",
              "      <td>$25748</td>\n",
              "      <td>$41455</td>\n",
              "      <td>738</td>\n",
              "      <td>3</td>\n",
              "    </tr>\n",
              "    <tr>\n",
              "      <th>6</th>\n",
              "      <td>1687</td>\n",
              "      <td>1</td>\n",
              "      <td>2012</td>\n",
              "      <td>5</td>\n",
              "      <td>18</td>\n",
              "      <td>06:57</td>\n",
              "      <td>$25.09</td>\n",
              "      <td>Online Transaction</td>\n",
              "      <td>-2088492411650162548</td>\n",
              "      <td>ONLINE</td>\n",
              "      <td>...</td>\n",
              "      <td>Stratford</td>\n",
              "      <td>CT</td>\n",
              "      <td>6614</td>\n",
              "      <td>41.20</td>\n",
              "      <td>-73.13</td>\n",
              "      <td>$27589</td>\n",
              "      <td>$56248</td>\n",
              "      <td>$149587</td>\n",
              "      <td>728</td>\n",
              "      <td>4</td>\n",
              "    </tr>\n",
              "    <tr>\n",
              "      <th>7</th>\n",
              "      <td>1449</td>\n",
              "      <td>1</td>\n",
              "      <td>2015</td>\n",
              "      <td>7</td>\n",
              "      <td>7</td>\n",
              "      <td>13:29</td>\n",
              "      <td>$13.08</td>\n",
              "      <td>Chip Transaction</td>\n",
              "      <td>-5162038175624867091</td>\n",
              "      <td>Stanton</td>\n",
              "      <td>...</td>\n",
              "      <td>Stanton</td>\n",
              "      <td>CA</td>\n",
              "      <td>90680</td>\n",
              "      <td>33.79</td>\n",
              "      <td>-117.99</td>\n",
              "      <td>$17564</td>\n",
              "      <td>$35813</td>\n",
              "      <td>$43474</td>\n",
              "      <td>748</td>\n",
              "      <td>2</td>\n",
              "    </tr>\n",
              "    <tr>\n",
              "      <th>8</th>\n",
              "      <td>507</td>\n",
              "      <td>0</td>\n",
              "      <td>2010</td>\n",
              "      <td>8</td>\n",
              "      <td>27</td>\n",
              "      <td>17:44</td>\n",
              "      <td>$33.93</td>\n",
              "      <td>Swipe Transaction</td>\n",
              "      <td>-4334232547381218591</td>\n",
              "      <td>Chiefland</td>\n",
              "      <td>...</td>\n",
              "      <td>High Springs</td>\n",
              "      <td>FL</td>\n",
              "      <td>32643</td>\n",
              "      <td>29.82</td>\n",
              "      <td>-82.59</td>\n",
              "      <td>$19693</td>\n",
              "      <td>$40156</td>\n",
              "      <td>$70128</td>\n",
              "      <td>738</td>\n",
              "      <td>3</td>\n",
              "    </tr>\n",
              "    <tr>\n",
              "      <th>9</th>\n",
              "      <td>605</td>\n",
              "      <td>1</td>\n",
              "      <td>2010</td>\n",
              "      <td>6</td>\n",
              "      <td>28</td>\n",
              "      <td>07:36</td>\n",
              "      <td>$22.89</td>\n",
              "      <td>Swipe Transaction</td>\n",
              "      <td>8878665205966093747</td>\n",
              "      <td>Calverton</td>\n",
              "      <td>...</td>\n",
              "      <td>Broad Run</td>\n",
              "      <td>VA</td>\n",
              "      <td>20137</td>\n",
              "      <td>38.81</td>\n",
              "      <td>-77.72</td>\n",
              "      <td>$35905</td>\n",
              "      <td>$73208</td>\n",
              "      <td>$115827</td>\n",
              "      <td>664</td>\n",
              "      <td>6</td>\n",
              "    </tr>\n",
              "  </tbody>\n",
              "</table>\n",
              "<p>10 rows × 33 columns</p>\n",
              "</div>\n",
              "    <div class=\"colab-df-buttons\">\n",
              "\n",
              "  <div class=\"colab-df-container\">\n",
              "    <button class=\"colab-df-convert\" onclick=\"convertToInteractive('df-4fe1b600-aaa7-48c5-9ff8-17f16d19874f')\"\n",
              "            title=\"Convert this dataframe to an interactive table.\"\n",
              "            style=\"display:none;\">\n",
              "\n",
              "  <svg xmlns=\"http://www.w3.org/2000/svg\" height=\"24px\" viewBox=\"0 -960 960 960\">\n",
              "    <path d=\"M120-120v-720h720v720H120Zm60-500h600v-160H180v160Zm220 220h160v-160H400v160Zm0 220h160v-160H400v160ZM180-400h160v-160H180v160Zm440 0h160v-160H620v160ZM180-180h160v-160H180v160Zm440 0h160v-160H620v160Z\"/>\n",
              "  </svg>\n",
              "    </button>\n",
              "\n",
              "  <style>\n",
              "    .colab-df-container {\n",
              "      display:flex;\n",
              "      gap: 12px;\n",
              "    }\n",
              "\n",
              "    .colab-df-convert {\n",
              "      background-color: #E8F0FE;\n",
              "      border: none;\n",
              "      border-radius: 50%;\n",
              "      cursor: pointer;\n",
              "      display: none;\n",
              "      fill: #1967D2;\n",
              "      height: 32px;\n",
              "      padding: 0 0 0 0;\n",
              "      width: 32px;\n",
              "    }\n",
              "\n",
              "    .colab-df-convert:hover {\n",
              "      background-color: #E2EBFA;\n",
              "      box-shadow: 0px 1px 2px rgba(60, 64, 67, 0.3), 0px 1px 3px 1px rgba(60, 64, 67, 0.15);\n",
              "      fill: #174EA6;\n",
              "    }\n",
              "\n",
              "    .colab-df-buttons div {\n",
              "      margin-bottom: 4px;\n",
              "    }\n",
              "\n",
              "    [theme=dark] .colab-df-convert {\n",
              "      background-color: #3B4455;\n",
              "      fill: #D2E3FC;\n",
              "    }\n",
              "\n",
              "    [theme=dark] .colab-df-convert:hover {\n",
              "      background-color: #434B5C;\n",
              "      box-shadow: 0px 1px 3px 1px rgba(0, 0, 0, 0.15);\n",
              "      filter: drop-shadow(0px 1px 2px rgba(0, 0, 0, 0.3));\n",
              "      fill: #FFFFFF;\n",
              "    }\n",
              "  </style>\n",
              "\n",
              "    <script>\n",
              "      const buttonEl =\n",
              "        document.querySelector('#df-4fe1b600-aaa7-48c5-9ff8-17f16d19874f button.colab-df-convert');\n",
              "      buttonEl.style.display =\n",
              "        google.colab.kernel.accessAllowed ? 'block' : 'none';\n",
              "\n",
              "      async function convertToInteractive(key) {\n",
              "        const element = document.querySelector('#df-4fe1b600-aaa7-48c5-9ff8-17f16d19874f');\n",
              "        const dataTable =\n",
              "          await google.colab.kernel.invokeFunction('convertToInteractive',\n",
              "                                                    [key], {});\n",
              "        if (!dataTable) return;\n",
              "\n",
              "        const docLinkHtml = 'Like what you see? Visit the ' +\n",
              "          '<a target=\"_blank\" href=https://colab.research.google.com/notebooks/data_table.ipynb>data table notebook</a>'\n",
              "          + ' to learn more about interactive tables.';\n",
              "        element.innerHTML = '';\n",
              "        dataTable['output_type'] = 'display_data';\n",
              "        await google.colab.output.renderOutput(dataTable, element);\n",
              "        const docLink = document.createElement('div');\n",
              "        docLink.innerHTML = docLinkHtml;\n",
              "        element.appendChild(docLink);\n",
              "      }\n",
              "    </script>\n",
              "  </div>\n",
              "\n",
              "\n",
              "<div id=\"df-6d8ea9da-84ac-4b1e-9e0f-9ed1bf178114\">\n",
              "  <button class=\"colab-df-quickchart\" onclick=\"quickchart('df-6d8ea9da-84ac-4b1e-9e0f-9ed1bf178114')\"\n",
              "            title=\"Suggest charts\"\n",
              "            style=\"display:none;\">\n",
              "\n",
              "<svg xmlns=\"http://www.w3.org/2000/svg\" height=\"24px\"viewBox=\"0 0 24 24\"\n",
              "     width=\"24px\">\n",
              "    <g>\n",
              "        <path d=\"M19 3H5c-1.1 0-2 .9-2 2v14c0 1.1.9 2 2 2h14c1.1 0 2-.9 2-2V5c0-1.1-.9-2-2-2zM9 17H7v-7h2v7zm4 0h-2V7h2v10zm4 0h-2v-4h2v4z\"/>\n",
              "    </g>\n",
              "</svg>\n",
              "  </button>\n",
              "\n",
              "<style>\n",
              "  .colab-df-quickchart {\n",
              "      --bg-color: #E8F0FE;\n",
              "      --fill-color: #1967D2;\n",
              "      --hover-bg-color: #E2EBFA;\n",
              "      --hover-fill-color: #174EA6;\n",
              "      --disabled-fill-color: #AAA;\n",
              "      --disabled-bg-color: #DDD;\n",
              "  }\n",
              "\n",
              "  [theme=dark] .colab-df-quickchart {\n",
              "      --bg-color: #3B4455;\n",
              "      --fill-color: #D2E3FC;\n",
              "      --hover-bg-color: #434B5C;\n",
              "      --hover-fill-color: #FFFFFF;\n",
              "      --disabled-bg-color: #3B4455;\n",
              "      --disabled-fill-color: #666;\n",
              "  }\n",
              "\n",
              "  .colab-df-quickchart {\n",
              "    background-color: var(--bg-color);\n",
              "    border: none;\n",
              "    border-radius: 50%;\n",
              "    cursor: pointer;\n",
              "    display: none;\n",
              "    fill: var(--fill-color);\n",
              "    height: 32px;\n",
              "    padding: 0;\n",
              "    width: 32px;\n",
              "  }\n",
              "\n",
              "  .colab-df-quickchart:hover {\n",
              "    background-color: var(--hover-bg-color);\n",
              "    box-shadow: 0 1px 2px rgba(60, 64, 67, 0.3), 0 1px 3px 1px rgba(60, 64, 67, 0.15);\n",
              "    fill: var(--button-hover-fill-color);\n",
              "  }\n",
              "\n",
              "  .colab-df-quickchart-complete:disabled,\n",
              "  .colab-df-quickchart-complete:disabled:hover {\n",
              "    background-color: var(--disabled-bg-color);\n",
              "    fill: var(--disabled-fill-color);\n",
              "    box-shadow: none;\n",
              "  }\n",
              "\n",
              "  .colab-df-spinner {\n",
              "    border: 2px solid var(--fill-color);\n",
              "    border-color: transparent;\n",
              "    border-bottom-color: var(--fill-color);\n",
              "    animation:\n",
              "      spin 1s steps(1) infinite;\n",
              "  }\n",
              "\n",
              "  @keyframes spin {\n",
              "    0% {\n",
              "      border-color: transparent;\n",
              "      border-bottom-color: var(--fill-color);\n",
              "      border-left-color: var(--fill-color);\n",
              "    }\n",
              "    20% {\n",
              "      border-color: transparent;\n",
              "      border-left-color: var(--fill-color);\n",
              "      border-top-color: var(--fill-color);\n",
              "    }\n",
              "    30% {\n",
              "      border-color: transparent;\n",
              "      border-left-color: var(--fill-color);\n",
              "      border-top-color: var(--fill-color);\n",
              "      border-right-color: var(--fill-color);\n",
              "    }\n",
              "    40% {\n",
              "      border-color: transparent;\n",
              "      border-right-color: var(--fill-color);\n",
              "      border-top-color: var(--fill-color);\n",
              "    }\n",
              "    60% {\n",
              "      border-color: transparent;\n",
              "      border-right-color: var(--fill-color);\n",
              "    }\n",
              "    80% {\n",
              "      border-color: transparent;\n",
              "      border-right-color: var(--fill-color);\n",
              "      border-bottom-color: var(--fill-color);\n",
              "    }\n",
              "    90% {\n",
              "      border-color: transparent;\n",
              "      border-bottom-color: var(--fill-color);\n",
              "    }\n",
              "  }\n",
              "</style>\n",
              "\n",
              "  <script>\n",
              "    async function quickchart(key) {\n",
              "      const quickchartButtonEl =\n",
              "        document.querySelector('#' + key + ' button');\n",
              "      quickchartButtonEl.disabled = true;  // To prevent multiple clicks.\n",
              "      quickchartButtonEl.classList.add('colab-df-spinner');\n",
              "      try {\n",
              "        const charts = await google.colab.kernel.invokeFunction(\n",
              "            'suggestCharts', [key], {});\n",
              "      } catch (error) {\n",
              "        console.error('Error during call to suggestCharts:', error);\n",
              "      }\n",
              "      quickchartButtonEl.classList.remove('colab-df-spinner');\n",
              "      quickchartButtonEl.classList.add('colab-df-quickchart-complete');\n",
              "    }\n",
              "    (() => {\n",
              "      let quickchartButtonEl =\n",
              "        document.querySelector('#df-6d8ea9da-84ac-4b1e-9e0f-9ed1bf178114 button');\n",
              "      quickchartButtonEl.style.display =\n",
              "        google.colab.kernel.accessAllowed ? 'block' : 'none';\n",
              "    })();\n",
              "  </script>\n",
              "</div>\n",
              "\n",
              "    </div>\n",
              "  </div>\n"
            ],
            "application/vnd.google.colaboratory.intrinsic+json": {
              "type": "dataframe",
              "variable_name": "df"
            }
          },
          "metadata": {},
          "execution_count": 5
        }
      ]
    },
    {
      "cell_type": "code",
      "source": [
        "# Check the number of fraudulent transactions\n",
        "df['Is Fraud?'].value_counts()"
      ],
      "metadata": {
        "colab": {
          "base_uri": "https://localhost:8080/",
          "height": 176
        },
        "id": "W97gARiXcx-W",
        "outputId": "68695f5d-262b-47fd-abe6-6747fa332e50"
      },
      "execution_count": 6,
      "outputs": [
        {
          "output_type": "execute_result",
          "data": {
            "text/plain": [
              "Is Fraud?\n",
              "No     99883\n",
              "Yes      117\n",
              "Name: count, dtype: int64"
            ],
            "text/html": [
              "<div>\n",
              "<style scoped>\n",
              "    .dataframe tbody tr th:only-of-type {\n",
              "        vertical-align: middle;\n",
              "    }\n",
              "\n",
              "    .dataframe tbody tr th {\n",
              "        vertical-align: top;\n",
              "    }\n",
              "\n",
              "    .dataframe thead th {\n",
              "        text-align: right;\n",
              "    }\n",
              "</style>\n",
              "<table border=\"1\" class=\"dataframe\">\n",
              "  <thead>\n",
              "    <tr style=\"text-align: right;\">\n",
              "      <th></th>\n",
              "      <th>count</th>\n",
              "    </tr>\n",
              "    <tr>\n",
              "      <th>Is Fraud?</th>\n",
              "      <th></th>\n",
              "    </tr>\n",
              "  </thead>\n",
              "  <tbody>\n",
              "    <tr>\n",
              "      <th>No</th>\n",
              "      <td>99883</td>\n",
              "    </tr>\n",
              "    <tr>\n",
              "      <th>Yes</th>\n",
              "      <td>117</td>\n",
              "    </tr>\n",
              "  </tbody>\n",
              "</table>\n",
              "</div><br><label><b>dtype:</b> int64</label>"
            ]
          },
          "metadata": {},
          "execution_count": 6
        }
      ]
    },
    {
      "cell_type": "code",
      "source": [
        "df [df['Is Fraud?'] == 'Yes'].shape"
      ],
      "metadata": {
        "colab": {
          "base_uri": "https://localhost:8080/"
        },
        "id": "6uNk2v3ZIk_Y",
        "outputId": "d4caf744-c393-420f-d148-822a3d90eb34"
      },
      "execution_count": 7,
      "outputs": [
        {
          "output_type": "execute_result",
          "data": {
            "text/plain": [
              "(117, 33)"
            ]
          },
          "metadata": {},
          "execution_count": 7
        }
      ]
    },
    {
      "cell_type": "code",
      "source": [
        "percent_missing=(df.isnull().sum()*100/df.shape[0]).sort_values(ascending=True)\n",
        "plt.title(\"Missing Value Analysis\")\n",
        "plt.xlabel(\"Features\")\n",
        "plt.ylabel(\"% of missing values\")\n",
        "plt.bar(percent_missing.sort_values(ascending=False).index,percent_missing.sort_values(ascending=False),color=(0.1, 0.1, 0.1, 0.1),edgecolor='blue')\n",
        "plt.xticks(rotation=90)"
      ],
      "metadata": {
        "colab": {
          "base_uri": "https://localhost:8080/",
          "height": 1000
        },
        "id": "unlE-rTtInDU",
        "outputId": "1fc872af-6c0f-4893-ac8d-14d87fc04239"
      },
      "execution_count": 8,
      "outputs": [
        {
          "output_type": "execute_result",
          "data": {
            "text/plain": [
              "([0,\n",
              "  1,\n",
              "  2,\n",
              "  3,\n",
              "  4,\n",
              "  5,\n",
              "  6,\n",
              "  7,\n",
              "  8,\n",
              "  9,\n",
              "  10,\n",
              "  11,\n",
              "  12,\n",
              "  13,\n",
              "  14,\n",
              "  15,\n",
              "  16,\n",
              "  17,\n",
              "  18,\n",
              "  19,\n",
              "  20,\n",
              "  21,\n",
              "  22,\n",
              "  23,\n",
              "  24,\n",
              "  25,\n",
              "  26,\n",
              "  27,\n",
              "  28,\n",
              "  29,\n",
              "  30,\n",
              "  31,\n",
              "  32],\n",
              " [Text(0, 0, 'Errors?'),\n",
              "  Text(1, 0, 'Apartment'),\n",
              "  Text(2, 0, 'Zip'),\n",
              "  Text(3, 0, 'Merchant State'),\n",
              "  Text(4, 0, 'Card'),\n",
              "  Text(5, 0, 'Num Credit Cards'),\n",
              "  Text(6, 0, 'Merchant Name'),\n",
              "  Text(7, 0, 'MCC'),\n",
              "  Text(8, 0, 'Merchant City'),\n",
              "  Text(9, 0, 'Use Chip'),\n",
              "  Text(10, 0, 'Person'),\n",
              "  Text(11, 0, 'Amount'),\n",
              "  Text(12, 0, 'Time'),\n",
              "  Text(13, 0, 'Day'),\n",
              "  Text(14, 0, 'Month'),\n",
              "  Text(15, 0, 'Year'),\n",
              "  Text(16, 0, 'User'),\n",
              "  Text(17, 0, 'Total Debt'),\n",
              "  Text(18, 0, 'Current Age'),\n",
              "  Text(19, 0, 'FICO Score'),\n",
              "  Text(20, 0, 'Retirement Age'),\n",
              "  Text(21, 0, 'Birth Year'),\n",
              "  Text(22, 0, 'Birth Month'),\n",
              "  Text(23, 0, 'Gender'),\n",
              "  Text(24, 0, 'Address'),\n",
              "  Text(25, 0, 'City'),\n",
              "  Text(26, 0, 'State'),\n",
              "  Text(27, 0, 'Zipcode'),\n",
              "  Text(28, 0, 'Latitude'),\n",
              "  Text(29, 0, 'Longitude'),\n",
              "  Text(30, 0, 'Per Capita Income - Zipcode'),\n",
              "  Text(31, 0, 'Yearly Income - Person'),\n",
              "  Text(32, 0, 'Is Fraud?')])"
            ]
          },
          "metadata": {},
          "execution_count": 8
        },
        {
          "output_type": "display_data",
          "data": {
            "text/plain": [
              "<Figure size 640x480 with 1 Axes>"
            ],
            "image/png": "[encoded data removed]"
          },
          "metadata": {}
        }
      ]
    },
    {
      "cell_type": "code",
      "source": [
        "df[\"card_id\"] = df[\"User\"].astype(str) + \"_\" + df[\"Card\"].astype(str)"
      ],
      "metadata": {
        "id": "Yzpx7pRwIorq"
      },
      "execution_count": 9,
      "outputs": []
    },
    {
      "cell_type": "code",
      "source": [
        "df.Amount.head(5)"
      ],
      "metadata": {
        "colab": {
          "base_uri": "https://localhost:8080/",
          "height": 238
        },
        "id": "TMWPz5iSIrv5",
        "outputId": "da05420a-8eba-451f-9ad0-365c5ab8b30d"
      },
      "execution_count": 10,
      "outputs": [
        {
          "output_type": "execute_result",
          "data": {
            "text/plain": [
              "0    $86.89\n",
              "1     $1.91\n",
              "2    $13.82\n",
              "3    $15.34\n",
              "4    $14.82\n",
              "Name: Amount, dtype: object"
            ],
            "text/html": [
              "<div>\n",
              "<style scoped>\n",
              "    .dataframe tbody tr th:only-of-type {\n",
              "        vertical-align: middle;\n",
              "    }\n",
              "\n",
              "    .dataframe tbody tr th {\n",
              "        vertical-align: top;\n",
              "    }\n",
              "\n",
              "    .dataframe thead th {\n",
              "        text-align: right;\n",
              "    }\n",
              "</style>\n",
              "<table border=\"1\" class=\"dataframe\">\n",
              "  <thead>\n",
              "    <tr style=\"text-align: right;\">\n",
              "      <th></th>\n",
              "      <th>Amount</th>\n",
              "    </tr>\n",
              "  </thead>\n",
              "  <tbody>\n",
              "    <tr>\n",
              "      <th>0</th>\n",
              "      <td>$86.89</td>\n",
              "    </tr>\n",
              "    <tr>\n",
              "      <th>1</th>\n",
              "      <td>$1.91</td>\n",
              "    </tr>\n",
              "    <tr>\n",
              "      <th>2</th>\n",
              "      <td>$13.82</td>\n",
              "    </tr>\n",
              "    <tr>\n",
              "      <th>3</th>\n",
              "      <td>$15.34</td>\n",
              "    </tr>\n",
              "    <tr>\n",
              "      <th>4</th>\n",
              "      <td>$14.82</td>\n",
              "    </tr>\n",
              "  </tbody>\n",
              "</table>\n",
              "</div><br><label><b>dtype:</b> object</label>"
            ]
          },
          "metadata": {},
          "execution_count": 10
        }
      ]
    },
    {
      "cell_type": "code",
      "source": [
        "# We need to strip the '$' from the Amount to cast as a float\n",
        "df[\"Amount\"]=df[\"Amount\"].str.replace(\"$\",\"\").astype(float)"
      ],
      "metadata": {
        "id": "zCiSELsfIt3i"
      },
      "execution_count": 11,
      "outputs": []
    },
    {
      "cell_type": "code",
      "source": [
        "df[\"Hour\"] = df[\"Time\"].str [0:2]\n",
        "df[\"Minute\"] = df[\"Time\"].str [3:5]"
      ],
      "metadata": {
        "id": "Tb-0xV-NIvzD"
      },
      "execution_count": 12,
      "outputs": []
    },
    {
      "cell_type": "code",
      "source": [
        "df.Hour"
      ],
      "metadata": {
        "colab": {
          "base_uri": "https://localhost:8080/",
          "height": 453
        },
        "id": "rbdQNM50Ixvb",
        "outputId": "4a84c2a4-77b0-4a7c-f59f-437de2126e7c"
      },
      "execution_count": 13,
      "outputs": [
        {
          "output_type": "execute_result",
          "data": {
            "text/plain": [
              "0        22\n",
              "1        08\n",
              "2        13\n",
              "3        12\n",
              "4        12\n",
              "         ..\n",
              "99995    07\n",
              "99996    15\n",
              "99997    12\n",
              "99998    12\n",
              "99999    20\n",
              "Name: Hour, Length: 100000, dtype: object"
            ],
            "text/html": [
              "<div>\n",
              "<style scoped>\n",
              "    .dataframe tbody tr th:only-of-type {\n",
              "        vertical-align: middle;\n",
              "    }\n",
              "\n",
              "    .dataframe tbody tr th {\n",
              "        vertical-align: top;\n",
              "    }\n",
              "\n",
              "    .dataframe thead th {\n",
              "        text-align: right;\n",
              "    }\n",
              "</style>\n",
              "<table border=\"1\" class=\"dataframe\">\n",
              "  <thead>\n",
              "    <tr style=\"text-align: right;\">\n",
              "      <th></th>\n",
              "      <th>Hour</th>\n",
              "    </tr>\n",
              "  </thead>\n",
              "  <tbody>\n",
              "    <tr>\n",
              "      <th>0</th>\n",
              "      <td>22</td>\n",
              "    </tr>\n",
              "    <tr>\n",
              "      <th>1</th>\n",
              "      <td>08</td>\n",
              "    </tr>\n",
              "    <tr>\n",
              "      <th>2</th>\n",
              "      <td>13</td>\n",
              "    </tr>\n",
              "    <tr>\n",
              "      <th>3</th>\n",
              "      <td>12</td>\n",
              "    </tr>\n",
              "    <tr>\n",
              "      <th>4</th>\n",
              "      <td>12</td>\n",
              "    </tr>\n",
              "    <tr>\n",
              "      <th>...</th>\n",
              "      <td>...</td>\n",
              "    </tr>\n",
              "    <tr>\n",
              "      <th>99995</th>\n",
              "      <td>07</td>\n",
              "    </tr>\n",
              "    <tr>\n",
              "      <th>99996</th>\n",
              "      <td>15</td>\n",
              "    </tr>\n",
              "    <tr>\n",
              "      <th>99997</th>\n",
              "      <td>12</td>\n",
              "    </tr>\n",
              "    <tr>\n",
              "      <th>99998</th>\n",
              "      <td>12</td>\n",
              "    </tr>\n",
              "    <tr>\n",
              "      <th>99999</th>\n",
              "      <td>20</td>\n",
              "    </tr>\n",
              "  </tbody>\n",
              "</table>\n",
              "<p>100000 rows × 1 columns</p>\n",
              "</div><br><label><b>dtype:</b> object</label>"
            ]
          },
          "metadata": {},
          "execution_count": 13
        }
      ]
    },
    {
      "cell_type": "code",
      "source": [
        "df.Minute"
      ],
      "metadata": {
        "colab": {
          "base_uri": "https://localhost:8080/",
          "height": 453
        },
        "id": "7o3NoZWWIzQv",
        "outputId": "e5c2f99c-1ff1-43db-aadf-d799a147fe27"
      },
      "execution_count": 14,
      "outputs": [
        {
          "output_type": "execute_result",
          "data": {
            "text/plain": [
              "0        18\n",
              "1        30\n",
              "2        54\n",
              "3        20\n",
              "4        39\n",
              "         ..\n",
              "99995    51\n",
              "99996    45\n",
              "99997    19\n",
              "99998    34\n",
              "99999    53\n",
              "Name: Minute, Length: 100000, dtype: object"
            ],
            "text/html": [
              "<div>\n",
              "<style scoped>\n",
              "    .dataframe tbody tr th:only-of-type {\n",
              "        vertical-align: middle;\n",
              "    }\n",
              "\n",
              "    .dataframe tbody tr th {\n",
              "        vertical-align: top;\n",
              "    }\n",
              "\n",
              "    .dataframe thead th {\n",
              "        text-align: right;\n",
              "    }\n",
              "</style>\n",
              "<table border=\"1\" class=\"dataframe\">\n",
              "  <thead>\n",
              "    <tr style=\"text-align: right;\">\n",
              "      <th></th>\n",
              "      <th>Minute</th>\n",
              "    </tr>\n",
              "  </thead>\n",
              "  <tbody>\n",
              "    <tr>\n",
              "      <th>0</th>\n",
              "      <td>18</td>\n",
              "    </tr>\n",
              "    <tr>\n",
              "      <th>1</th>\n",
              "      <td>30</td>\n",
              "    </tr>\n",
              "    <tr>\n",
              "      <th>2</th>\n",
              "      <td>54</td>\n",
              "    </tr>\n",
              "    <tr>\n",
              "      <th>3</th>\n",
              "      <td>20</td>\n",
              "    </tr>\n",
              "    <tr>\n",
              "      <th>4</th>\n",
              "      <td>39</td>\n",
              "    </tr>\n",
              "    <tr>\n",
              "      <th>...</th>\n",
              "      <td>...</td>\n",
              "    </tr>\n",
              "    <tr>\n",
              "      <th>99995</th>\n",
              "      <td>51</td>\n",
              "    </tr>\n",
              "    <tr>\n",
              "      <th>99996</th>\n",
              "      <td>45</td>\n",
              "    </tr>\n",
              "    <tr>\n",
              "      <th>99997</th>\n",
              "      <td>19</td>\n",
              "    </tr>\n",
              "    <tr>\n",
              "      <th>99998</th>\n",
              "      <td>34</td>\n",
              "    </tr>\n",
              "    <tr>\n",
              "      <th>99999</th>\n",
              "      <td>53</td>\n",
              "    </tr>\n",
              "  </tbody>\n",
              "</table>\n",
              "<p>100000 rows × 1 columns</p>\n",
              "</div><br><label><b>dtype:</b> object</label>"
            ]
          },
          "metadata": {},
          "execution_count": 14
        }
      ]
    },
    {
      "cell_type": "code",
      "source": [
        "df = df.drop(columns=[\"Merchant State\",\"Zip\",\"Apartment\"],axis=1)"
      ],
      "metadata": {
        "id": "NXS6bmiFI0xI"
      },
      "execution_count": 15,
      "outputs": []
    },
    {
      "cell_type": "code",
      "source": [
        "df[\"Errors?\"].unique()"
      ],
      "metadata": {
        "colab": {
          "base_uri": "https://localhost:8080/"
        },
        "id": "h0uQheILI2vn",
        "outputId": "9682b3e2-8cea-48a8-e6d6-74429cf6d27b"
      },
      "execution_count": 16,
      "outputs": [
        {
          "output_type": "execute_result",
          "data": {
            "text/plain": [
              "array([nan, 'Bad PIN', 'Insufficient Balance', 'Technical Glitch',\n",
              "       'Bad Card Number', 'Bad CVV', 'Bad Expiration', 'Bad Zipcode',\n",
              "       'Bad Expiration,Insufficient Balance',\n",
              "       'Bad PIN,Insufficient Balance',\n",
              "       'Insufficient Balance,Technical Glitch'], dtype=object)"
            ]
          },
          "metadata": {},
          "execution_count": 16
        }
      ]
    },
    {
      "cell_type": "code",
      "source": [
        "df[\"Errors?\"]= df[\"Errors?\"].fillna(\"No error\")"
      ],
      "metadata": {
        "id": "1xImwmRYI50X"
      },
      "execution_count": 17,
      "outputs": []
    },
    {
      "cell_type": "code",
      "source": [
        "# change the is fraud column to binary\n",
        "df[\"Is Fraud?\"] = df[\"Is Fraud?\"].apply(lambda x: 1 if x == 'Yes' else 0)"
      ],
      "metadata": {
        "id": "CtTKpfkza3aA"
      },
      "execution_count": 19,
      "outputs": []
    },
    {
      "cell_type": "code",
      "source": [
        "df['Per Capita Income - Zipcode'] = df['Per Capita Income - Zipcode'].str.replace('$', '').astype(float)\n",
        "df['Yearly Income - Person'] = df['Yearly Income - Person'].str.replace('$', '').astype(float)\n",
        "df['Total Debt'] = df['Total Debt'].str.replace('$', '').astype(float)"
      ],
      "metadata": {
        "id": "fOiXpJkSbDi1"
      },
      "execution_count": 20,
      "outputs": []
    },
    {
      "cell_type": "code",
      "source": [
        "categorical_columns = ['Merchant City', 'Errors?' , 'Person', 'Address', 'City', 'State']\n",
        "le = LabelEncoder()\n",
        "for col in categorical_columns:\n",
        "    df[col] = le.fit_transform(df[col].astype(str))"
      ],
      "metadata": {
        "id": "F_lrziiybFrA"
      },
      "execution_count": 21,
      "outputs": []
    },
    {
      "cell_type": "code",
      "source": [
        "gender_encoded = pd.get_dummies(df['Gender'], prefix='Gender')\n",
        "\n",
        "\n",
        "df = pd.concat([df, gender_encoded], axis=1)\n",
        "\n",
        "df = df.drop(['Gender'], axis=1)"
      ],
      "metadata": {
        "id": "T9lHLHR4bJs7"
      },
      "execution_count": 22,
      "outputs": []
    },
    {
      "cell_type": "code",
      "source": [
        "bool_columns = df.select_dtypes(include=['bool']).columns\n",
        "for col in bool_columns:\n",
        "    df[col] = df[col].astype(int)"
      ],
      "metadata": {
        "id": "XQ55_DjobMP6"
      },
      "execution_count": 23,
      "outputs": []
    },
    {
      "cell_type": "code",
      "source": [
        "df[\"Use Chip\"]=LabelEncoder().fit_transform(df[\"Use Chip\"])"
      ],
      "metadata": {
        "id": "VdgNBNe7bPfa"
      },
      "execution_count": 24,
      "outputs": []
    },
    {
      "cell_type": "code",
      "source": [
        "df.info()"
      ],
      "metadata": {
        "colab": {
          "base_uri": "https://localhost:8080/"
        },
        "id": "7WTK6v9NbRWx",
        "outputId": "82add6eb-6748-48a7-c8bf-7165b3e22d9b"
      },
      "execution_count": 25,
      "outputs": [
        {
          "output_type": "stream",
          "name": "stdout",
          "text": [
            "<class 'pandas.core.frame.DataFrame'>\n",
            "RangeIndex: 100000 entries, 0 to 99999\n",
            "Data columns (total 34 columns):\n",
            " #   Column                       Non-Null Count   Dtype  \n",
            "---  ------                       --------------   -----  \n",
            " 0   User                         100000 non-null  int64  \n",
            " 1   Card                         100000 non-null  int64  \n",
            " 2   Year                         100000 non-null  int64  \n",
            " 3   Month                        100000 non-null  int64  \n",
            " 4   Day                          100000 non-null  int64  \n",
            " 5   Time                         100000 non-null  object \n",
            " 6   Amount                       100000 non-null  float64\n",
            " 7   Use Chip                     100000 non-null  int64  \n",
            " 8   Merchant Name                100000 non-null  int64  \n",
            " 9   Merchant City                100000 non-null  int64  \n",
            " 10  MCC                          100000 non-null  int64  \n",
            " 11  Errors?                      100000 non-null  int64  \n",
            " 12  Is Fraud?                    100000 non-null  int64  \n",
            " 13  Person                       100000 non-null  int64  \n",
            " 14  Current Age                  100000 non-null  int64  \n",
            " 15  Retirement Age               100000 non-null  int64  \n",
            " 16  Birth Year                   100000 non-null  int64  \n",
            " 17  Birth Month                  100000 non-null  int64  \n",
            " 18  Address                      100000 non-null  int64  \n",
            " 19  City                         100000 non-null  int64  \n",
            " 20  State                        100000 non-null  int64  \n",
            " 21  Zipcode                      100000 non-null  int64  \n",
            " 22  Latitude                     100000 non-null  float64\n",
            " 23  Longitude                    100000 non-null  float64\n",
            " 24  Per Capita Income - Zipcode  100000 non-null  float64\n",
            " 25  Yearly Income - Person       100000 non-null  float64\n",
            " 26  Total Debt                   100000 non-null  float64\n",
            " 27  FICO Score                   100000 non-null  int64  \n",
            " 28  Num Credit Cards             100000 non-null  int64  \n",
            " 29  card_id                      100000 non-null  object \n",
            " 30  Hour                         100000 non-null  object \n",
            " 31  Minute                       100000 non-null  object \n",
            " 32  Gender_Female                100000 non-null  int64  \n",
            " 33  Gender_Male                  100000 non-null  int64  \n",
            "dtypes: float64(6), int64(24), object(4)\n",
            "memory usage: 25.9+ MB\n"
          ]
        }
      ]
    },
    {
      "cell_type": "markdown",
      "source": [
        "# **GNN**"
      ],
      "metadata": {
        "id": "qC00VErkkui4"
      }
    },
    {
      "cell_type": "code",
      "source": [
        "# Create an empty graph\n",
        "G = nx.MultiGraph()\n",
        "\n",
        "# Add nodes to the graph for each unique card_id, merchant_name\n",
        "G.add_nodes_from(df[\"card_id\"].unique(), type='card_id')\n",
        "G.add_nodes_from(df[\"Merchant Name\"].unique(), type='merchant_name')"
      ],
      "metadata": {
        "id": "QS4YIV8Lj8w5"
      },
      "execution_count": 26,
      "outputs": []
    },
    {
      "cell_type": "code",
      "source": [
        "# Add nodes to the graph for each unique card_id and merchant_name\n",
        "for _, row in df.iterrows():\n",
        "    # Add card_id node with its properties\n",
        "    G.add_node(row['card_id'],\n",
        "               person=row['Person'],\n",
        "               current_age=row['Current Age'],\n",
        "               retirement_age=row['Retirement Age'],\n",
        "               birth_year=row['Birth Year'],\n",
        "               birth_month=row['Birth Month'],\n",
        "               gender_0=row['Gender_Female'],\n",
        "               gender_1=row['Gender_Male'],\n",
        "               address=row['Address'],\n",
        "               city=row['City'],\n",
        "               state=row['State'],\n",
        "               zipcode=row['Zipcode'],\n",
        "               latitude=row['Latitude'],\n",
        "               longitude=row['Longitude'],\n",
        "               per_capita_income=row['Per Capita Income - Zipcode'],\n",
        "               yearly_income=row['Yearly Income - Person'],\n",
        "               total_debt=row['Total Debt'],\n",
        "               fico_score=row['FICO Score'],\n",
        "               num_credit_cards=row['Num Credit Cards'])\n",
        "     # Add merchant_name node with its properties\n",
        "    G.add_node(row['Merchant Name'],\n",
        "               merchant_city=row['Merchant City'],\n",
        "               mcc=row['MCC'])"
      ],
      "metadata": {
        "id": "oVwBPLIckzdl"
      },
      "execution_count": 27,
      "outputs": []
    },
    {
      "cell_type": "code",
      "source": [
        "# Add edges and properties to the edges\n",
        "for _, row in df.iterrows():\n",
        "    G.add_edge(row['card_id'], row['Merchant Name'],\n",
        "               year=row['Year'],\n",
        "               month=row['Month'],\n",
        "               day=row['Day'],\n",
        "               hour=row['Hour'],\n",
        "               minute=row['Minute'],\n",
        "               amount=row['Amount'],\n",
        "               use_chip=row['Use Chip'],\n",
        "               errors=row['Errors?'],\n",
        "               is_fraud=row['Is Fraud?'])"
      ],
      "metadata": {
        "id": "r5Hb1Yc_lZ9N"
      },
      "execution_count": 28,
      "outputs": []
    },
    {
      "cell_type": "code",
      "source": [
        "# Get the number of nodes and edges in the graph\n",
        "num_nodes = G.number_of_nodes()\n",
        "num_edges = G.number_of_edges()\n",
        "\n",
        "# Print the number of nodes and edges\n",
        "print(\"Number of nodes:\", num_nodes)\n",
        "print(\"Number of edges:\", num_edges)"
      ],
      "metadata": {
        "colab": {
          "base_uri": "https://localhost:8080/"
        },
        "id": "TROKOR9pldW5",
        "outputId": "bf98f642-27ea-4751-d202-57af668e39e3"
      },
      "execution_count": 29,
      "outputs": [
        {
          "output_type": "stream",
          "name": "stdout",
          "text": [
            "Number of nodes: 16283\n",
            "Number of edges: 100000\n"
          ]
        }
      ]
    },
    {
      "cell_type": "code",
      "source": [
        "# Convert the graph to an adjacency matrix\n",
        "adj_matrix = nx.adjacency_matrix(G).todense()"
      ],
      "metadata": {
        "id": "GGGAGdJNllzM"
      },
      "execution_count": 30,
      "outputs": []
    },
    {
      "cell_type": "code",
      "source": [
        "adj_matrix.shape"
      ],
      "metadata": {
        "colab": {
          "base_uri": "https://localhost:8080/"
        },
        "id": "J3kBCZXGln7c",
        "outputId": "5eaac044-c215-4bfa-b1fa-7d84b8d2edfa"
      },
      "execution_count": 31,
      "outputs": [
        {
          "output_type": "execute_result",
          "data": {
            "text/plain": [
              "(16283, 16283)"
            ]
          },
          "metadata": {},
          "execution_count": 31
        }
      ]
    },
    {
      "cell_type": "code",
      "source": [
        "# Get a small sample of the nodes in the graph\n",
        "sample_nodes = list(G.nodes())[:10]\n",
        "\n",
        "# Retrieve the properties of the sample nodes\n",
        "node_properties = nx.get_node_attributes(G, 'type')\n",
        "\n",
        "# Print the properties of the sample nodes\n",
        "for node in sample_nodes:\n",
        "    print(f\"Node: {node}, Properties: {node_properties[node]}\")"
      ],
      "metadata": {
        "colab": {
          "base_uri": "https://localhost:8080/"
        },
        "id": "uLH3oKkAlqgN",
        "outputId": "94747d4a-d9cc-4b69-a7c5-99f6db96d087"
      },
      "execution_count": 36,
      "outputs": [
        {
          "output_type": "stream",
          "name": "stdout",
          "text": [
            "Node: 907_3, Properties: card_id\n",
            "Node: 1117_2, Properties: card_id\n",
            "Node: 545_2, Properties: card_id\n",
            "Node: 478_0, Properties: card_id\n",
            "Node: 1953_0, Properties: card_id\n",
            "Node: 162_0, Properties: card_id\n",
            "Node: 1687_1, Properties: card_id\n",
            "Node: 1449_1, Properties: card_id\n",
            "Node: 507_0, Properties: card_id\n",
            "Node: 605_1, Properties: card_id\n"
          ]
        }
      ]
    },
    {
      "cell_type": "code",
      "source": [
        "# Prepare the data for input into the model\n",
        "edge_list = list(G.edges(data=True))"
      ],
      "metadata": {
        "id": "ULWO4gycpfKO"
      },
      "execution_count": 44,
      "outputs": []
    },
    {
      "cell_type": "code",
      "source": [
        "list(edge_list[0][2].values())"
      ],
      "metadata": {
        "colab": {
          "base_uri": "https://localhost:8080/"
        },
        "id": "IDLbMi4_puz-",
        "outputId": "7187c707-adc6-4fc9-b57e-417b9ae10021"
      },
      "execution_count": 48,
      "outputs": [
        {
          "output_type": "execute_result",
          "data": {
            "text/plain": [
              "[2018, 8, 8, '22', '18', 86.89, 0, 9, 0]"
            ]
          },
          "metadata": {},
          "execution_count": 48
        }
      ]
    },
    {
      "cell_type": "code",
      "source": [
        "class FraudGNN(nn.Module):\n",
        "    def __init__(self, input_dim, hidden_dim):\n",
        "        super(FraudGNN, self).__init__()\n",
        "        self.fc1 = nn.Linear(input_dim, hidden_dim)\n",
        "        self.fc2 = nn.Linear(hidden_dim, 1)\n",
        "\n",
        "    def forward(self, x):\n",
        "        x = self.fc1(x)\n",
        "        x = F.relu(x)\n",
        "        x = self.fc2(x)\n",
        "        return x.unsqueeze(-1)\n",
        "\n",
        "# Prepare the data for input into the model\n",
        "edge_list = list(G.edges(data=True))\n",
        "x = []\n",
        "for edge in edge_list:\n",
        "    edge_values = list(edge[2].values())\n",
        "    edge_values = [float(i[0]) if isinstance(i, tuple) else float(i) for i in edge_values]\n",
        "    x.append(edge_values)\n",
        "\n",
        "x = torch.tensor(x, dtype=torch.float)"
      ],
      "metadata": {
        "id": "3KV_5a7olvM2"
      },
      "execution_count": 70,
      "outputs": []
    },
    {
      "cell_type": "code",
      "source": [
        "# Define the model\n",
        "input_dim = len(x[0])\n",
        "hidden_dim = 16\n",
        "model = FraudGNN(input_dim, hidden_dim)\n",
        "num_epochs=201\n",
        "\n",
        "# Define the loss function and optimizer\n",
        "criterion = nn.BCEWithLogitsLoss()\n",
        "optimizer = torch.optim.Adam(model.parameters(), lr=0.01)"
      ],
      "metadata": {
        "id": "wK1EtyrRmFiO"
      },
      "execution_count": 51,
      "outputs": []
    },
    {
      "cell_type": "code",
      "source": [
        "target = torch.tensor(df['Is Fraud?'].values, dtype=torch.float)"
      ],
      "metadata": {
        "id": "tlh0sSpaqtxE"
      },
      "execution_count": 53,
      "outputs": []
    },
    {
      "cell_type": "code",
      "source": [
        "# Train the model\n",
        "for i in range(num_epochs):\n",
        "    # Forward pass\n",
        "    output = model(x)\n",
        "    # Compute the loss\n",
        "    loss = criterion(output, target)\n",
        "    if i % 20 == 0:\n",
        "        print(f'Epoch: {i}, Loss: {loss.item()}')\n",
        "    # Zero the gradients\n",
        "    optimizer.zero_grad()\n",
        "    # Perform backpropagation\n",
        "    loss.backward()\n",
        "    # Update the parameters\n",
        "    optimizer.step()"
      ],
      "metadata": {
        "colab": {
          "base_uri": "https://localhost:8080/"
        },
        "id": "BXhwix0SmL__",
        "outputId": "bca7ea6f-110d-4465-afa5-02d1f6f681e3"
      },
      "execution_count": 54,
      "outputs": [
        {
          "output_type": "stream",
          "name": "stdout",
          "text": [
            "Epoch: 0, Loss: 300.080810546875\n",
            "Epoch: 20, Loss: 0.5337333083152771\n",
            "Epoch: 40, Loss: 0.6694856286048889\n",
            "Epoch: 60, Loss: 0.6805036664009094\n",
            "Epoch: 80, Loss: 0.6705831289291382\n",
            "Epoch: 100, Loss: 0.6563121676445007\n",
            "Epoch: 120, Loss: 0.6403424143791199\n",
            "Epoch: 140, Loss: 0.6232150197029114\n",
            "Epoch: 160, Loss: 0.6051456928253174\n",
            "Epoch: 180, Loss: 0.586285412311554\n",
            "Epoch: 200, Loss: 0.566760241985321\n"
          ]
        }
      ]
    },
    {
      "cell_type": "code",
      "source": [
        "from sklearn.metrics import roc_auc_score, average_precision_score\n",
        "from sklearn.metrics import f1_score"
      ],
      "metadata": {
        "id": "Nu4Lq3A3qsMI"
      },
      "execution_count": 57,
      "outputs": []
    },
    {
      "cell_type": "code",
      "source": [
        "# 训练模型\n",
        "for i in range(num_epochs):\n",
        "    # 前向传播\n",
        "    output = model(x)\n",
        "    # 计算损失\n",
        "    loss = criterion(output, target)\n",
        "\n",
        "    if i % 20 == 0:\n",
        "        # 计算 AUC 和 AP\n",
        "        with torch.no_grad():\n",
        "            output_prob = torch.sigmoid(output)\n",
        "            auc = roc_auc_score(target.cpu().numpy(), output_prob.cpu().numpy())\n",
        "            ap = average_precision_score(target.cpu().numpy(), output_prob.cpu().numpy())\n",
        "            f1 = f1_score(target.cpu().numpy(), (output_prob > 0.5).cpu().numpy())\n",
        "            auroc = roc_auc_score(target.cpu().numpy(), output_prob.cpu().numpy())\n",
        "        print(f'Epoch: {i}, Loss: {loss.item()}, AUC: {auc}, AP: {ap}, F1: {f1}, AUROC: {auroc}')\n",
        "\n",
        "    # 梯度归零\n",
        "    optimizer.zero_grad()\n",
        "    # 反向传播\n",
        "    loss.backward()\n",
        "    # 更新参数\n",
        "    optimizer.step()"
      ],
      "metadata": {
        "colab": {
          "base_uri": "https://localhost:8080/"
        },
        "id": "aHfMMw0rrCck",
        "outputId": "88b32887-30f6-4ed1-faff-c449f1815f80"
      },
      "execution_count": 60,
      "outputs": [
        {
          "output_type": "stream",
          "name": "stdout",
          "text": [
            "Epoch: 0, Loss: 0.0499044768512249, AUC: 0.4954769730156934, AP: 0.0011641328468825632, F1: 0.0, AUROC: 0.4954769730156934\n",
            "Epoch: 20, Loss: 0.035791102796792984, AUC: 0.4950136959387783, AP: 0.001146950335864896, F1: 0.0, AUROC: 0.4950136959387783\n",
            "Epoch: 40, Loss: 0.021634316071867943, AUC: 0.494544043881769, AP: 0.0011283698790969857, F1: 0.0, AUROC: 0.494544043881769\n",
            "Epoch: 60, Loss: 0.010188007727265358, AUC: 0.49433995894855104, AP: 0.0011166824662758319, F1: 0.0, AUROC: 0.49433995894855104\n",
            "Epoch: 80, Loss: 0.009905608370900154, AUC: 0.4944787110320784, AP: 0.0011339505099262697, F1: 0.0, AUROC: 0.4944787110320784\n",
            "Epoch: 100, Loss: 0.009745468385517597, AUC: 0.4932762357599417, AP: 0.0011527718530970326, F1: 0.0, AUROC: 0.4932762357599417\n",
            "Epoch: 120, Loss: 0.009551087394356728, AUC: 0.48852918598520956, AP: 0.0010947360608928004, F1: 0.0, AUROC: 0.48852918598520956\n",
            "Epoch: 140, Loss: 0.009411747567355633, AUC: 0.4883372520207617, AP: 0.0011012870024908596, F1: 0.0, AUROC: 0.4883372520207617\n",
            "Epoch: 160, Loss: 0.009375648573040962, AUC: 0.4866840784914932, AP: 0.0011184250489559462, F1: 0.0, AUROC: 0.4866840784914932\n",
            "Epoch: 180, Loss: 0.009353702887892723, AUC: 0.48764361995842836, AP: 0.0011612107229543162, F1: 0.0, AUROC: 0.48764361995842836\n",
            "Epoch: 200, Loss: 0.009336937218904495, AUC: 0.4886758960975795, AP: 0.0011892372577557175, F1: 0.0, AUROC: 0.4886758960975795\n"
          ]
        }
      ]
    },
    {
      "cell_type": "code",
      "source": [
        "from sklearn.utils.class_weight import compute_class_weight\n",
        "import numpy as np\n",
        "\n",
        "# 假设 y 是您的标签\n",
        "class_weights = compute_class_weight('balanced', classes=np.unique(y), y=y)\n",
        "class_weights = torch.tensor(class_weights, dtype=torch.float32)"
      ],
      "metadata": {
        "colab": {
          "base_uri": "https://localhost:8080/",
          "height": 190
        },
        "id": "-l98I9Fe8PJj",
        "outputId": "477f740e-696d-4a37-998b-9b80f220efc5"
      },
      "execution_count": 83,
      "outputs": [
        {
          "output_type": "error",
          "ename": "NameError",
          "evalue": "name 'y' is not defined",
          "traceback": [
            "\u001b[0;31m---------------------------------------------------------------------------\u001b[0m",
            "\u001b[0;31mNameError\u001b[0m                                 Traceback (most recent call last)",
            "\u001b[0;32m<ipython-input-83-6d49b6ae7b6b>\u001b[0m in \u001b[0;36m<cell line: 5>\u001b[0;34m()\u001b[0m\n\u001b[1;32m      3\u001b[0m \u001b[0;34m\u001b[0m\u001b[0m\n\u001b[1;32m      4\u001b[0m \u001b[0;31m# 假设 y 是您的标签\u001b[0m\u001b[0;34m\u001b[0m\u001b[0;34m\u001b[0m\u001b[0m\n\u001b[0;32m----> 5\u001b[0;31m \u001b[0mclass_weights\u001b[0m \u001b[0;34m=\u001b[0m \u001b[0mcompute_class_weight\u001b[0m\u001b[0;34m(\u001b[0m\u001b[0;34m'balanced'\u001b[0m\u001b[0;34m,\u001b[0m \u001b[0mclasses\u001b[0m\u001b[0;34m=\u001b[0m\u001b[0mnp\u001b[0m\u001b[0;34m.\u001b[0m\u001b[0munique\u001b[0m\u001b[0;34m(\u001b[0m\u001b[0my\u001b[0m\u001b[0;34m)\u001b[0m\u001b[0;34m,\u001b[0m \u001b[0my\u001b[0m\u001b[0;34m=\u001b[0m\u001b[0my\u001b[0m\u001b[0;34m)\u001b[0m\u001b[0;34m\u001b[0m\u001b[0;34m\u001b[0m\u001b[0m\n\u001b[0m\u001b[1;32m      6\u001b[0m \u001b[0mclass_weights\u001b[0m \u001b[0;34m=\u001b[0m \u001b[0mtorch\u001b[0m\u001b[0;34m.\u001b[0m\u001b[0mtensor\u001b[0m\u001b[0;34m(\u001b[0m\u001b[0mclass_weights\u001b[0m\u001b[0;34m,\u001b[0m \u001b[0mdtype\u001b[0m\u001b[0;34m=\u001b[0m\u001b[0mtorch\u001b[0m\u001b[0;34m.\u001b[0m\u001b[0mfloat32\u001b[0m\u001b[0;34m)\u001b[0m\u001b[0;34m\u001b[0m\u001b[0;34m\u001b[0m\u001b[0m\n",
            "\u001b[0;31mNameError\u001b[0m: name 'y' is not defined"
          ]
        }
      ]
    },
    {
      "cell_type": "code",
      "source": [],
      "metadata": {
        "id": "3ttwUmIO8PL4"
      },
      "execution_count": null,
      "outputs": []
    },
    {
      "cell_type": "code",
      "source": [],
      "metadata": {
        "id": "x90k6SFU8PPj"
      },
      "execution_count": null,
      "outputs": []
    },
    {
      "cell_type": "code",
      "source": [],
      "metadata": {
        "id": "sizmUPUk8PTH"
      },
      "execution_count": null,
      "outputs": []
    },
    {
      "cell_type": "code",
      "source": [],
      "metadata": {
        "id": "79thu7Nr8PVt"
      },
      "execution_count": null,
      "outputs": []
    },
    {
      "cell_type": "code",
      "source": [],
      "metadata": {
        "id": "U9-oRkEW8PXw"
      },
      "execution_count": null,
      "outputs": []
    },
    {
      "cell_type": "code",
      "source": [],
      "metadata": {
        "id": "ucDHIzzu8Pa_"
      },
      "execution_count": null,
      "outputs": []
    },
    {
      "cell_type": "code",
      "source": [],
      "metadata": {
        "id": "PZXceBXV8Pec"
      },
      "execution_count": null,
      "outputs": []
    },
    {
      "cell_type": "code",
      "source": [],
      "metadata": {
        "id": "oSNBx0BG8Pih"
      },
      "execution_count": null,
      "outputs": []
    },
    {
      "cell_type": "code",
      "source": [],
      "metadata": {
        "id": "0W9N6_EC8Pkw"
      },
      "execution_count": null,
      "outputs": []
    },
    {
      "cell_type": "code",
      "source": [
        "pip install imbalanced-learn"
      ],
      "metadata": {
        "colab": {
          "base_uri": "https://localhost:8080/"
        },
        "id": "LHBklHdnrE4j",
        "outputId": "49539f0c-3c4a-4a1a-f217-646d378dd097"
      },
      "execution_count": 61,
      "outputs": [
        {
          "output_type": "stream",
          "name": "stdout",
          "text": [
            "Requirement already satisfied: imbalanced-learn in /usr/local/lib/python3.10/dist-packages (0.12.3)\n",
            "Requirement already satisfied: numpy>=1.17.3 in /usr/local/lib/python3.10/dist-packages (from imbalanced-learn) (1.26.4)\n",
            "Requirement already satisfied: scipy>=1.5.0 in /usr/local/lib/python3.10/dist-packages (from imbalanced-learn) (1.13.1)\n",
            "Requirement already satisfied: scikit-learn>=1.0.2 in /usr/local/lib/python3.10/dist-packages (from imbalanced-learn) (1.3.2)\n",
            "Requirement already satisfied: joblib>=1.1.1 in /usr/local/lib/python3.10/dist-packages (from imbalanced-learn) (1.4.2)\n",
            "Requirement already satisfied: threadpoolctl>=2.0.0 in /usr/local/lib/python3.10/dist-packages (from imbalanced-learn) (3.5.0)\n"
          ]
        }
      ]
    },
    {
      "cell_type": "code",
      "source": [
        "import numpy as np\n",
        "from imblearn.over_sampling import SMOTE, ADASYN\n",
        "from imblearn.under_sampling import RandomUnderSampler\n",
        "from imblearn.combine import SMOTETomek, SMOTEENN\n",
        "import torch\n",
        "from sklearn.model_selection import train_test_split\n",
        "\n",
        "# 假设 x 是您的特征，target 是您的标签\n",
        "x_np = x.cpu().numpy()\n",
        "target_np = target.cpu().numpy()\n",
        "\n",
        "smote_enn = SMOTEENN(random_state=42)\n",
        "X_resampled_smote_enn, y_resampled_smote_enn = smote_enn.fit_resample(x_np, target_np)\n",
        "\n",
        "\n",
        "# 选择一种重采样方法（这里以SMOTE为例）\n",
        "X_resampled, y_resampled = X_resampled_smote_enn, y_resampled_smote_enn\n",
        "\n",
        "# 将重采样后的数据转回PyTorch张量\n",
        "x_resampled = torch.tensor(X_resampled, dtype=torch.float32)\n",
        "target_resampled = torch.tensor(y_resampled, dtype=torch.float32)\n",
        "\n",
        "# 划分训练集和测试集\n",
        "X_train, X_test, y_train, y_test = train_test_split(x_resampled, target_resampled, test_size=0.2, random_state=42, stratify=target_resampled)\n",
        "\n",
        "# 打印重采样前后的类别分布\n",
        "print(\"原始数据集类别分布：\", np.bincount(target_np.astype(int)))\n",
        "print(\"重采样后数据集类别分布：\", np.bincount(y_resampled.astype(int)))"
      ],
      "metadata": {
        "colab": {
          "base_uri": "https://localhost:8080/"
        },
        "id": "Yy0y3gzOwSnz",
        "outputId": "ee1d7121-dafa-4940-de12-aa46d6543155"
      },
      "execution_count": 75,
      "outputs": [
        {
          "output_type": "stream",
          "name": "stdout",
          "text": [
            "原始数据集类别分布： [99883   117]\n",
            "重采样后数据集类别分布： [96408 99881]\n"
          ]
        }
      ]
    },
    {
      "cell_type": "code",
      "source": [
        "# 更新您的数据加载器\n",
        "train_dataset = torch.utils.data.TensorDataset(X_train, y_train)\n",
        "train_loader = torch.utils.data.DataLoader(train_dataset, batch_size=64, shuffle=True)\n",
        "\n",
        "# 更新您的模型训练循环\n",
        "model = FraudGNN(input_dim=X_train.shape[1], hidden_dim=16)  # 更新input_dim\n",
        "criterion = nn.BCEWithLogitsLoss()\n",
        "optimizer = torch.optim.Adam(model.parameters(), lr=0.01)\n"
      ],
      "metadata": {
        "id": "2CSAEBYwwWUH"
      },
      "execution_count": 76,
      "outputs": []
    },
    {
      "cell_type": "code",
      "source": [
        "num_epochs = 100\n",
        "for epoch in range(num_epochs):\n",
        "    model.train()\n",
        "    for batch_x, batch_y in train_loader:\n",
        "        optimizer.zero_grad()\n",
        "        output = model(batch_x)\n",
        "        loss = criterion(output.squeeze(), batch_y)\n",
        "        loss.backward()\n",
        "        optimizer.step()\n",
        "\n",
        "    if epoch % 10 == 0:\n",
        "        model.eval()\n",
        "        with torch.no_grad():\n",
        "            test_output = model(X_test).squeeze()  # 移除所有大小为1的维度\n",
        "            test_loss = criterion(test_output, y_test.squeeze())\n",
        "            test_auc = roc_auc_score(y_test.squeeze().numpy(), torch.sigmoid(test_output).numpy())\n",
        "            print(f\"Epoch {epoch}, Test Loss: {test_loss.item():.4f}, Test AUC: {test_auc:.4f}\")\n",
        "\n",
        "# 最终评估\n",
        "model.eval()\n",
        "with torch.no_grad():\n",
        "    final_output = model(X_test)\n",
        "    final_probs = torch.sigmoid(final_output).numpy()\n",
        "    final_auc = roc_auc_score(y_test.numpy(), final_probs)\n",
        "    final_ap = average_precision_score(y_test.numpy(), final_probs)\n",
        "    print(f\"Final Test AUC: {final_auc:.4f}, AP: {final_ap:.4f}\")"
      ],
      "metadata": {
        "colab": {
          "base_uri": "https://localhost:8080/",
          "height": 537
        },
        "id": "0dQ_qek0xNMs",
        "outputId": "829cd785-4a6e-4942-c134-07dbd3500c11"
      },
      "execution_count": 82,
      "outputs": [
        {
          "output_type": "stream",
          "name": "stdout",
          "text": [
            "Epoch 0, Test Loss: 0.6834, Test AUC: 0.5736\n",
            "Epoch 10, Test Loss: 0.6815, Test AUC: 0.5302\n",
            "Epoch 20, Test Loss: 0.6776, Test AUC: 0.5241\n",
            "Epoch 30, Test Loss: 0.7274, Test AUC: 0.5299\n",
            "Epoch 40, Test Loss: 0.6716, Test AUC: 0.5316\n",
            "Epoch 50, Test Loss: 0.6707, Test AUC: 0.5327\n",
            "Epoch 60, Test Loss: 0.6681, Test AUC: 0.5361\n",
            "Epoch 70, Test Loss: 0.6738, Test AUC: 0.5334\n",
            "Epoch 80, Test Loss: 0.6706, Test AUC: 0.5327\n",
            "Epoch 90, Test Loss: 0.6834, Test AUC: 0.5147\n"
          ]
        },
        {
          "output_type": "error",
          "ename": "ValueError",
          "evalue": "Found array with dim 3. None expected <= 2.",
          "traceback": [
            "\u001b[0;31m---------------------------------------------------------------------------\u001b[0m",
            "\u001b[0;31mValueError\u001b[0m                                Traceback (most recent call last)",
            "\u001b[0;32m<ipython-input-82-0570b77b5c07>\u001b[0m in \u001b[0;36m<cell line: 21>\u001b[0;34m()\u001b[0m\n\u001b[1;32m     22\u001b[0m     \u001b[0mfinal_output\u001b[0m \u001b[0;34m=\u001b[0m \u001b[0mmodel\u001b[0m\u001b[0;34m(\u001b[0m\u001b[0mX_test\u001b[0m\u001b[0;34m)\u001b[0m\u001b[0;34m\u001b[0m\u001b[0;34m\u001b[0m\u001b[0m\n\u001b[1;32m     23\u001b[0m     \u001b[0mfinal_probs\u001b[0m \u001b[0;34m=\u001b[0m \u001b[0mtorch\u001b[0m\u001b[0;34m.\u001b[0m\u001b[0msigmoid\u001b[0m\u001b[0;34m(\u001b[0m\u001b[0mfinal_output\u001b[0m\u001b[0;34m)\u001b[0m\u001b[0;34m.\u001b[0m\u001b[0mnumpy\u001b[0m\u001b[0;34m(\u001b[0m\u001b[0;34m)\u001b[0m\u001b[0;34m\u001b[0m\u001b[0;34m\u001b[0m\u001b[0m\n\u001b[0;32m---> 24\u001b[0;31m     \u001b[0mfinal_auc\u001b[0m \u001b[0;34m=\u001b[0m \u001b[0mroc_auc_score\u001b[0m\u001b[0;34m(\u001b[0m\u001b[0my_test\u001b[0m\u001b[0;34m.\u001b[0m\u001b[0mnumpy\u001b[0m\u001b[0;34m(\u001b[0m\u001b[0;34m)\u001b[0m\u001b[0;34m,\u001b[0m \u001b[0mfinal_probs\u001b[0m\u001b[0;34m)\u001b[0m\u001b[0;34m\u001b[0m\u001b[0;34m\u001b[0m\u001b[0m\n\u001b[0m\u001b[1;32m     25\u001b[0m     \u001b[0mfinal_ap\u001b[0m \u001b[0;34m=\u001b[0m \u001b[0maverage_precision_score\u001b[0m\u001b[0;34m(\u001b[0m\u001b[0my_test\u001b[0m\u001b[0;34m.\u001b[0m\u001b[0mnumpy\u001b[0m\u001b[0;34m(\u001b[0m\u001b[0;34m)\u001b[0m\u001b[0;34m,\u001b[0m \u001b[0mfinal_probs\u001b[0m\u001b[0;34m)\u001b[0m\u001b[0;34m\u001b[0m\u001b[0;34m\u001b[0m\u001b[0m\n\u001b[1;32m     26\u001b[0m     \u001b[0mprint\u001b[0m\u001b[0;34m(\u001b[0m\u001b[0;34mf\"Final Test AUC: {final_auc:.4f}, AP: {final_ap:.4f}\"\u001b[0m\u001b[0;34m)\u001b[0m\u001b[0;34m\u001b[0m\u001b[0;34m\u001b[0m\u001b[0m\n",
            "\u001b[0;32m/usr/local/lib/python3.10/dist-packages/sklearn/utils/_param_validation.py\u001b[0m in \u001b[0;36mwrapper\u001b[0;34m(*args, **kwargs)\u001b[0m\n\u001b[1;32m    212\u001b[0m                     )\n\u001b[1;32m    213\u001b[0m                 ):\n\u001b[0;32m--> 214\u001b[0;31m                     \u001b[0;32mreturn\u001b[0m \u001b[0mfunc\u001b[0m\u001b[0;34m(\u001b[0m\u001b[0;34m*\u001b[0m\u001b[0margs\u001b[0m\u001b[0;34m,\u001b[0m \u001b[0;34m**\u001b[0m\u001b[0mkwargs\u001b[0m\u001b[0;34m)\u001b[0m\u001b[0;34m\u001b[0m\u001b[0;34m\u001b[0m\u001b[0m\n\u001b[0m\u001b[1;32m    215\u001b[0m             \u001b[0;32mexcept\u001b[0m \u001b[0mInvalidParameterError\u001b[0m \u001b[0;32mas\u001b[0m \u001b[0me\u001b[0m\u001b[0;34m:\u001b[0m\u001b[0;34m\u001b[0m\u001b[0;34m\u001b[0m\u001b[0m\n\u001b[1;32m    216\u001b[0m                 \u001b[0;31m# When the function is just a wrapper around an estimator, we allow\u001b[0m\u001b[0;34m\u001b[0m\u001b[0;34m\u001b[0m\u001b[0m\n",
            "\u001b[0;32m/usr/local/lib/python3.10/dist-packages/sklearn/metrics/_ranking.py\u001b[0m in \u001b[0;36mroc_auc_score\u001b[0;34m(y_true, y_score, average, sample_weight, max_fpr, multi_class, labels)\u001b[0m\n\u001b[1;32m    604\u001b[0m     \u001b[0my_type\u001b[0m \u001b[0;34m=\u001b[0m \u001b[0mtype_of_target\u001b[0m\u001b[0;34m(\u001b[0m\u001b[0my_true\u001b[0m\u001b[0;34m,\u001b[0m \u001b[0minput_name\u001b[0m\u001b[0;34m=\u001b[0m\u001b[0;34m\"y_true\"\u001b[0m\u001b[0;34m)\u001b[0m\u001b[0;34m\u001b[0m\u001b[0;34m\u001b[0m\u001b[0m\n\u001b[1;32m    605\u001b[0m     \u001b[0my_true\u001b[0m \u001b[0;34m=\u001b[0m \u001b[0mcheck_array\u001b[0m\u001b[0;34m(\u001b[0m\u001b[0my_true\u001b[0m\u001b[0;34m,\u001b[0m \u001b[0mensure_2d\u001b[0m\u001b[0;34m=\u001b[0m\u001b[0;32mFalse\u001b[0m\u001b[0;34m,\u001b[0m \u001b[0mdtype\u001b[0m\u001b[0;34m=\u001b[0m\u001b[0;32mNone\u001b[0m\u001b[0;34m)\u001b[0m\u001b[0;34m\u001b[0m\u001b[0;34m\u001b[0m\u001b[0m\n\u001b[0;32m--> 606\u001b[0;31m     \u001b[0my_score\u001b[0m \u001b[0;34m=\u001b[0m \u001b[0mcheck_array\u001b[0m\u001b[0;34m(\u001b[0m\u001b[0my_score\u001b[0m\u001b[0;34m,\u001b[0m \u001b[0mensure_2d\u001b[0m\u001b[0;34m=\u001b[0m\u001b[0;32mFalse\u001b[0m\u001b[0;34m)\u001b[0m\u001b[0;34m\u001b[0m\u001b[0;34m\u001b[0m\u001b[0m\n\u001b[0m\u001b[1;32m    607\u001b[0m \u001b[0;34m\u001b[0m\u001b[0m\n\u001b[1;32m    608\u001b[0m     if y_type == \"multiclass\" or (\n",
            "\u001b[0;32m/usr/local/lib/python3.10/dist-packages/sklearn/utils/validation.py\u001b[0m in \u001b[0;36mcheck_array\u001b[0;34m(array, accept_sparse, accept_large_sparse, dtype, order, copy, force_all_finite, ensure_2d, allow_nd, ensure_min_samples, ensure_min_features, estimator, input_name)\u001b[0m\n\u001b[1;32m    949\u001b[0m             )\n\u001b[1;32m    950\u001b[0m         \u001b[0;32mif\u001b[0m \u001b[0;32mnot\u001b[0m \u001b[0mallow_nd\u001b[0m \u001b[0;32mand\u001b[0m \u001b[0marray\u001b[0m\u001b[0;34m.\u001b[0m\u001b[0mndim\u001b[0m \u001b[0;34m>=\u001b[0m \u001b[0;36m3\u001b[0m\u001b[0;34m:\u001b[0m\u001b[0;34m\u001b[0m\u001b[0;34m\u001b[0m\u001b[0m\n\u001b[0;32m--> 951\u001b[0;31m             raise ValueError(\n\u001b[0m\u001b[1;32m    952\u001b[0m                 \u001b[0;34m\"Found array with dim %d. %s expected <= 2.\"\u001b[0m\u001b[0;34m\u001b[0m\u001b[0;34m\u001b[0m\u001b[0m\n\u001b[1;32m    953\u001b[0m                 \u001b[0;34m%\u001b[0m \u001b[0;34m(\u001b[0m\u001b[0marray\u001b[0m\u001b[0;34m.\u001b[0m\u001b[0mndim\u001b[0m\u001b[0;34m,\u001b[0m \u001b[0mestimator_name\u001b[0m\u001b[0;34m)\u001b[0m\u001b[0;34m\u001b[0m\u001b[0;34m\u001b[0m\u001b[0m\n",
            "\u001b[0;31mValueError\u001b[0m: Found array with dim 3. None expected <= 2."
          ]
        }
      ]
    },
    {
      "cell_type": "code",
      "source": [],
      "metadata": {
        "id": "pJUf3e38xXAK"
      },
      "execution_count": null,
      "outputs": []
    }
  ]
}